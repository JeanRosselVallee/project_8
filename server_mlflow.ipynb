{
 "cells": [
  {
   "cell_type": "markdown",
   "id": "03cb5d23-1835-4133-8aad-354680b9cd48",
   "metadata": {},
   "source": [
    "# Liens utiles"
   ]
  },
  {
   "cell_type": "markdown",
   "id": "e3594557-8db1-45b5-ad86-fb0c3e818f15",
   "metadata": {},
   "source": [
    "- [Dépôt Git](https://github.com/JeanRosselVallee/project_8.git)\n",
    "- [Google Cloud VM](https://console.cloud.google.com/compute/instances/observability?project=ocr-p8-dashboard&tab=instances)\n",
    "- [Application Web](http://localhost:8501/)"
   ]
  },
  {
   "cell_type": "markdown",
   "id": "c777d4a4-52f5-4605-9545-2410420d6d23",
   "metadata": {},
   "source": [
    "# Initialisation"
   ]
  },
  {
   "cell_type": "code",
   "execution_count": 2,
   "id": "49be24b3-8023-4c88-8681-24883d85dd5e",
   "metadata": {},
   "outputs": [],
   "source": [
    "dir_in     = './data/in/'\n",
    "dir_out    = './data/out/'\n",
    "model_path = './data/model/'"
   ]
  },
  {
   "cell_type": "code",
   "execution_count": 3,
   "id": "8320eac9-9bf5-4b49-87b2-eb054e764c03",
   "metadata": {},
   "outputs": [
    {
     "name": "stdout",
     "output_type": "stream",
     "text": [
      "Note: you may need to restart the kernel to use updated packages.\n"
     ]
    }
   ],
   "source": [
    " pip install --quiet plotly mlflow xgboost"
   ]
  },
  {
   "cell_type": "code",
   "execution_count": 4,
   "id": "628b2207-4e18-42b1-8fff-7c843780e40f",
   "metadata": {},
   "outputs": [
    {
     "name": "stdout",
     "output_type": "stream",
     "text": [
      "mlflow==2.14.1\n",
      "cloudpickle==3.0.0\n",
      "numpy==1.26.4\n",
      "packaging==23.2\n",
      "pandas==2.2.2\n",
      "psutil==5.9.0\n",
      "pyyaml==6.0.1\n",
      "scikit-learn==1.5.0\n",
      "scipy==1.13.1\n",
      "xgboost==2.1.0"
     ]
    }
   ],
   "source": [
    "! cat ./data/model/requirements.txt"
   ]
  },
  {
   "cell_type": "code",
   "execution_count": 5,
   "id": "af29eff2-a1aa-4bac-981b-c895085f7d19",
   "metadata": {
    "scrolled": true
   },
   "outputs": [
    {
     "name": "stdout",
     "output_type": "stream",
     "text": [
      "\u001b[33m  DEPRECATION: psutil is being installed using the legacy 'setup.py install' method, because it does not have a 'pyproject.toml' and the 'wheel' package is not installed. pip 23.1 will enforce this behaviour change. A possible replacement is to enable the '--use-pep517' option. Discussion can be found at https://github.com/pypa/pip/issues/8559\u001b[0m\u001b[33m\n",
      "\u001b[0mNote: you may need to restart the kernel to use updated packages.\n"
     ]
    }
   ],
   "source": [
    " pip install --quiet -r ./data/model/requirements.txt"
   ]
  },
  {
   "cell_type": "code",
   "execution_count": 7,
   "id": "49c0eb91-dd63-49b2-a0e5-cd3463d87daa",
   "metadata": {},
   "outputs": [],
   "source": [
    "import pandas as pd\n",
    "import numpy as np\n",
    "import json\n",
    "import mlflow\n",
    "import matplotlib.pyplot as plt\n",
    "from matplotlib.colors import LinearSegmentedColormap"
   ]
  },
  {
   "cell_type": "markdown",
   "id": "d485068d-f2fc-44cd-a898-9e06a829e3a6",
   "metadata": {},
   "source": [
    "# Jeu de données"
   ]
  },
  {
   "cell_type": "markdown",
   "id": "ed785044-4814-4fbe-bd67-4a82b5625a8b",
   "metadata": {},
   "source": [
    "Les prédictions se feront sur le jeu de test parce que le modèle a été entraîné sur celui d'entraînement"
   ]
  },
  {
   "cell_type": "code",
   "execution_count": 8,
   "id": "4c6e1bdb-e3d1-488e-ad6e-49d3b4613037",
   "metadata": {},
   "outputs": [
    {
     "name": "stdout",
     "output_type": "stream",
     "text": [
      "33121 ./data/in/X_TN.csv\n",
      "2359 ./data/in/X_TP.csv\n",
      "48679 ./data/in/X_test_2.csv\n",
      "8 ./data/in/config.json\n",
      "48679 ./data/in/data.csv\n",
      "1 ./data/in/li_features.txt\n",
      "0 ./data/in/model_optimal_simplified.json\n",
      "48679 ./data/in/y_pred_4.csv\n",
      "48679 ./data/in/y_test_2.csv\n"
     ]
    }
   ],
   "source": [
    "! for file_i in ./data/in/* ; do wc -l $file_i ; done"
   ]
  },
  {
   "cell_type": "markdown",
   "id": "732bd023-0975-42a5-b0a4-b22f1b1be2be",
   "metadata": {},
   "source": [
    "### Chargement"
   ]
  },
  {
   "cell_type": "code",
   "execution_count": 9,
   "id": "d8e6de51-8e09-49ef-927b-798fd2f6212f",
   "metadata": {},
   "outputs": [],
   "source": [
    "def load_data(file):\n",
    "    df_contents = pd.read_csv(file)   .rename(columns={'Unnamed: 0': 'request_id'}) \\\n",
    "                                      .set_index('request_id')\n",
    "    return df_contents"
   ]
  },
  {
   "cell_type": "markdown",
   "id": "3c77c9c8-9885-40f9-80a5-30c631b95063",
   "metadata": {},
   "source": [
    "#### Attributs"
   ]
  },
  {
   "cell_type": "code",
   "execution_count": 10,
   "id": "da3369e2-f0e5-477a-8803-f67c386e1637",
   "metadata": {},
   "outputs": [
    {
     "data": {
      "text/plain": [
       "(48678, 125)"
      ]
     },
     "execution_count": 10,
     "metadata": {},
     "output_type": "execute_result"
    }
   ],
   "source": [
    "path_X = dir_in + 'X_test_2.csv'\n",
    "df_X = load_data(path_X)\n",
    "df_X.shape"
   ]
  },
  {
   "cell_type": "code",
   "execution_count": 11,
   "id": "ee65aa9f-c90a-4eda-9bd2-f8afe0b3c0af",
   "metadata": {},
   "outputs": [
    {
     "data": {
      "text/plain": [
       "['CODE_GENDER_M',\n",
       " 'EXT_SOURCE_3',\n",
       " 'EXT_SOURCE_2',\n",
       " 'NAME_EDUCATION_TYPE_Secondary_or_secondary_special',\n",
       " 'NAME_EDUCATION_TYPE_Higher_education',\n",
       " 'NAME_CONTRACT_TYPE_Cash_loans',\n",
       " 'NAME_INCOME_TYPE_Working']"
      ]
     },
     "execution_count": 11,
     "metadata": {},
     "output_type": "execute_result"
    }
   ],
   "source": [
    "with open(dir_in + 'li_features.txt') as f :\n",
    "    str_li_features = f.read()\n",
    "li_features = eval(str_li_features)\n",
    "li_features"
   ]
  },
  {
   "cell_type": "code",
   "execution_count": 12,
   "id": "0fa3daad-78c4-43d4-bc7f-4f03c7a915f6",
   "metadata": {},
   "outputs": [
    {
     "data": {
      "text/html": [
       "<div>\n",
       "<style scoped>\n",
       "    .dataframe tbody tr th:only-of-type {\n",
       "        vertical-align: middle;\n",
       "    }\n",
       "\n",
       "    .dataframe tbody tr th {\n",
       "        vertical-align: top;\n",
       "    }\n",
       "\n",
       "    .dataframe thead th {\n",
       "        text-align: right;\n",
       "    }\n",
       "</style>\n",
       "<table border=\"1\" class=\"dataframe\">\n",
       "  <thead>\n",
       "    <tr style=\"text-align: right;\">\n",
       "      <th></th>\n",
       "      <th>CODE_GENDER_M</th>\n",
       "      <th>EXT_SOURCE_3</th>\n",
       "      <th>EXT_SOURCE_2</th>\n",
       "      <th>NAME_EDUCATION_TYPE_Secondary_or_secondary_special</th>\n",
       "      <th>NAME_EDUCATION_TYPE_Higher_education</th>\n",
       "      <th>NAME_CONTRACT_TYPE_Cash_loans</th>\n",
       "      <th>NAME_INCOME_TYPE_Working</th>\n",
       "    </tr>\n",
       "    <tr>\n",
       "      <th>request_id</th>\n",
       "      <th></th>\n",
       "      <th></th>\n",
       "      <th></th>\n",
       "      <th></th>\n",
       "      <th></th>\n",
       "      <th></th>\n",
       "      <th></th>\n",
       "    </tr>\n",
       "  </thead>\n",
       "  <tbody>\n",
       "    <tr>\n",
       "      <th>155094</th>\n",
       "      <td>0</td>\n",
       "      <td>0.770087</td>\n",
       "      <td>0.607697</td>\n",
       "      <td>0</td>\n",
       "      <td>1</td>\n",
       "      <td>1</td>\n",
       "      <td>0</td>\n",
       "    </tr>\n",
       "  </tbody>\n",
       "</table>\n",
       "</div>"
      ],
      "text/plain": [
       "            CODE_GENDER_M  EXT_SOURCE_3  EXT_SOURCE_2  \\\n",
       "request_id                                              \n",
       "155094                  0      0.770087      0.607697   \n",
       "\n",
       "            NAME_EDUCATION_TYPE_Secondary_or_secondary_special  \\\n",
       "request_id                                                       \n",
       "155094                                                      0    \n",
       "\n",
       "            NAME_EDUCATION_TYPE_Higher_education  \\\n",
       "request_id                                         \n",
       "155094                                         1   \n",
       "\n",
       "            NAME_CONTRACT_TYPE_Cash_loans  NAME_INCOME_TYPE_Working  \n",
       "request_id                                                           \n",
       "155094                                  1                         0  "
      ]
     },
     "metadata": {},
     "output_type": "display_data"
    },
    {
     "data": {
      "text/plain": [
       "(48678, 7)"
      ]
     },
     "execution_count": 12,
     "metadata": {},
     "output_type": "execute_result"
    }
   ],
   "source": [
    "df_X = df_X[li_features]\n",
    "display(df_X.head(1))\n",
    "df_X.shape"
   ]
  },
  {
   "cell_type": "markdown",
   "id": "bc9e1ccb-6440-4ddd-a1ed-8cab9309d7d0",
   "metadata": {},
   "source": [
    "#### Cible"
   ]
  },
  {
   "cell_type": "code",
   "execution_count": 13,
   "id": "99100e90-da8e-4a47-95ce-f69e82e2b9f3",
   "metadata": {},
   "outputs": [
    {
     "data": {
      "text/html": [
       "<div>\n",
       "<style scoped>\n",
       "    .dataframe tbody tr th:only-of-type {\n",
       "        vertical-align: middle;\n",
       "    }\n",
       "\n",
       "    .dataframe tbody tr th {\n",
       "        vertical-align: top;\n",
       "    }\n",
       "\n",
       "    .dataframe thead th {\n",
       "        text-align: right;\n",
       "    }\n",
       "</style>\n",
       "<table border=\"1\" class=\"dataframe\">\n",
       "  <thead>\n",
       "    <tr style=\"text-align: right;\">\n",
       "      <th></th>\n",
       "      <th>TARGET</th>\n",
       "    </tr>\n",
       "    <tr>\n",
       "      <th>request_id</th>\n",
       "      <th></th>\n",
       "    </tr>\n",
       "  </thead>\n",
       "  <tbody>\n",
       "    <tr>\n",
       "      <th>155094</th>\n",
       "      <td>0</td>\n",
       "    </tr>\n",
       "  </tbody>\n",
       "</table>\n",
       "</div>"
      ],
      "text/plain": [
       "            TARGET\n",
       "request_id        \n",
       "155094           0"
      ]
     },
     "metadata": {},
     "output_type": "display_data"
    }
   ],
   "source": [
    "path_y = dir_in + 'y_test_2.csv'\n",
    "df_y = load_data(path_y)\n",
    "df_y.shape\n",
    "display(df_y.head(1))"
   ]
  },
  {
   "cell_type": "markdown",
   "id": "4de744b7-9472-4cd1-9220-b84f8c774927",
   "metadata": {},
   "source": [
    "### Jointure d'attributs et cible"
   ]
  },
  {
   "cell_type": "raw",
   "id": "2642d829-8080-41e9-bdde-d84b2973d59a",
   "metadata": {},
   "source": [
    "Les variables portent des noms simplifiés"
   ]
  },
  {
   "cell_type": "code",
   "execution_count": 14,
   "id": "974795f7-090d-427e-88ff-45e42ac33b54",
   "metadata": {},
   "outputs": [],
   "source": [
    "df_data = df_X.join(df_y)\n",
    "#df_data.columns = li_variables_simplified"
   ]
  },
  {
   "cell_type": "code",
   "execution_count": 15,
   "id": "89e6f536-5200-49fe-aa96-44a2e3913a33",
   "metadata": {},
   "outputs": [
    {
     "data": {
      "text/html": [
       "<div>\n",
       "<style scoped>\n",
       "    .dataframe tbody tr th:only-of-type {\n",
       "        vertical-align: middle;\n",
       "    }\n",
       "\n",
       "    .dataframe tbody tr th {\n",
       "        vertical-align: top;\n",
       "    }\n",
       "\n",
       "    .dataframe thead th {\n",
       "        text-align: right;\n",
       "    }\n",
       "</style>\n",
       "<table border=\"1\" class=\"dataframe\">\n",
       "  <thead>\n",
       "    <tr style=\"text-align: right;\">\n",
       "      <th></th>\n",
       "      <th>CODE_GENDER_M</th>\n",
       "      <th>EXT_SOURCE_3</th>\n",
       "      <th>EXT_SOURCE_2</th>\n",
       "      <th>NAME_EDUCATION_TYPE_Secondary_or_secondary_special</th>\n",
       "      <th>NAME_EDUCATION_TYPE_Higher_education</th>\n",
       "      <th>NAME_CONTRACT_TYPE_Cash_loans</th>\n",
       "      <th>NAME_INCOME_TYPE_Working</th>\n",
       "      <th>TARGET</th>\n",
       "    </tr>\n",
       "    <tr>\n",
       "      <th>request_id</th>\n",
       "      <th></th>\n",
       "      <th></th>\n",
       "      <th></th>\n",
       "      <th></th>\n",
       "      <th></th>\n",
       "      <th></th>\n",
       "      <th></th>\n",
       "      <th></th>\n",
       "    </tr>\n",
       "  </thead>\n",
       "  <tbody>\n",
       "    <tr>\n",
       "      <th>155094</th>\n",
       "      <td>0</td>\n",
       "      <td>0.770087</td>\n",
       "      <td>0.607697</td>\n",
       "      <td>0</td>\n",
       "      <td>1</td>\n",
       "      <td>1</td>\n",
       "      <td>0</td>\n",
       "      <td>0</td>\n",
       "    </tr>\n",
       "  </tbody>\n",
       "</table>\n",
       "</div>"
      ],
      "text/plain": [
       "            CODE_GENDER_M  EXT_SOURCE_3  EXT_SOURCE_2  \\\n",
       "request_id                                              \n",
       "155094                  0      0.770087      0.607697   \n",
       "\n",
       "            NAME_EDUCATION_TYPE_Secondary_or_secondary_special  \\\n",
       "request_id                                                       \n",
       "155094                                                      0    \n",
       "\n",
       "            NAME_EDUCATION_TYPE_Higher_education  \\\n",
       "request_id                                         \n",
       "155094                                         1   \n",
       "\n",
       "            NAME_CONTRACT_TYPE_Cash_loans  NAME_INCOME_TYPE_Working  TARGET  \n",
       "request_id                                                                   \n",
       "155094                                  1                         0       0  "
      ]
     },
     "metadata": {},
     "output_type": "display_data"
    },
    {
     "data": {
      "text/plain": [
       "(48678, 8)"
      ]
     },
     "execution_count": 15,
     "metadata": {},
     "output_type": "execute_result"
    }
   ],
   "source": [
    "display(df_data.head(1))\n",
    "df_data.shape"
   ]
  },
  {
   "cell_type": "raw",
   "id": "fe005a43-ba4d-4bd3-b32b-18b4256d1d01",
   "metadata": {},
   "source": [
    "Deux graphiques de features sélectionnées dans une liste déroulante, \n",
    "présentant la distribution de la feature selon les classes, \n",
    "ainsi que le positionnement de la valeur du client."
   ]
  },
  {
   "cell_type": "markdown",
   "id": "df0da274-33c0-416d-b08b-1c48ee8b8080",
   "metadata": {
    "id": "l1DafD3-zrSA"
   },
   "source": [
    "### Sauvegarde"
   ]
  },
  {
   "cell_type": "code",
   "execution_count": 16,
   "id": "ba13de19-289d-46a9-91b5-f6a8ff919117",
   "metadata": {},
   "outputs": [],
   "source": [
    "df_data.to_csv(dir_in + 'data.csv')"
   ]
  },
  {
   "cell_type": "code",
   "execution_count": 17,
   "id": "f1c41eba-ab65-4cc0-9737-2ca27d5d776a",
   "metadata": {},
   "outputs": [
    {
     "name": "stdout",
     "output_type": "stream",
     "text": [
      "./data/in//data.csv\n"
     ]
    }
   ],
   "source": [
    "ls $dir_in/data.csv"
   ]
  },
  {
   "cell_type": "code",
   "execution_count": 18,
   "id": "83334f29-1534-4440-81fa-587f5b984b8b",
   "metadata": {},
   "outputs": [
    {
     "name": "stdout",
     "output_type": "stream",
     "text": [
      "request_id,CODE_GENDER_M,EXT_SOURCE_3,EXT_SOURCE_2,NAME_EDUCATION_TYPE_Secondary_or_secondary_special,NAME_EDUCATION_TYPE_Higher_education,NAME_CONTRACT_TYPE_Cash_loans,NAME_INCOME_TYPE_Working,TARGET\n",
      "155094,0,0.7700870700124128,0.6076973714617412,0,1,1,0,0\n",
      "74108,0,0.4258928980051529,0.7318427244611323,1,0,1,1,0\n"
     ]
    }
   ],
   "source": [
    "! head -n 3 $dir_in/data.csv"
   ]
  },
  {
   "cell_type": "markdown",
   "id": "cabb60c8-ef6d-4e4a-a84b-9b84ab41cd76",
   "metadata": {},
   "source": [
    "# Score normalisé"
   ]
  },
  {
   "cell_type": "markdown",
   "id": "1a1e13c2-100e-460a-91e4-893551185884",
   "metadata": {},
   "source": [
    "L'affichage sur la jauge a besoin d'un score normalisé par rapport au seuil entre les 2 classes:\n",
    "|score original|score normalisé|\n",
    "|--|--|\n",
    "|0|0|\n",
    "|seuil S|0.5|\n",
    "|1|1|"
   ]
  },
  {
   "cell_type": "markdown",
   "id": "b20b6802-5862-45d2-9723-ff65c8c87658",
   "metadata": {},
   "source": [
    "On obtient ces résultats en élévant le score à la puissance P\n",
    "\n",
    "$$ T ^ P = 0.50 \\quad \\quad \\quad \\text{where T : threshold} $$\n",
    "$$ \\Rightarrow \\quad P = \\frac{\\log_{2}(0.50)}{\\log_{2}(threshold)} = -\\frac{1}{\\log_{2}(threshold)} $$\n"
   ]
  },
  {
   "cell_type": "code",
   "execution_count": 19,
   "id": "c7a438e5-d4f6-4310-8a0f-a50764f987d3",
   "metadata": {},
   "outputs": [],
   "source": [
    "def get_normalizing_power(threshold) :\n",
    "\tnormalizing_power = - 1 / np.log2(threshold)\n",
    "\treturn normalizing_power"
   ]
  },
  {
   "cell_type": "markdown",
   "id": "aefffd55-dbbd-4822-a893-f3e91fd551c4",
   "metadata": {},
   "source": [
    "# Modèle adapté"
   ]
  },
  {
   "cell_type": "code",
   "execution_count": 20,
   "id": "40a88e22-8a5c-4a60-bf57-9d064319dd99",
   "metadata": {},
   "outputs": [],
   "source": [
    "from xgboost import XGBClassifier"
   ]
  },
  {
   "cell_type": "markdown",
   "id": "6fb838dc-d64c-433c-b7e7-30fdb2b67bb0",
   "metadata": {
    "id": "io8FXAo9zumG"
   },
   "source": [
    "## Classe du modèle"
   ]
  },
  {
   "cell_type": "markdown",
   "id": "f97f5c85-1b4c-4855-929b-31fa7980eeb3",
   "metadata": {},
   "source": [
    "Le score renvoyé est la probabilité qu'un emprunteur ne rembourse pas (classe \"1\")"
   ]
  },
  {
   "cell_type": "code",
   "execution_count": 21,
   "id": "4d7607ee-89ae-430c-8272-7696f3aa9e29",
   "metadata": {},
   "outputs": [],
   "source": [
    "class XGB_prob(XGBClassifier):\n",
    "    threshold = 0 \n",
    "    def __init__(self, threshold=0.5, **kwargs):\n",
    "        super().__init__(**kwargs)\n",
    "        self.threshold = threshold\n",
    "    def fit(self, df_X_train, df_y_train, **kwargs) : \n",
    "        super().fit(df_X_train, df_y_train, **kwargs)\n",
    "    def predict(self, df_X_subset, bool_save_events=True):      \n",
    "        np_y_pred_proba = super().predict_proba(df_X_subset)[:, 1]  # class 1 probas  \n",
    "        np_y_normalized = np.power(np_y_pred_proba, get_normalizing_power(self.threshold))\n",
    "        return np_y_normalized"
   ]
  },
  {
   "cell_type": "markdown",
   "id": "b732485f-852a-4367-8dc7-798dad7e3341",
   "metadata": {
    "id": "io8FXAo9zumG"
   },
   "source": [
    "## Récupération"
   ]
  },
  {
   "cell_type": "markdown",
   "id": "5aaf72ec-ea96-47a4-ae22-13a1c28d768c",
   "metadata": {},
   "source": [
    "On importe le modèle de prédiction le plus récent: celui deployé en pré-Prod car celui en Prod est absent du dépôt Git"
   ]
  },
  {
   "cell_type": "code",
   "execution_count": 22,
   "id": "b25a5f46-3c40-4755-a560-3281708b8d32",
   "metadata": {},
   "outputs": [],
   "source": [
    "path_config = '../config.json' "
   ]
  },
  {
   "cell_type": "code",
   "execution_count": 23,
   "id": "3c2361d2-2088-4363-970e-a0d57ab03254",
   "metadata": {
    "colab": {
     "base_uri": "https://localhost:8080/",
     "height": 322
    },
    "executionInfo": {
     "elapsed": 10004,
     "status": "ok",
     "timestamp": 1715331203225,
     "user": {
      "displayName": "Jean Vallée",
      "userId": "09369690285448182876"
     },
     "user_tz": -120
    },
    "id": "0J7n-DbceCI7",
    "outputId": "b07cfe9e-3d24-4503-d57f-f9e68a40ce77",
    "scrolled": true
   },
   "outputs": [
    {
     "data": {
      "text/html": [
       "<style>#sk-container-id-1 {\n",
       "  /* Definition of color scheme common for light and dark mode */\n",
       "  --sklearn-color-text: black;\n",
       "  --sklearn-color-line: gray;\n",
       "  /* Definition of color scheme for unfitted estimators */\n",
       "  --sklearn-color-unfitted-level-0: #fff5e6;\n",
       "  --sklearn-color-unfitted-level-1: #f6e4d2;\n",
       "  --sklearn-color-unfitted-level-2: #ffe0b3;\n",
       "  --sklearn-color-unfitted-level-3: chocolate;\n",
       "  /* Definition of color scheme for fitted estimators */\n",
       "  --sklearn-color-fitted-level-0: #f0f8ff;\n",
       "  --sklearn-color-fitted-level-1: #d4ebff;\n",
       "  --sklearn-color-fitted-level-2: #b3dbfd;\n",
       "  --sklearn-color-fitted-level-3: cornflowerblue;\n",
       "\n",
       "  /* Specific color for light theme */\n",
       "  --sklearn-color-text-on-default-background: var(--sg-text-color, var(--theme-code-foreground, var(--jp-content-font-color1, black)));\n",
       "  --sklearn-color-background: var(--sg-background-color, var(--theme-background, var(--jp-layout-color0, white)));\n",
       "  --sklearn-color-border-box: var(--sg-text-color, var(--theme-code-foreground, var(--jp-content-font-color1, black)));\n",
       "  --sklearn-color-icon: #696969;\n",
       "\n",
       "  @media (prefers-color-scheme: dark) {\n",
       "    /* Redefinition of color scheme for dark theme */\n",
       "    --sklearn-color-text-on-default-background: var(--sg-text-color, var(--theme-code-foreground, var(--jp-content-font-color1, white)));\n",
       "    --sklearn-color-background: var(--sg-background-color, var(--theme-background, var(--jp-layout-color0, #111)));\n",
       "    --sklearn-color-border-box: var(--sg-text-color, var(--theme-code-foreground, var(--jp-content-font-color1, white)));\n",
       "    --sklearn-color-icon: #878787;\n",
       "  }\n",
       "}\n",
       "\n",
       "#sk-container-id-1 {\n",
       "  color: var(--sklearn-color-text);\n",
       "}\n",
       "\n",
       "#sk-container-id-1 pre {\n",
       "  padding: 0;\n",
       "}\n",
       "\n",
       "#sk-container-id-1 input.sk-hidden--visually {\n",
       "  border: 0;\n",
       "  clip: rect(1px 1px 1px 1px);\n",
       "  clip: rect(1px, 1px, 1px, 1px);\n",
       "  height: 1px;\n",
       "  margin: -1px;\n",
       "  overflow: hidden;\n",
       "  padding: 0;\n",
       "  position: absolute;\n",
       "  width: 1px;\n",
       "}\n",
       "\n",
       "#sk-container-id-1 div.sk-dashed-wrapped {\n",
       "  border: 1px dashed var(--sklearn-color-line);\n",
       "  margin: 0 0.4em 0.5em 0.4em;\n",
       "  box-sizing: border-box;\n",
       "  padding-bottom: 0.4em;\n",
       "  background-color: var(--sklearn-color-background);\n",
       "}\n",
       "\n",
       "#sk-container-id-1 div.sk-container {\n",
       "  /* jupyter's `normalize.less` sets `[hidden] { display: none; }`\n",
       "     but bootstrap.min.css set `[hidden] { display: none !important; }`\n",
       "     so we also need the `!important` here to be able to override the\n",
       "     default hidden behavior on the sphinx rendered scikit-learn.org.\n",
       "     See: https://github.com/scikit-learn/scikit-learn/issues/21755 */\n",
       "  display: inline-block !important;\n",
       "  position: relative;\n",
       "}\n",
       "\n",
       "#sk-container-id-1 div.sk-text-repr-fallback {\n",
       "  display: none;\n",
       "}\n",
       "\n",
       "div.sk-parallel-item,\n",
       "div.sk-serial,\n",
       "div.sk-item {\n",
       "  /* draw centered vertical line to link estimators */\n",
       "  background-image: linear-gradient(var(--sklearn-color-text-on-default-background), var(--sklearn-color-text-on-default-background));\n",
       "  background-size: 2px 100%;\n",
       "  background-repeat: no-repeat;\n",
       "  background-position: center center;\n",
       "}\n",
       "\n",
       "/* Parallel-specific style estimator block */\n",
       "\n",
       "#sk-container-id-1 div.sk-parallel-item::after {\n",
       "  content: \"\";\n",
       "  width: 100%;\n",
       "  border-bottom: 2px solid var(--sklearn-color-text-on-default-background);\n",
       "  flex-grow: 1;\n",
       "}\n",
       "\n",
       "#sk-container-id-1 div.sk-parallel {\n",
       "  display: flex;\n",
       "  align-items: stretch;\n",
       "  justify-content: center;\n",
       "  background-color: var(--sklearn-color-background);\n",
       "  position: relative;\n",
       "}\n",
       "\n",
       "#sk-container-id-1 div.sk-parallel-item {\n",
       "  display: flex;\n",
       "  flex-direction: column;\n",
       "}\n",
       "\n",
       "#sk-container-id-1 div.sk-parallel-item:first-child::after {\n",
       "  align-self: flex-end;\n",
       "  width: 50%;\n",
       "}\n",
       "\n",
       "#sk-container-id-1 div.sk-parallel-item:last-child::after {\n",
       "  align-self: flex-start;\n",
       "  width: 50%;\n",
       "}\n",
       "\n",
       "#sk-container-id-1 div.sk-parallel-item:only-child::after {\n",
       "  width: 0;\n",
       "}\n",
       "\n",
       "/* Serial-specific style estimator block */\n",
       "\n",
       "#sk-container-id-1 div.sk-serial {\n",
       "  display: flex;\n",
       "  flex-direction: column;\n",
       "  align-items: center;\n",
       "  background-color: var(--sklearn-color-background);\n",
       "  padding-right: 1em;\n",
       "  padding-left: 1em;\n",
       "}\n",
       "\n",
       "\n",
       "/* Toggleable style: style used for estimator/Pipeline/ColumnTransformer box that is\n",
       "clickable and can be expanded/collapsed.\n",
       "- Pipeline and ColumnTransformer use this feature and define the default style\n",
       "- Estimators will overwrite some part of the style using the `sk-estimator` class\n",
       "*/\n",
       "\n",
       "/* Pipeline and ColumnTransformer style (default) */\n",
       "\n",
       "#sk-container-id-1 div.sk-toggleable {\n",
       "  /* Default theme specific background. It is overwritten whether we have a\n",
       "  specific estimator or a Pipeline/ColumnTransformer */\n",
       "  background-color: var(--sklearn-color-background);\n",
       "}\n",
       "\n",
       "/* Toggleable label */\n",
       "#sk-container-id-1 label.sk-toggleable__label {\n",
       "  cursor: pointer;\n",
       "  display: block;\n",
       "  width: 100%;\n",
       "  margin-bottom: 0;\n",
       "  padding: 0.5em;\n",
       "  box-sizing: border-box;\n",
       "  text-align: center;\n",
       "}\n",
       "\n",
       "#sk-container-id-1 label.sk-toggleable__label-arrow:before {\n",
       "  /* Arrow on the left of the label */\n",
       "  content: \"▸\";\n",
       "  float: left;\n",
       "  margin-right: 0.25em;\n",
       "  color: var(--sklearn-color-icon);\n",
       "}\n",
       "\n",
       "#sk-container-id-1 label.sk-toggleable__label-arrow:hover:before {\n",
       "  color: var(--sklearn-color-text);\n",
       "}\n",
       "\n",
       "/* Toggleable content - dropdown */\n",
       "\n",
       "#sk-container-id-1 div.sk-toggleable__content {\n",
       "  max-height: 0;\n",
       "  max-width: 0;\n",
       "  overflow: hidden;\n",
       "  text-align: left;\n",
       "  /* unfitted */\n",
       "  background-color: var(--sklearn-color-unfitted-level-0);\n",
       "}\n",
       "\n",
       "#sk-container-id-1 div.sk-toggleable__content.fitted {\n",
       "  /* fitted */\n",
       "  background-color: var(--sklearn-color-fitted-level-0);\n",
       "}\n",
       "\n",
       "#sk-container-id-1 div.sk-toggleable__content pre {\n",
       "  margin: 0.2em;\n",
       "  border-radius: 0.25em;\n",
       "  color: var(--sklearn-color-text);\n",
       "  /* unfitted */\n",
       "  background-color: var(--sklearn-color-unfitted-level-0);\n",
       "}\n",
       "\n",
       "#sk-container-id-1 div.sk-toggleable__content.fitted pre {\n",
       "  /* unfitted */\n",
       "  background-color: var(--sklearn-color-fitted-level-0);\n",
       "}\n",
       "\n",
       "#sk-container-id-1 input.sk-toggleable__control:checked~div.sk-toggleable__content {\n",
       "  /* Expand drop-down */\n",
       "  max-height: 200px;\n",
       "  max-width: 100%;\n",
       "  overflow: auto;\n",
       "}\n",
       "\n",
       "#sk-container-id-1 input.sk-toggleable__control:checked~label.sk-toggleable__label-arrow:before {\n",
       "  content: \"▾\";\n",
       "}\n",
       "\n",
       "/* Pipeline/ColumnTransformer-specific style */\n",
       "\n",
       "#sk-container-id-1 div.sk-label input.sk-toggleable__control:checked~label.sk-toggleable__label {\n",
       "  color: var(--sklearn-color-text);\n",
       "  background-color: var(--sklearn-color-unfitted-level-2);\n",
       "}\n",
       "\n",
       "#sk-container-id-1 div.sk-label.fitted input.sk-toggleable__control:checked~label.sk-toggleable__label {\n",
       "  background-color: var(--sklearn-color-fitted-level-2);\n",
       "}\n",
       "\n",
       "/* Estimator-specific style */\n",
       "\n",
       "/* Colorize estimator box */\n",
       "#sk-container-id-1 div.sk-estimator input.sk-toggleable__control:checked~label.sk-toggleable__label {\n",
       "  /* unfitted */\n",
       "  background-color: var(--sklearn-color-unfitted-level-2);\n",
       "}\n",
       "\n",
       "#sk-container-id-1 div.sk-estimator.fitted input.sk-toggleable__control:checked~label.sk-toggleable__label {\n",
       "  /* fitted */\n",
       "  background-color: var(--sklearn-color-fitted-level-2);\n",
       "}\n",
       "\n",
       "#sk-container-id-1 div.sk-label label.sk-toggleable__label,\n",
       "#sk-container-id-1 div.sk-label label {\n",
       "  /* The background is the default theme color */\n",
       "  color: var(--sklearn-color-text-on-default-background);\n",
       "}\n",
       "\n",
       "/* On hover, darken the color of the background */\n",
       "#sk-container-id-1 div.sk-label:hover label.sk-toggleable__label {\n",
       "  color: var(--sklearn-color-text);\n",
       "  background-color: var(--sklearn-color-unfitted-level-2);\n",
       "}\n",
       "\n",
       "/* Label box, darken color on hover, fitted */\n",
       "#sk-container-id-1 div.sk-label.fitted:hover label.sk-toggleable__label.fitted {\n",
       "  color: var(--sklearn-color-text);\n",
       "  background-color: var(--sklearn-color-fitted-level-2);\n",
       "}\n",
       "\n",
       "/* Estimator label */\n",
       "\n",
       "#sk-container-id-1 div.sk-label label {\n",
       "  font-family: monospace;\n",
       "  font-weight: bold;\n",
       "  display: inline-block;\n",
       "  line-height: 1.2em;\n",
       "}\n",
       "\n",
       "#sk-container-id-1 div.sk-label-container {\n",
       "  text-align: center;\n",
       "}\n",
       "\n",
       "/* Estimator-specific */\n",
       "#sk-container-id-1 div.sk-estimator {\n",
       "  font-family: monospace;\n",
       "  border: 1px dotted var(--sklearn-color-border-box);\n",
       "  border-radius: 0.25em;\n",
       "  box-sizing: border-box;\n",
       "  margin-bottom: 0.5em;\n",
       "  /* unfitted */\n",
       "  background-color: var(--sklearn-color-unfitted-level-0);\n",
       "}\n",
       "\n",
       "#sk-container-id-1 div.sk-estimator.fitted {\n",
       "  /* fitted */\n",
       "  background-color: var(--sklearn-color-fitted-level-0);\n",
       "}\n",
       "\n",
       "/* on hover */\n",
       "#sk-container-id-1 div.sk-estimator:hover {\n",
       "  /* unfitted */\n",
       "  background-color: var(--sklearn-color-unfitted-level-2);\n",
       "}\n",
       "\n",
       "#sk-container-id-1 div.sk-estimator.fitted:hover {\n",
       "  /* fitted */\n",
       "  background-color: var(--sklearn-color-fitted-level-2);\n",
       "}\n",
       "\n",
       "/* Specification for estimator info (e.g. \"i\" and \"?\") */\n",
       "\n",
       "/* Common style for \"i\" and \"?\" */\n",
       "\n",
       ".sk-estimator-doc-link,\n",
       "a:link.sk-estimator-doc-link,\n",
       "a:visited.sk-estimator-doc-link {\n",
       "  float: right;\n",
       "  font-size: smaller;\n",
       "  line-height: 1em;\n",
       "  font-family: monospace;\n",
       "  background-color: var(--sklearn-color-background);\n",
       "  border-radius: 1em;\n",
       "  height: 1em;\n",
       "  width: 1em;\n",
       "  text-decoration: none !important;\n",
       "  margin-left: 1ex;\n",
       "  /* unfitted */\n",
       "  border: var(--sklearn-color-unfitted-level-1) 1pt solid;\n",
       "  color: var(--sklearn-color-unfitted-level-1);\n",
       "}\n",
       "\n",
       ".sk-estimator-doc-link.fitted,\n",
       "a:link.sk-estimator-doc-link.fitted,\n",
       "a:visited.sk-estimator-doc-link.fitted {\n",
       "  /* fitted */\n",
       "  border: var(--sklearn-color-fitted-level-1) 1pt solid;\n",
       "  color: var(--sklearn-color-fitted-level-1);\n",
       "}\n",
       "\n",
       "/* On hover */\n",
       "div.sk-estimator:hover .sk-estimator-doc-link:hover,\n",
       ".sk-estimator-doc-link:hover,\n",
       "div.sk-label-container:hover .sk-estimator-doc-link:hover,\n",
       ".sk-estimator-doc-link:hover {\n",
       "  /* unfitted */\n",
       "  background-color: var(--sklearn-color-unfitted-level-3);\n",
       "  color: var(--sklearn-color-background);\n",
       "  text-decoration: none;\n",
       "}\n",
       "\n",
       "div.sk-estimator.fitted:hover .sk-estimator-doc-link.fitted:hover,\n",
       ".sk-estimator-doc-link.fitted:hover,\n",
       "div.sk-label-container:hover .sk-estimator-doc-link.fitted:hover,\n",
       ".sk-estimator-doc-link.fitted:hover {\n",
       "  /* fitted */\n",
       "  background-color: var(--sklearn-color-fitted-level-3);\n",
       "  color: var(--sklearn-color-background);\n",
       "  text-decoration: none;\n",
       "}\n",
       "\n",
       "/* Span, style for the box shown on hovering the info icon */\n",
       ".sk-estimator-doc-link span {\n",
       "  display: none;\n",
       "  z-index: 9999;\n",
       "  position: relative;\n",
       "  font-weight: normal;\n",
       "  right: .2ex;\n",
       "  padding: .5ex;\n",
       "  margin: .5ex;\n",
       "  width: min-content;\n",
       "  min-width: 20ex;\n",
       "  max-width: 50ex;\n",
       "  color: var(--sklearn-color-text);\n",
       "  box-shadow: 2pt 2pt 4pt #999;\n",
       "  /* unfitted */\n",
       "  background: var(--sklearn-color-unfitted-level-0);\n",
       "  border: .5pt solid var(--sklearn-color-unfitted-level-3);\n",
       "}\n",
       "\n",
       ".sk-estimator-doc-link.fitted span {\n",
       "  /* fitted */\n",
       "  background: var(--sklearn-color-fitted-level-0);\n",
       "  border: var(--sklearn-color-fitted-level-3);\n",
       "}\n",
       "\n",
       ".sk-estimator-doc-link:hover span {\n",
       "  display: block;\n",
       "}\n",
       "\n",
       "/* \"?\"-specific style due to the `<a>` HTML tag */\n",
       "\n",
       "#sk-container-id-1 a.estimator_doc_link {\n",
       "  float: right;\n",
       "  font-size: 1rem;\n",
       "  line-height: 1em;\n",
       "  font-family: monospace;\n",
       "  background-color: var(--sklearn-color-background);\n",
       "  border-radius: 1rem;\n",
       "  height: 1rem;\n",
       "  width: 1rem;\n",
       "  text-decoration: none;\n",
       "  /* unfitted */\n",
       "  color: var(--sklearn-color-unfitted-level-1);\n",
       "  border: var(--sklearn-color-unfitted-level-1) 1pt solid;\n",
       "}\n",
       "\n",
       "#sk-container-id-1 a.estimator_doc_link.fitted {\n",
       "  /* fitted */\n",
       "  border: var(--sklearn-color-fitted-level-1) 1pt solid;\n",
       "  color: var(--sklearn-color-fitted-level-1);\n",
       "}\n",
       "\n",
       "/* On hover */\n",
       "#sk-container-id-1 a.estimator_doc_link:hover {\n",
       "  /* unfitted */\n",
       "  background-color: var(--sklearn-color-unfitted-level-3);\n",
       "  color: var(--sklearn-color-background);\n",
       "  text-decoration: none;\n",
       "}\n",
       "\n",
       "#sk-container-id-1 a.estimator_doc_link.fitted:hover {\n",
       "  /* fitted */\n",
       "  background-color: var(--sklearn-color-fitted-level-3);\n",
       "}\n",
       "</style><div id=\"sk-container-id-1\" class=\"sk-top-container\"><div class=\"sk-text-repr-fallback\"><pre>XGB_prob(base_score=&#x27;1.572525E-1&#x27;, booster=&#x27;gbtree&#x27;, callbacks=None,\n",
       "         colsample_bylevel=None, colsample_bynode=None, colsample_bytree=None,\n",
       "         device=None, early_stopping_rounds=None, enable_categorical=False,\n",
       "         eval_metric=None,\n",
       "         feature_types=[&#x27;int&#x27;, &#x27;float&#x27;, &#x27;float&#x27;, &#x27;int&#x27;, &#x27;int&#x27;, &#x27;int&#x27;, &#x27;int&#x27;],\n",
       "         gamma=None, grow_policy=None, importance_type=None,\n",
       "         interaction_constraints=None, learning_rate=None, max_bin=None,\n",
       "         max_cat_threshold=None, max_cat_to_onehot=None, max_delta_step=None,\n",
       "         max_depth=None, max_leaves=None, min_child_weight=None, missing=nan,\n",
       "         monotone_constraints=None, multi_strategy=None, n_estimators=None,\n",
       "         n_jobs=None, num_parallel_tree=None, objective=&#x27;binary:logistic&#x27;, ...)</pre><b>In a Jupyter environment, please rerun this cell to show the HTML representation or trust the notebook. <br />On GitHub, the HTML representation is unable to render, please try loading this page with nbviewer.org.</b></div><div class=\"sk-container\" hidden><div class=\"sk-item\"><div class=\"sk-estimator fitted sk-toggleable\"><input class=\"sk-toggleable__control sk-hidden--visually\" id=\"sk-estimator-id-1\" type=\"checkbox\" checked><label for=\"sk-estimator-id-1\" class=\"sk-toggleable__label fitted sk-toggleable__label-arrow fitted\">&nbsp;XGB_prob<span class=\"sk-estimator-doc-link fitted\">i<span>Fitted</span></span></label><div class=\"sk-toggleable__content fitted\"><pre>XGB_prob(base_score=&#x27;1.572525E-1&#x27;, booster=&#x27;gbtree&#x27;, callbacks=None,\n",
       "         colsample_bylevel=None, colsample_bynode=None, colsample_bytree=None,\n",
       "         device=None, early_stopping_rounds=None, enable_categorical=False,\n",
       "         eval_metric=None,\n",
       "         feature_types=[&#x27;int&#x27;, &#x27;float&#x27;, &#x27;float&#x27;, &#x27;int&#x27;, &#x27;int&#x27;, &#x27;int&#x27;, &#x27;int&#x27;],\n",
       "         gamma=None, grow_policy=None, importance_type=None,\n",
       "         interaction_constraints=None, learning_rate=None, max_bin=None,\n",
       "         max_cat_threshold=None, max_cat_to_onehot=None, max_delta_step=None,\n",
       "         max_depth=None, max_leaves=None, min_child_weight=None, missing=nan,\n",
       "         monotone_constraints=None, multi_strategy=None, n_estimators=None,\n",
       "         n_jobs=None, num_parallel_tree=None, objective=&#x27;binary:logistic&#x27;, ...)</pre></div> </div></div></div></div>"
      ],
      "text/plain": [
       "XGB_prob(base_score='1.572525E-1', booster='gbtree', callbacks=None,\n",
       "         colsample_bylevel=None, colsample_bynode=None, colsample_bytree=None,\n",
       "         device=None, early_stopping_rounds=None, enable_categorical=False,\n",
       "         eval_metric=None,\n",
       "         feature_types=['int', 'float', 'float', 'int', 'int', 'int', 'int'],\n",
       "         gamma=None, grow_policy=None, importance_type=None,\n",
       "         interaction_constraints=None, learning_rate=None, max_bin=None,\n",
       "         max_cat_threshold=None, max_cat_to_onehot=None, max_delta_step=None,\n",
       "         max_depth=None, max_leaves=None, min_child_weight=None, missing=nan,\n",
       "         monotone_constraints=None, multi_strategy=None, n_estimators=None,\n",
       "         n_jobs=None, num_parallel_tree=None, objective='binary:logistic', ...)"
      ]
     },
     "execution_count": 23,
     "metadata": {},
     "output_type": "execute_result"
    }
   ],
   "source": [
    "model_prob = XGB_prob()\n",
    "model_prob.load_model(dir_in + 'model_optimal_simplified.json')\n",
    "model_prob"
   ]
  },
  {
   "cell_type": "markdown",
   "id": "788cdf88-6f0a-45e4-b1a6-ef1d040f442a",
   "metadata": {
    "id": "DGE-cP-hBTPG"
   },
   "source": [
    "### Génération de signature"
   ]
  },
  {
   "cell_type": "code",
   "execution_count": 24,
   "id": "98823b52-80e1-4b43-9e8c-a4e1db6413c5",
   "metadata": {},
   "outputs": [],
   "source": [
    "from mlflow.models.signature import infer_signature"
   ]
  },
  {
   "cell_type": "code",
   "execution_count": 25,
   "id": "0ad5da56-5db1-41d7-84d0-1340f259d801",
   "metadata": {
    "colab": {
     "base_uri": "https://localhost:8080/"
    },
    "executionInfo": {
     "elapsed": 312,
     "status": "ok",
     "timestamp": 1715155460097,
     "user": {
      "displayName": "Jean Vallée",
      "userId": "09369690285448182876"
     },
     "user_tz": -120
    },
    "id": "Kf48e7Vk6t1f",
    "outputId": "15fa4be7-5d98-4b1c-b223-6a1ef3437bd4"
   },
   "outputs": [
    {
     "name": "stderr",
     "output_type": "stream",
     "text": [
      "/home/jv_isa4031/project_8/my_env/lib/python3.11/site-packages/mlflow/types/utils.py:406: UserWarning: Hint: Inferred schema contains integer column(s). Integer columns in Python cannot represent missing values. If your input data contains missing values at inference time, it will be encoded as floats and will cause a schema enforcement error. The best way to avoid this problem is to infer the model schema based on a realistic data sample (training dataset) that includes missing values. Alternatively, you can declare integer columns as doubles (float64) whenever these columns may have missing values. See `Handling Integers With Missing Values <https://www.mlflow.org/docs/latest/models.html#handling-integers-with-missing-values>`_ for more details.\n",
      "  warnings.warn(\n"
     ]
    }
   ],
   "source": [
    "model_signature = infer_signature(df_X.head(1), df_y.head(1))"
   ]
  },
  {
   "cell_type": "markdown",
   "id": "e45a5556-51f1-40ea-9651-6926f48a9fc2",
   "metadata": {},
   "source": [
    "#### Attributs"
   ]
  },
  {
   "cell_type": "code",
   "execution_count": 26,
   "id": "990cbfbf-f4b9-4925-b749-103049f5da1e",
   "metadata": {},
   "outputs": [
    {
     "data": {
      "text/plain": [
       "['CODE_GENDER_M': long (required),\n",
       " 'EXT_SOURCE_3': double (required),\n",
       " 'EXT_SOURCE_2': double (required),\n",
       " 'NAME_EDUCATION_TYPE_Secondary_or_secondary_special': long (required),\n",
       " 'NAME_EDUCATION_TYPE_Higher_education': long (required),\n",
       " 'NAME_CONTRACT_TYPE_Cash_loans': long (required),\n",
       " 'NAME_INCOME_TYPE_Working': long (required)]"
      ]
     },
     "execution_count": 26,
     "metadata": {},
     "output_type": "execute_result"
    }
   ],
   "source": [
    "list(model_signature.inputs)[:10]"
   ]
  },
  {
   "cell_type": "markdown",
   "id": "a251bc9a-9754-43f0-be16-febb62e5e57e",
   "metadata": {},
   "source": [
    "#### Cible"
   ]
  },
  {
   "cell_type": "code",
   "execution_count": 27,
   "id": "ebf7a214-1aab-4430-a60e-70a549200b5a",
   "metadata": {
    "colab": {
     "base_uri": "https://localhost:8080/"
    },
    "executionInfo": {
     "elapsed": 333,
     "status": "ok",
     "timestamp": 1715156057806,
     "user": {
      "displayName": "Jean Vallée",
      "userId": "09369690285448182876"
     },
     "user_tz": -120
    },
    "id": "akOz1-0h6t5e",
    "outputId": "c8f512d4-a861-4684-f911-04e64df61edc"
   },
   "outputs": [
    {
     "data": {
      "text/plain": [
       "['TARGET': long (required)]"
      ]
     },
     "execution_count": 27,
     "metadata": {},
     "output_type": "execute_result"
    }
   ],
   "source": [
    "list(model_signature.outputs)"
   ]
  },
  {
   "cell_type": "markdown",
   "id": "4a49cf02-9159-4317-b6fd-93844e4d9b96",
   "metadata": {},
   "source": [
    "### Mise à jour du seuil binaire"
   ]
  },
  {
   "cell_type": "code",
   "execution_count": 28,
   "id": "178ac234-3e73-4b73-a3a7-cf58c3971f24",
   "metadata": {},
   "outputs": [
    {
     "data": {
      "text/plain": [
       "0.5"
      ]
     },
     "execution_count": 28,
     "metadata": {},
     "output_type": "execute_result"
    }
   ],
   "source": [
    "dict_params_old = model_prob.get_params()\n",
    "dict_params_old['threshold']"
   ]
  },
  {
   "cell_type": "code",
   "execution_count": 29,
   "id": "285a5509-1e47-47ef-95d2-aecda6cf9106",
   "metadata": {},
   "outputs": [],
   "source": [
    "with open(dir_in + 'config.json', 'r') as json_file: dict_to_config = json.load(json_file)\n",
    "best_threshold = float(dict_to_config['best_threshold'])"
   ]
  },
  {
   "cell_type": "code",
   "execution_count": 30,
   "id": "3b13fe1b-5e9c-4c1e-9c5f-5fbe67339ae3",
   "metadata": {},
   "outputs": [],
   "source": [
    "setattr(model_prob, 'threshold', best_threshold)"
   ]
  },
  {
   "cell_type": "code",
   "execution_count": 31,
   "id": "afff6cf1-b0f4-4eb6-8710-6ba5986e3c92",
   "metadata": {},
   "outputs": [
    {
     "data": {
      "text/plain": [
       "0.09"
      ]
     },
     "execution_count": 31,
     "metadata": {},
     "output_type": "execute_result"
    }
   ],
   "source": [
    "dict_params_new = model_prob.get_params()\n",
    "dict_params_new['threshold']"
   ]
  },
  {
   "cell_type": "markdown",
   "id": "2d3483e0-c0d7-404c-a61c-b5a29ee66e93",
   "metadata": {},
   "source": [
    "## Déploiement"
   ]
  },
  {
   "cell_type": "code",
   "execution_count": 32,
   "id": "af53ada4-bec7-4ebb-845d-d863ede503b5",
   "metadata": {},
   "outputs": [],
   "source": [
    "from mlflow import sklearn as skl"
   ]
  },
  {
   "cell_type": "code",
   "execution_count": 33,
   "id": "7f1437d3-8b6b-4565-87da-608936c44c37",
   "metadata": {
    "colab": {
     "base_uri": "https://localhost:8080/"
    },
    "executionInfo": {
     "elapsed": 2937,
     "status": "ok",
     "timestamp": 1715156280842,
     "user": {
      "displayName": "Jean Vallée",
      "userId": "09369690285448182876"
     },
     "user_tz": -120
    },
    "id": "zlqal72C6t9i",
    "outputId": "cd41dc27-b1e8-4e87-d83e-2f362b02ba35"
   },
   "outputs": [
    {
     "name": "stdout",
     "output_type": "stream",
     "text": [
      "CPU times: user 1.5 s, sys: 230 ms, total: 1.73 s\n",
      "Wall time: 6.91 s\n"
     ]
    }
   ],
   "source": [
    "! rm -rf $model_path ; mkdir -p \"$model_path\"\n",
    "%time skl.save_model(model_prob, model_path, signature=model_signature)"
   ]
  },
  {
   "cell_type": "markdown",
   "id": "21598baa-f6c6-4458-b68c-3467f16b45e2",
   "metadata": {},
   "source": [
    "#### Fichiers générés"
   ]
  },
  {
   "cell_type": "code",
   "execution_count": 34,
   "id": "588ff701-a9cc-4192-b887-4ac9ed64a71f",
   "metadata": {
    "colab": {
     "base_uri": "https://localhost:8080/"
    },
    "executionInfo": {
     "elapsed": 261,
     "status": "ok",
     "timestamp": 1715156307970,
     "user": {
      "displayName": "Jean Vallée",
      "userId": "09369690285448182876"
     },
     "user_tz": -120
    },
    "id": "jEboWeVJ6uCW",
    "outputId": "74c5f97a-3473-4c00-cbc4-2b8f3e2d39c9"
   },
   "outputs": [
    {
     "name": "stdout",
     "output_type": "stream",
     "text": [
      "./data/model/\n",
      "./data/model/python_env.yaml\n",
      "./data/model/model.pkl\n",
      "./data/model/conda.yaml\n",
      "./data/model/MLmodel\n",
      "./data/model/requirements.txt\n"
     ]
    }
   ],
   "source": [
    "!find \"$model_path\""
   ]
  },
  {
   "cell_type": "markdown",
   "id": "01ae6391-8c7a-4e6c-bd24-d57ca7df6a29",
   "metadata": {},
   "source": [
    "### Prédictions"
   ]
  },
  {
   "cell_type": "code",
   "execution_count": 35,
   "id": "e2cee4de-2acc-4a97-aadb-06135b37e02a",
   "metadata": {},
   "outputs": [],
   "source": [
    "np_y_pred_proba = model_prob.predict(df_X)"
   ]
  },
  {
   "cell_type": "code",
   "execution_count": 36,
   "id": "5f251de7-1f4b-4c39-9408-3ff3b2fe3e7a",
   "metadata": {},
   "outputs": [
    {
     "data": {
      "text/plain": [
       "array([0.32588145, 0.4276271 , 0.4159582 , ..., 0.31557882, 0.49494374,\n",
       "       0.53514314], dtype=float32)"
      ]
     },
     "execution_count": 36,
     "metadata": {},
     "output_type": "execute_result"
    }
   ],
   "source": [
    "np_y_pred_proba"
   ]
  },
  {
   "cell_type": "code",
   "execution_count": 37,
   "id": "3c6e9252-f3df-4dad-bccf-0e52e2e07d5b",
   "metadata": {},
   "outputs": [],
   "source": [
    "np.save(dir_out + 'y_pred_proba', np_y_pred_proba)"
   ]
  },
  {
   "cell_type": "code",
   "execution_count": 38,
   "id": "dfa8a264-fb75-4eda-98fb-19e65b5e844f",
   "metadata": {},
   "outputs": [
    {
     "data": {
      "text/plain": [
       "array([0.32588145, 0.4276271 , 0.4159582 , ..., 0.31557882, 0.49494374,\n",
       "       0.53514314], dtype=float32)"
      ]
     },
     "execution_count": 38,
     "metadata": {},
     "output_type": "execute_result"
    }
   ],
   "source": [
    "np.load(dir_out + 'y_pred_proba.npy')"
   ]
  },
  {
   "cell_type": "markdown",
   "id": "6a8b85cc-8c01-4d8e-b034-1715f0cc8d00",
   "metadata": {},
   "source": [
    "# Mise en service"
   ]
  },
  {
   "cell_type": "markdown",
   "id": "4d59289e-37cb-42c0-97e3-7db86ea18efa",
   "metadata": {},
   "source": [
    "## Arrêt"
   ]
  },
  {
   "cell_type": "code",
   "execution_count": 56,
   "id": "e610fd07-6d73-4301-9c8f-d61bbdbe2c7d",
   "metadata": {},
   "outputs": [],
   "source": [
    "port_server = '5677'"
   ]
  },
  {
   "cell_type": "code",
   "execution_count": 57,
   "id": "30e6918b-9e52-4eb3-9ff7-e3bb3a771b5a",
   "metadata": {},
   "outputs": [
    {
     "name": "stderr",
     "output_type": "stream",
     "text": [
      "[2024-07-23 21:03:37 +0000] [3419] [INFO] Worker exiting (pid: 3419)\n",
      "[2024-07-23 21:03:37 +0000] [3418] [INFO] Handling signal: term\n",
      "[2024-07-23 21:03:39 +0000] [3418] [INFO] Shutting down: Master\n"
     ]
    }
   ],
   "source": [
    "mask = ':' + port_server\n",
    "! pkill -f \"$mask\""
   ]
  },
  {
   "cell_type": "markdown",
   "id": "94e6a3b8-c2e3-4739-88ff-16befe1c62d0",
   "metadata": {},
   "source": [
    "## Démarrage"
   ]
  },
  {
   "cell_type": "code",
   "execution_count": 58,
   "id": "01f1384e-e72d-4695-9dc7-40b9807b9058",
   "metadata": {},
   "outputs": [
    {
     "name": "stdout",
     "output_type": "stream",
     "text": [
      "nohup mlflow models serve -m ./data/model/ -p 5677 -h 0.0.0.0 --no-conda &\n"
     ]
    }
   ],
   "source": [
    "ip_host = '0.0.0.0'\n",
    "shell_command =  'nohup mlflow models serve -m '\n",
    "shell_command += model_path + ' -p ' + port_server + ' -h ' + ip_host + ' --no-conda &'\n",
    "print(shell_command)"
   ]
  },
  {
   "cell_type": "code",
   "execution_count": 59,
   "id": "e2e5f8be-e54c-408c-802f-84aeee0ed646",
   "metadata": {},
   "outputs": [],
   "source": [
    "get_ipython().system_raw(shell_command)          # runs model API in background"
   ]
  },
  {
   "cell_type": "markdown",
   "id": "b250ed83-e737-4d44-9118-b0a9e474b23b",
   "metadata": {},
   "source": [
    "## Vérification d'exécution\n",
    "\n",
    "Il y a 2 processus qui tournent par serveur"
   ]
  },
  {
   "cell_type": "code",
   "execution_count": 61,
   "id": "06d42289-f835-4ebe-85ec-8e05afb6a950",
   "metadata": {},
   "outputs": [
    {
     "name": "stdout",
     "output_type": "stream",
     "text": [
      "3471 0.0.0.0:5677 mlflow.pyfunc.scoring_server.wsgi:app\n",
      "3472 0.0.0.0:5677 mlflow.pyfunc.scoring_server.wsgi:app\n"
     ]
    },
    {
     "name": "stderr",
     "output_type": "stream",
     "text": [
      "[2024-07-23 21:08:11 +0000] [3471] [INFO] Handling signal: term\n",
      "[2024-07-23 21:08:11 +0000] [3472] [INFO] Worker exiting (pid: 3472)\n",
      "[2024-07-23 21:08:12 +0000] [3471] [INFO] Shutting down: Master\n"
     ]
    }
   ],
   "source": [
    "! ps aux | grep \"scoring_server\" | grep -v \"grep\" | awk '{print $2, $15, $19}'"
   ]
  },
  {
   "cell_type": "markdown",
   "id": "87b06afe-8412-4cbe-af8d-f277d3cc671f",
   "metadata": {},
   "source": [
    "# Tests"
   ]
  },
  {
   "cell_type": "code",
   "execution_count": 49,
   "id": "ae9f67a5-e63d-4f10-9e01-1ce81a4b6397",
   "metadata": {},
   "outputs": [
    {
     "name": "stdout",
     "output_type": "stream",
     "text": [
      "URL API    -> http://localhost:5677/invocations\n"
     ]
    }
   ],
   "source": [
    "url_api = 'localhost:' + port_server + '/invocations'\n",
    "print('URL API    -> http://' + url_api)"
   ]
  },
  {
   "cell_type": "markdown",
   "id": "8ed64ab0-0e5d-48cd-b270-ef47a2e1a641",
   "metadata": {},
   "source": [
    "## Prédictions"
   ]
  },
  {
   "cell_type": "markdown",
   "id": "1a78608d-7fd1-4fa3-9aa1-3a44bfef99b3",
   "metadata": {},
   "source": [
    "Demande par requête POST de prédiction de la cible pour une observation"
   ]
  },
  {
   "cell_type": "code",
   "execution_count": 51,
   "id": "5118485e-8d22-4f95-90d5-14f2c883a568",
   "metadata": {},
   "outputs": [],
   "source": [
    "nb_observations = 1"
   ]
  },
  {
   "cell_type": "markdown",
   "id": "15b4c47e-9d01-4289-8d5c-5e1b3d225708",
   "metadata": {},
   "source": [
    "### Cas TP"
   ]
  },
  {
   "cell_type": "code",
   "execution_count": 52,
   "id": "ed17ede8-fc77-4f5f-b114-f8d24e2081ab",
   "metadata": {},
   "outputs": [],
   "source": [
    "path_TP = dir_in + 'X_TP.csv'\n",
    "df_TP = pd.read_csv(path_TP)"
   ]
  },
  {
   "cell_type": "code",
   "execution_count": 53,
   "id": "d9c12652-768a-4496-a468-0a7b858171e9",
   "metadata": {
    "scrolled": true
   },
   "outputs": [
    {
     "data": {
      "text/html": [
       "<div>\n",
       "<style scoped>\n",
       "    .dataframe tbody tr th:only-of-type {\n",
       "        vertical-align: middle;\n",
       "    }\n",
       "\n",
       "    .dataframe tbody tr th {\n",
       "        vertical-align: top;\n",
       "    }\n",
       "\n",
       "    .dataframe thead th {\n",
       "        text-align: right;\n",
       "    }\n",
       "</style>\n",
       "<table border=\"1\" class=\"dataframe\">\n",
       "  <thead>\n",
       "    <tr style=\"text-align: right;\">\n",
       "      <th></th>\n",
       "      <th>CODE_GENDER_M</th>\n",
       "      <th>EXT_SOURCE_3</th>\n",
       "      <th>EXT_SOURCE_2</th>\n",
       "      <th>NAME_EDUCATION_TYPE_Secondary_or_secondary_special</th>\n",
       "      <th>NAME_EDUCATION_TYPE_Higher_education</th>\n",
       "      <th>NAME_CONTRACT_TYPE_Cash_loans</th>\n",
       "      <th>NAME_INCOME_TYPE_Working</th>\n",
       "    </tr>\n",
       "  </thead>\n",
       "  <tbody>\n",
       "    <tr>\n",
       "      <th>2011</th>\n",
       "      <td>0</td>\n",
       "      <td>0.598926</td>\n",
       "      <td>0.146104</td>\n",
       "      <td>1</td>\n",
       "      <td>0</td>\n",
       "      <td>1</td>\n",
       "      <td>1</td>\n",
       "    </tr>\n",
       "  </tbody>\n",
       "</table>\n",
       "</div>"
      ],
      "text/plain": [
       "      CODE_GENDER_M  EXT_SOURCE_3  EXT_SOURCE_2  \\\n",
       "2011              0      0.598926      0.146104   \n",
       "\n",
       "      NAME_EDUCATION_TYPE_Secondary_or_secondary_special  \\\n",
       "2011                                                  1    \n",
       "\n",
       "      NAME_EDUCATION_TYPE_Higher_education  NAME_CONTRACT_TYPE_Cash_loans  \\\n",
       "2011                                     0                              1   \n",
       "\n",
       "      NAME_INCOME_TYPE_Working  \n",
       "2011                         1  "
      ]
     },
     "execution_count": 53,
     "metadata": {},
     "output_type": "execute_result"
    }
   ],
   "source": [
    "df_TP_sample = df_TP.sample(nb_observations)\n",
    "df_TP_sample"
   ]
  },
  {
   "cell_type": "code",
   "execution_count": 54,
   "id": "80b82fdc-a5c8-42d4-8cd5-a86b48f57404",
   "metadata": {},
   "outputs": [],
   "source": [
    "def get_curl_command(df_sample, url) :\n",
    "    str_features_values = df_sample.to_json(orient='split')\n",
    "    str_data = '\\'{\"dataframe_split\": ' + str_features_values + '}\\' '\n",
    "    return 'curl -d' + str_data + '''-H 'Content-Type: application/json' -X POST ''' + url"
   ]
  },
  {
   "cell_type": "markdown",
   "id": "153e5af7-ddbe-4f3c-9e7d-586649fbf110",
   "metadata": {},
   "source": [
    "Vérifier que cette ligne de commande Linux renvoie une prédiction de classe \"1\""
   ]
  },
  {
   "cell_type": "code",
   "execution_count": 55,
   "id": "1077df43-3ad6-423a-8309-2d2053537cf0",
   "metadata": {
    "scrolled": true
   },
   "outputs": [
    {
     "name": "stdout",
     "output_type": "stream",
     "text": [
      "curl -d'{\"dataframe_split\": {\"columns\":[\"CODE_GENDER_M\",\"EXT_SOURCE_3\",\"EXT_SOURCE_2\",\"NAME_EDUCATION_TYPE_Secondary_or_secondary_special\",\"NAME_EDUCATION_TYPE_Higher_education\",\"NAME_CONTRACT_TYPE_Cash_loans\",\"NAME_INCOME_TYPE_Working\"],\"index\":[2011],\"data\":[[0,0.5989262183,0.1461036398,1,0,1,1]]}}' -H 'Content-Type: application/json' -X POST localhost:5677/invocations\n"
     ]
    }
   ],
   "source": [
    "shell_command = get_curl_command(df_TP_sample, url_api)\n",
    "print(shell_command)"
   ]
  },
  {
   "cell_type": "code",
   "execution_count": 56,
   "id": "d6b438e5-4bb5-40e2-9739-7e42ad00b78d",
   "metadata": {},
   "outputs": [
    {
     "name": "stdout",
     "output_type": "stream",
     "text": [
      "{\"predictions\": [0.5351431369781494]}"
     ]
    },
    {
     "name": "stderr",
     "output_type": "stream",
     "text": [
      "  % Total    % Received % Xferd  Average Speed   Time    Time     Time  Current\n",
      "                                 Dload  Upload   Total   Spent    Left  Speed\n",
      "100   330  100    37  100   293    305   2420 --:--:-- --:--:-- --:--:--  2727\n"
     ]
    }
   ],
   "source": [
    "get_ipython().system_raw(shell_command)  "
   ]
  },
  {
   "cell_type": "markdown",
   "id": "408905dc-c01e-4221-bd8b-defabae07f30",
   "metadata": {},
   "source": [
    "### Cas TN"
   ]
  },
  {
   "cell_type": "code",
   "execution_count": 151,
   "id": "776984df-e4f4-4764-9db4-ff667be43eab",
   "metadata": {},
   "outputs": [],
   "source": [
    "path_TN = dir_in + 'X_TN.csv'\n",
    "df_TN = pd.read_csv(path_TN)"
   ]
  },
  {
   "cell_type": "code",
   "execution_count": 152,
   "id": "f566bcb9-3c42-4c05-a171-b3e80d935ad2",
   "metadata": {
    "scrolled": true
   },
   "outputs": [
    {
     "data": {
      "text/html": [
       "<div>\n",
       "<style scoped>\n",
       "    .dataframe tbody tr th:only-of-type {\n",
       "        vertical-align: middle;\n",
       "    }\n",
       "\n",
       "    .dataframe tbody tr th {\n",
       "        vertical-align: top;\n",
       "    }\n",
       "\n",
       "    .dataframe thead th {\n",
       "        text-align: right;\n",
       "    }\n",
       "</style>\n",
       "<table border=\"1\" class=\"dataframe\">\n",
       "  <thead>\n",
       "    <tr style=\"text-align: right;\">\n",
       "      <th></th>\n",
       "      <th>CODE_GENDER_M</th>\n",
       "      <th>EXT_SOURCE_3</th>\n",
       "      <th>EXT_SOURCE_2</th>\n",
       "      <th>NAME_EDUCATION_TYPE_Secondary_or_secondary_special</th>\n",
       "      <th>NAME_EDUCATION_TYPE_Higher_education</th>\n",
       "      <th>NAME_CONTRACT_TYPE_Cash_loans</th>\n",
       "      <th>NAME_INCOME_TYPE_Working</th>\n",
       "    </tr>\n",
       "  </thead>\n",
       "  <tbody>\n",
       "    <tr>\n",
       "      <th>28726</th>\n",
       "      <td>0</td>\n",
       "      <td>0.513694</td>\n",
       "      <td>0.671199</td>\n",
       "      <td>1</td>\n",
       "      <td>0</td>\n",
       "      <td>1</td>\n",
       "      <td>1</td>\n",
       "    </tr>\n",
       "    <tr>\n",
       "      <th>9356</th>\n",
       "      <td>0</td>\n",
       "      <td>0.463275</td>\n",
       "      <td>0.715923</td>\n",
       "      <td>1</td>\n",
       "      <td>0</td>\n",
       "      <td>1</td>\n",
       "      <td>1</td>\n",
       "    </tr>\n",
       "    <tr>\n",
       "      <th>24251</th>\n",
       "      <td>0</td>\n",
       "      <td>0.656158</td>\n",
       "      <td>0.758948</td>\n",
       "      <td>0</td>\n",
       "      <td>1</td>\n",
       "      <td>1</td>\n",
       "      <td>0</td>\n",
       "    </tr>\n",
       "    <tr>\n",
       "      <th>31176</th>\n",
       "      <td>1</td>\n",
       "      <td>0.707699</td>\n",
       "      <td>0.367036</td>\n",
       "      <td>1</td>\n",
       "      <td>0</td>\n",
       "      <td>1</td>\n",
       "      <td>1</td>\n",
       "    </tr>\n",
       "    <tr>\n",
       "      <th>26053</th>\n",
       "      <td>0</td>\n",
       "      <td>0.432962</td>\n",
       "      <td>0.614909</td>\n",
       "      <td>0</td>\n",
       "      <td>1</td>\n",
       "      <td>1</td>\n",
       "      <td>0</td>\n",
       "    </tr>\n",
       "    <tr>\n",
       "      <th>30159</th>\n",
       "      <td>0</td>\n",
       "      <td>0.654529</td>\n",
       "      <td>0.744395</td>\n",
       "      <td>1</td>\n",
       "      <td>0</td>\n",
       "      <td>1</td>\n",
       "      <td>0</td>\n",
       "    </tr>\n",
       "    <tr>\n",
       "      <th>13343</th>\n",
       "      <td>0</td>\n",
       "      <td>0.588488</td>\n",
       "      <td>0.491529</td>\n",
       "      <td>0</td>\n",
       "      <td>1</td>\n",
       "      <td>0</td>\n",
       "      <td>1</td>\n",
       "    </tr>\n",
       "    <tr>\n",
       "      <th>26266</th>\n",
       "      <td>0</td>\n",
       "      <td>0.776410</td>\n",
       "      <td>0.425121</td>\n",
       "      <td>0</td>\n",
       "      <td>1</td>\n",
       "      <td>1</td>\n",
       "      <td>0</td>\n",
       "    </tr>\n",
       "    <tr>\n",
       "      <th>354</th>\n",
       "      <td>0</td>\n",
       "      <td>0.661024</td>\n",
       "      <td>0.476217</td>\n",
       "      <td>1</td>\n",
       "      <td>0</td>\n",
       "      <td>1</td>\n",
       "      <td>1</td>\n",
       "    </tr>\n",
       "    <tr>\n",
       "      <th>8663</th>\n",
       "      <td>0</td>\n",
       "      <td>0.665855</td>\n",
       "      <td>0.598748</td>\n",
       "      <td>1</td>\n",
       "      <td>0</td>\n",
       "      <td>1</td>\n",
       "      <td>1</td>\n",
       "    </tr>\n",
       "  </tbody>\n",
       "</table>\n",
       "</div>"
      ],
      "text/plain": [
       "       CODE_GENDER_M  EXT_SOURCE_3  EXT_SOURCE_2  \\\n",
       "28726              0      0.513694      0.671199   \n",
       "9356               0      0.463275      0.715923   \n",
       "24251              0      0.656158      0.758948   \n",
       "31176              1      0.707699      0.367036   \n",
       "26053              0      0.432962      0.614909   \n",
       "30159              0      0.654529      0.744395   \n",
       "13343              0      0.588488      0.491529   \n",
       "26266              0      0.776410      0.425121   \n",
       "354                0      0.661024      0.476217   \n",
       "8663               0      0.665855      0.598748   \n",
       "\n",
       "       NAME_EDUCATION_TYPE_Secondary_or_secondary_special  \\\n",
       "28726                                                  1    \n",
       "9356                                                   1    \n",
       "24251                                                  0    \n",
       "31176                                                  1    \n",
       "26053                                                  0    \n",
       "30159                                                  1    \n",
       "13343                                                  0    \n",
       "26266                                                  0    \n",
       "354                                                    1    \n",
       "8663                                                   1    \n",
       "\n",
       "       NAME_EDUCATION_TYPE_Higher_education  NAME_CONTRACT_TYPE_Cash_loans  \\\n",
       "28726                                     0                              1   \n",
       "9356                                      0                              1   \n",
       "24251                                     1                              1   \n",
       "31176                                     0                              1   \n",
       "26053                                     1                              1   \n",
       "30159                                     0                              1   \n",
       "13343                                     1                              0   \n",
       "26266                                     1                              1   \n",
       "354                                       0                              1   \n",
       "8663                                      0                              1   \n",
       "\n",
       "       NAME_INCOME_TYPE_Working  \n",
       "28726                         1  \n",
       "9356                          1  \n",
       "24251                         0  \n",
       "31176                         1  \n",
       "26053                         0  \n",
       "30159                         0  \n",
       "13343                         1  \n",
       "26266                         0  \n",
       "354                           1  \n",
       "8663                          1  "
      ]
     },
     "execution_count": 152,
     "metadata": {},
     "output_type": "execute_result"
    }
   ],
   "source": [
    "df_TN_sample = df_TN.sample(nb_observations)\n",
    "df_TN_sample"
   ]
  },
  {
   "cell_type": "markdown",
   "id": "b37fd39e-327c-4f15-a298-931131805969",
   "metadata": {},
   "source": [
    "Vérifier que cette ligne de commande Linux renvoie une prédiction de classe \"0\""
   ]
  },
  {
   "cell_type": "code",
   "execution_count": 153,
   "id": "5ebdb6e2-0359-4903-a38d-305e87f0a56d",
   "metadata": {
    "scrolled": true
   },
   "outputs": [
    {
     "name": "stdout",
     "output_type": "stream",
     "text": [
      "curl -d'{\"dataframe_split\": {\"columns\":[\"CODE_GENDER_M\",\"EXT_SOURCE_3\",\"EXT_SOURCE_2\",\"NAME_EDUCATION_TYPE_Secondary_or_secondary_special\",\"NAME_EDUCATION_TYPE_Higher_education\",\"NAME_CONTRACT_TYPE_Cash_loans\",\"NAME_INCOME_TYPE_Working\"],\"index\":[28726,9356,24251,31176,26053,30159,13343,26266,354,8663],\"data\":[[0,0.5136937663,0.6711988652,1,0,1,1],[0,0.4632753281,0.7159232202,1,0,1,1],[0,0.656158373,0.7589476174,0,1,1,0],[1,0.7076993447,0.367035797,1,0,1,1],[0,0.4329616671,0.6149092475,0,1,1,0],[0,0.6545292802,0.7443950327,1,0,1,0],[0,0.5884877883,0.491529006,0,1,0,1],[0,0.7764098512,0.4251207017,0,1,1,0],[0,0.6610235391,0.4762169811,1,0,1,1],[0,0.665854922,0.5987476984,1,0,1,1]]}}' -H 'Content-Type: application/json' -X POST localhost:5677/invocations\n"
     ]
    }
   ],
   "source": [
    "shell_command = get_curl_command(df_TN_sample, url_api)\n",
    "print(shell_command)"
   ]
  },
  {
   "cell_type": "code",
   "execution_count": 154,
   "id": "e5b30112-9d36-4dde-b7bc-954bf751395e",
   "metadata": {},
   "outputs": [
    {
     "name": "stdout",
     "output_type": "stream",
     "text": [
      "{\"predictions\": [0.4005722999572754, 0.419644296169281, 0.2925635278224945, 0.4535232186317444, 0.39870113134384155, 0.3309217691421509, 0.33661720156669617, 0.3511064052581787, 0.4159581959247589, 0.40274977684020996]}"
     ]
    },
    {
     "name": "stderr",
     "output_type": "stream",
     "text": [
      "  % Total    % Received % Xferd  Average Speed   Time    Time     Time  Current\n",
      "                                 Dload  Upload   Total   Spent    Left  Speed\n",
      "100   901  100   219  100   682   2546   7930 --:--:-- --:--:-- --:--:-- 10476\n"
     ]
    }
   ],
   "source": [
    "get_ipython().system_raw(shell_command)  "
   ]
  },
  {
   "cell_type": "markdown",
   "id": "4bebd4a0-9587-46b2-8358-fae01a67f31d",
   "metadata": {},
   "source": [
    "# Feature Importance"
   ]
  },
  {
   "cell_type": "markdown",
   "id": "70757f93-4bb1-4559-8686-9374fc0441c9",
   "metadata": {
    "id": "gjz3f_X5HkFa"
   },
   "source": [
    "# Fin du traitement"
   ]
  },
  {
   "cell_type": "code",
   "execution_count": 225,
   "id": "4c0794e0-460f-40f0-b258-59ff1547f33d",
   "metadata": {
    "colab": {
     "base_uri": "https://localhost:8080/",
     "height": 141
    },
    "executionInfo": {
     "elapsed": 284,
     "status": "error",
     "timestamp": 1713256883996,
     "user": {
      "displayName": "Jean Vallée",
      "userId": "09369690285448182876"
     },
     "user_tz": -120
    },
    "id": "Ubs3bkasHeR1",
    "outputId": "a53ae3c6-07d7-4c06-e6ed-7f245b37748a"
   },
   "outputs": [
    {
     "ename": "AssertionError",
     "evalue": "",
     "output_type": "error",
     "traceback": [
      "\u001b[0;31m---------------------------------------------------------------------------\u001b[0m",
      "\u001b[0;31mAssertionError\u001b[0m                            Traceback (most recent call last)",
      "Cell \u001b[0;32mIn[225], line 1\u001b[0m\n\u001b[0;32m----> 1\u001b[0m \u001b[38;5;28;01massert\u001b[39;00m(\u001b[38;5;28;01mFalse\u001b[39;00m)\n",
      "\u001b[0;31mAssertionError\u001b[0m: "
     ]
    }
   ],
   "source": [
    "assert(False) # prevents the execution of following cells"
   ]
  },
  {
   "cell_type": "markdown",
   "id": "259cbcdd-67de-40ee-a062-d1e1ffae5d2b",
   "metadata": {},
   "source": [
    "# Annexe"
   ]
  },
  {
   "cell_type": "markdown",
   "id": "3e7b6cd2-b400-4ed2-8a82-58221df59c53",
   "metadata": {},
   "source": [
    "## Machine Virtuelle sur G-Cloud"
   ]
  },
  {
   "cell_type": "markdown",
   "id": "4e9f89e7-0736-423b-aa9f-852658087bd2",
   "metadata": {},
   "source": [
    "### Création"
   ]
  },
  {
   "cell_type": "markdown",
   "id": "bc2491d4-7e36-4f72-8e59-4bbfb321f651",
   "metadata": {},
   "source": [
    "|||||\n",
    "|--|--|--|--|\n",
    "|**Create VM**|Europe-Paris|E2-micro|Firewall allow : http & https|\n",
    "\n",
    "#### Bash commands\n",
    "<code>\n",
    "sudo apt install git\n",
    "git clone https://github.com/JeanRosselVallee/project_8\n",
    "cd project_8\n",
    "export PATH=\"/usr/bin:$PATH\"\n",
    "sudo apt-get install python3-pip\n",
    "sudo apt install python3.11-venv\n",
    "python3 -m venv ./my_env\n",
    "source ./my_env/bin/activate\n",
    "pip3 install jupyter\n",
    "jupyter notebook --version\n",
    "./launch_jupyter.sh\n",
    "</code>"
   ]
  },
  {
   "cell_type": "code",
   "execution_count": 3,
   "id": "4c4b4a1a-98db-4b01-8c64-9958c089cdad",
   "metadata": {},
   "outputs": [
    {
     "name": "stdout",
     "output_type": "stream",
     "text": [
      "source ~/project_8/my_env/bin/activate\n",
      "nohup jupyter notebook --no-browser  --ip=0.0.0.0 --port=5555 &\n",
      "sleep 1\n",
      "jupyter notebook list\n",
      "echo \"Process & Listening Port :\"\n",
      "ps aux | grep \"jupy\" | grep -v \"grep\" | awk '{print $2, $15, $19}'\n",
      "ss -tuln | grep 5555\n",
      "\n"
     ]
    }
   ],
   "source": [
    "! cat ~/project_8/shl/launch_jupyter.sh"
   ]
  },
  {
   "cell_type": "markdown",
   "id": "d2409892-374d-437f-9685-121e78cd78a9",
   "metadata": {},
   "source": [
    "### Arrêt"
   ]
  },
  {
   "cell_type": "markdown",
   "id": "c5f65061-521d-4d65-8c51-dd67f78196a4",
   "metadata": {},
   "source": [
    "<code>\n",
    "pkill -f \":5677\"\n",
    "jupyter notebook stop 5555\n",
    "</code>"
   ]
  },
  {
   "cell_type": "markdown",
   "id": "c918bdd7-1556-46d5-8d18-0342d57ccb62",
   "metadata": {},
   "source": [
    "G-Cloud : VM > Stop"
   ]
  },
  {
   "cell_type": "markdown",
   "id": "91ad3cc0-031a-443f-847b-d0b6ed423870",
   "metadata": {},
   "source": [
    "### Re-démarrage"
   ]
  },
  {
   "cell_type": "markdown",
   "id": "e664d1ab-e9e4-4a96-970b-7ade7e4908a0",
   "metadata": {},
   "source": [
    "- G-Cloud : VM > Start\n",
    "- <code>./launch_mlflow.sh</code>"
   ]
  },
  {
   "cell_type": "code",
   "execution_count": 4,
   "id": "f6c9fde9-0403-4c94-b071-54746dc79a49",
   "metadata": {},
   "outputs": [
    {
     "name": "stdout",
     "output_type": "stream",
     "text": [
      "source ~/project_8/my_env/bin/activate\n",
      "pkill -f \":5677\"\n",
      "sleep 3\n",
      "nohup mlflow models serve -m ~/project_8/data/model/ -p 5677 -h 0.0.0.0 --no-conda &\n",
      "sleep 6\n",
      "ps aux | grep \"scoring_server\" | grep -v \"grep\" | awk '{print $2, $15, $19}'\n"
     ]
    }
   ],
   "source": [
    "! cat ~/project_8/shl/launch_mlflow.sh"
   ]
  },
  {
   "cell_type": "markdown",
   "id": "bed4fe97-a7e5-41a1-acc2-16576d5f0814",
   "metadata": {},
   "source": [
    "## Jupyter"
   ]
  },
  {
   "cell_type": "markdown",
   "id": "c877bd9e-850b-4cbe-8aa4-b7828350d633",
   "metadata": {},
   "source": [
    "### Arrêt"
   ]
  },
  {
   "cell_type": "code",
   "execution_count": 45,
   "id": "59b3ace8-2a67-4326-aeb6-85ebfafd5021",
   "metadata": {},
   "outputs": [],
   "source": [
    "# ! jupyter notebook stop 5555"
   ]
  },
  {
   "cell_type": "markdown",
   "id": "aa79da89-4b50-4411-9e33-d0dc59d99461",
   "metadata": {},
   "source": [
    "### Re-démarrage"
   ]
  },
  {
   "cell_type": "markdown",
   "id": "79f469b7-10a1-4473-8ccc-da9fda2b2407",
   "metadata": {},
   "source": [
    "- get IP@ \n",
    "    - VM > Details > \"Network Interfaces\" > External IP @\n",
    "    - http://4.233.201.217:5555/tree?token=\n",
    "- <code>./launch_jupyter.sh</code>\n",
    "- Notebook \"server_mlflow\"\n",
    "    - Sections\n",
    "        - \"Initialisation\" : model_path\n",
    "        - \"Mise en service\"\n",
    "- Test from [Web App](https://project8-dashboard.streamlit.app/)"
   ]
  }
 ],
 "metadata": {
  "kernelspec": {
   "display_name": "Python 3 (ipykernel)",
   "language": "python",
   "name": "python3"
  },
  "language_info": {
   "codemirror_mode": {
    "name": "ipython",
    "version": 3
   },
   "file_extension": ".py",
   "mimetype": "text/x-python",
   "name": "python",
   "nbconvert_exporter": "python",
   "pygments_lexer": "ipython3",
   "version": "3.11.2"
  }
 },
 "nbformat": 4,
 "nbformat_minor": 5
}
