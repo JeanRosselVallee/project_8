{
 "cells": [
  {
   "cell_type": "markdown",
   "id": "c777d4a4-52f5-4605-9545-2410420d6d23",
   "metadata": {},
   "source": [
    "# Initialization"
   ]
  },
  {
   "cell_type": "code",
   "execution_count": 1,
   "id": "8320eac9-9bf5-4b49-87b2-eb054e764c03",
   "metadata": {},
   "outputs": [],
   "source": [
    "# pip install --quiet streamlit plotly mlflow xgboost"
   ]
  },
  {
   "cell_type": "code",
   "execution_count": 2,
   "id": "af29eff2-a1aa-4bac-981b-c895085f7d19",
   "metadata": {
    "scrolled": true
   },
   "outputs": [],
   "source": [
    "! pip install --quiet -r ./data/model/requirements.txt"
   ]
  },
  {
   "cell_type": "code",
   "execution_count": 3,
   "id": "49c0eb91-dd63-49b2-a0e5-cd3463d87daa",
   "metadata": {},
   "outputs": [],
   "source": [
    "import streamlit as st\n",
    "import pandas as pd\n",
    "import numpy as np\n",
    "import json\n",
    "import mlflow"
   ]
  },
  {
   "cell_type": "code",
   "execution_count": 4,
   "id": "49be24b3-8023-4c88-8681-24883d85dd5e",
   "metadata": {},
   "outputs": [],
   "source": [
    "dir_in = './data/in/'"
   ]
  },
  {
   "cell_type": "markdown",
   "id": "e65b037e-a565-456d-9768-843fb85d8f16",
   "metadata": {},
   "source": [
    "# Folder Contents"
   ]
  },
  {
   "cell_type": "code",
   "execution_count": 5,
   "id": "fc780ff5-de1d-4c7d-83f9-af45f19c26ab",
   "metadata": {},
   "outputs": [
    {
     "data": {
      "text/plain": [
       "'/home/user_n/Documents/Dev/git/project_8'"
      ]
     },
     "execution_count": 5,
     "metadata": {},
     "output_type": "execute_result"
    }
   ],
   "source": [
    "pwd"
   ]
  },
  {
   "cell_type": "code",
   "execution_count": 6,
   "id": "4df0cec9-5ec3-40fb-88e6-ae95fe88ad26",
   "metadata": {},
   "outputs": [],
   "source": [
    "path_code = 'Index.py'"
   ]
  },
  {
   "cell_type": "code",
   "execution_count": 7,
   "id": "21899c12-39f0-4832-9024-e8012689c060",
   "metadata": {},
   "outputs": [
    {
     "name": "stdout",
     "output_type": "stream",
     "text": [
      "Index.py\n"
     ]
    }
   ],
   "source": [
    "ls $path_code"
   ]
  },
  {
   "cell_type": "code",
   "execution_count": 8,
   "id": "5f8f55a1-2290-439a-9a71-08ed8900d4c1",
   "metadata": {
    "scrolled": true
   },
   "outputs": [
    {
     "name": "stdout",
     "output_type": "stream",
     "text": [
      "'''\n",
      "Index.py\n",
      "Main page of Streamlit app\n",
      "'''\n",
      "\n",
      "import streamlit as st\n",
      "\n",
      "st.set_page_config(\n",
      "\tpage_title=\"Hello\",\n",
      "\tpage_icon=\"👋\",\n",
      "\tlayout=\"wide\"\t\n",
      ")\n",
      "\n",
      "# Customize the sidebar\n",
      "st.sidebar.title(\"About\")\n",
      "st.sidebar.info(\"\"\"\n",
      "\tWeb App URL: <https://project8-ocr.streamlit.app/>\n",
      "\tGitHub Repository: <https://github.com/JeanRosselVallee/project_8>\n",
      "\t\"\"\")\n",
      "st.sidebar.image(\"https://www.whenthebanksaysno.co.uk/wp-content/uploads/2023/05/D9585792-ED4C-4363-900E-1EDCE31B99B1.jpeg\")\n",
      "\n",
      "# Customize page title\n",
      "st.title(\"Credit Application Dashboard\")\n",
      "\n",
      "st.markdown(\n",
      "    \"\"\"\n",
      "    This multipage app template demonstrates various interactive web apps created using [streamlit](https://streamlit.io) and [leafmap](https://leafmap.org). It is an open-source project and you are very welcome to contribute to the [GitHub repository](https://github.com/giswqs/streamlit-multipage-template).\n",
      "    \"\"\"\n",
      ")\n",
      "\n",
      "st.header(\"Instructions\")\n",
      "\n",
      "markdown = \"\"\"\n",
      "1. Select a client's application for credit\n",
      "2. Find your favorite emoji from https://emojipedia.org.\n",
      "4. Add a new app to the `pages/` directory with an emoji in the file name, e.g., `1_🚀_Chart.py`.\n",
      "\"\"\"\n",
      "\n",
      "st.write(\"# Welcome to Streamlit! 👋\")\n",
      "\n",
      "st.sidebar.success(\"Select a demo above.\")\n",
      "\n",
      "st.markdown(\n",
      "\t'''\n",
      "\t# Credit Application Dashboard\n",
      "\t- Customer Profile\n",
      "\t- Simulation \n",
      "'''\n",
      ")\n",
      "\n",
      "\n",
      "st.markdown(markdown)\n"
     ]
    }
   ],
   "source": [
    "cat $path_code"
   ]
  },
  {
   "cell_type": "markdown",
   "id": "4361edd3-cfb2-4cc4-a2be-18a47efdc27a",
   "metadata": {},
   "source": [
    "# Launch App on LocalHost"
   ]
  },
  {
   "cell_type": "code",
   "execution_count": 9,
   "id": "526bf98c-2824-40eb-bc9b-ea020f9dbef5",
   "metadata": {},
   "outputs": [
    {
     "name": "stdout",
     "output_type": "stream",
     "text": [
      "\u001b[0m\n",
      "\u001b[34m\u001b[1m  You can now view your Streamlit app in your browser.\u001b[0m\n",
      "\u001b[0m\n",
      "\u001b[34m  Local URL: \u001b[0m\u001b[1mhttp://localhost:8502\u001b[0m\n",
      "\u001b[34m  Network URL: \u001b[0m\u001b[1mhttp://192.168.1.107:8502\u001b[0m\n",
      "\u001b[0m\n",
      "^C\n",
      "\u001b[34m  Stopping...\u001b[0m\n"
     ]
    }
   ],
   "source": [
    "#! streamlit run $path_code"
   ]
  },
  {
   "cell_type": "markdown",
   "id": "4dbbc616-cf79-4307-a1da-6e07f4ac1671",
   "metadata": {},
   "source": [
    "# Commandes Git"
   ]
  },
  {
   "cell_type": "raw",
   "id": "dd6fca3e-c741-4a56-8f81-8f907278c220",
   "metadata": {},
   "source": [
    "echo \"# project_8\" >> README.md\n",
    "git init\n",
    "git add README.md\n",
    "git commit -m \"first commit\"\n",
    "git branch -M main\n",
    "git remote add origin https://github.com/JeanRosselVallee/project_8.git\n",
    "git push -u origin main\n",
    "\n",
    "git remote add origin https://github.com/JeanRosselVallee/project_8.git\n",
    "git branch -M main\n",
    "git push -u origin main"
   ]
  },
  {
   "cell_type": "markdown",
   "id": "46c378af-f9b0-49a1-bcd7-bc3e8ed968d6",
   "metadata": {},
   "source": [
    "# Import Data from Project 7"
   ]
  },
  {
   "cell_type": "markdown",
   "id": "d485068d-f2fc-44cd-a898-9e06a829e3a6",
   "metadata": {},
   "source": [
    "## Choix du jeu de données"
   ]
  },
  {
   "cell_type": "markdown",
   "id": "ed785044-4814-4fbe-bd67-4a82b5625a8b",
   "metadata": {},
   "source": [
    "Les prédictions se feront sur les applications du jeu de test parce que le modèle a été entraîné sur celui d'entraînement"
   ]
  },
  {
   "cell_type": "code",
   "execution_count": 36,
   "id": "780552a6-9b42-4d1c-a43e-7037b96f970c",
   "metadata": {},
   "outputs": [
    {
     "name": "stdout",
     "output_type": "stream",
     "text": [
      "../project_7/modeling/data/out/X_test_2.csv\n",
      "../project_7/modeling/data/out/y_pred_4.csv\n",
      "../project_7/modeling/data/out/y_test_2.csv\n"
     ]
    }
   ],
   "source": [
    "ls ../project_7/modeling/data/out/*test_2.csv ../project_7/modeling/data/out/*pred*.csv"
   ]
  },
  {
   "cell_type": "code",
   "execution_count": 37,
   "id": "603aafa4-479f-4c43-8e5f-41f7561fd05e",
   "metadata": {},
   "outputs": [],
   "source": [
    "cp ../project_7/modeling/data/out/*_test_2.csv ./data/in/"
   ]
  },
  {
   "cell_type": "code",
   "execution_count": 38,
   "id": "d3a1c7e0-d8b8-4825-8ccf-30744b0da1c6",
   "metadata": {},
   "outputs": [],
   "source": [
    "cp ../project_7/test_api/data/li_features.txt ./data/in/"
   ]
  },
  {
   "cell_type": "code",
   "execution_count": 39,
   "id": "7c070ddf-31e5-4589-876e-e8fd2cc3687e",
   "metadata": {},
   "outputs": [
    {
     "name": "stdout",
     "output_type": "stream",
     "text": [
      "config.json      model_optimal_simplified.json  X_TP.csv\n",
      "data.csv         X_test_2.csv                   y_pred_4.csv\n",
      "li_features.txt  X_TN.csv                       y_test_2.csv\n"
     ]
    }
   ],
   "source": [
    "ls ./data/in/"
   ]
  },
  {
   "cell_type": "code",
   "execution_count": 40,
   "id": "4c6e1bdb-e3d1-488e-ad6e-49d3b4613037",
   "metadata": {},
   "outputs": [
    {
     "name": "stdout",
     "output_type": "stream",
     "text": [
      "8 ./data/in/config.json\n",
      "48679 ./data/in/data.csv\n",
      "1 ./data/in/li_features.txt\n",
      "0 ./data/in/model_optimal_simplified.json\n",
      "48679 ./data/in/X_test_2.csv\n",
      "33121 ./data/in/X_TN.csv\n",
      "2359 ./data/in/X_TP.csv\n",
      "48679 ./data/in/y_pred_4.csv\n",
      "48679 ./data/in/y_test_2.csv\n"
     ]
    }
   ],
   "source": [
    "! for file_i in ./data/in/* ; do wc -l $file_i ; done"
   ]
  },
  {
   "cell_type": "markdown",
   "id": "732bd023-0975-42a5-b0a4-b22f1b1be2be",
   "metadata": {},
   "source": [
    "### Chargement"
   ]
  },
  {
   "cell_type": "code",
   "execution_count": 41,
   "id": "d8e6de51-8e09-49ef-927b-798fd2f6212f",
   "metadata": {},
   "outputs": [],
   "source": [
    "def load_data(file):\n",
    "    try    : \n",
    "        df_contents = pd.read_csv(file)   .rename(columns={'Unnamed: 0': 'request_id'}) \\\n",
    "                                          .set_index('request_id')\n",
    "        return df_contents\n",
    "    except Exception as e: \n",
    "        print(f'Could not open file {file}: {e}')"
   ]
  },
  {
   "cell_type": "markdown",
   "id": "3c77c9c8-9885-40f9-80a5-30c631b95063",
   "metadata": {},
   "source": [
    "#### Attributs"
   ]
  },
  {
   "cell_type": "code",
   "execution_count": 42,
   "id": "da3369e2-f0e5-477a-8803-f67c386e1637",
   "metadata": {},
   "outputs": [
    {
     "data": {
      "text/plain": [
       "(48678, 125)"
      ]
     },
     "execution_count": 42,
     "metadata": {},
     "output_type": "execute_result"
    }
   ],
   "source": [
    "path_X = dir_in + 'X_test_2.csv'\n",
    "df_X = load_data(path_X)\n",
    "df_X.shape"
   ]
  },
  {
   "cell_type": "code",
   "execution_count": 43,
   "id": "ee65aa9f-c90a-4eda-9bd2-f8afe0b3c0af",
   "metadata": {},
   "outputs": [
    {
     "data": {
      "text/plain": [
       "['CODE_GENDER_M',\n",
       " 'EXT_SOURCE_3',\n",
       " 'EXT_SOURCE_2',\n",
       " 'NAME_EDUCATION_TYPE_Secondary_or_secondary_special',\n",
       " 'NAME_EDUCATION_TYPE_Higher_education',\n",
       " 'NAME_CONTRACT_TYPE_Cash_loans',\n",
       " 'NAME_INCOME_TYPE_Working']"
      ]
     },
     "execution_count": 43,
     "metadata": {},
     "output_type": "execute_result"
    }
   ],
   "source": [
    "with open(dir_in + 'li_features.txt') as file_object:\n",
    "    str_li_features = file_object.read()\n",
    "li_features = eval(str_li_features)\n",
    "li_features"
   ]
  },
  {
   "cell_type": "code",
   "execution_count": 44,
   "id": "0fa3daad-78c4-43d4-bc7f-4f03c7a915f6",
   "metadata": {},
   "outputs": [
    {
     "data": {
      "text/html": [
       "<div>\n",
       "<style scoped>\n",
       "    .dataframe tbody tr th:only-of-type {\n",
       "        vertical-align: middle;\n",
       "    }\n",
       "\n",
       "    .dataframe tbody tr th {\n",
       "        vertical-align: top;\n",
       "    }\n",
       "\n",
       "    .dataframe thead th {\n",
       "        text-align: right;\n",
       "    }\n",
       "</style>\n",
       "<table border=\"1\" class=\"dataframe\">\n",
       "  <thead>\n",
       "    <tr style=\"text-align: right;\">\n",
       "      <th></th>\n",
       "      <th>CODE_GENDER_M</th>\n",
       "      <th>EXT_SOURCE_3</th>\n",
       "      <th>EXT_SOURCE_2</th>\n",
       "      <th>NAME_EDUCATION_TYPE_Secondary_or_secondary_special</th>\n",
       "      <th>NAME_EDUCATION_TYPE_Higher_education</th>\n",
       "      <th>NAME_CONTRACT_TYPE_Cash_loans</th>\n",
       "      <th>NAME_INCOME_TYPE_Working</th>\n",
       "    </tr>\n",
       "    <tr>\n",
       "      <th>request_id</th>\n",
       "      <th></th>\n",
       "      <th></th>\n",
       "      <th></th>\n",
       "      <th></th>\n",
       "      <th></th>\n",
       "      <th></th>\n",
       "      <th></th>\n",
       "    </tr>\n",
       "  </thead>\n",
       "  <tbody>\n",
       "    <tr>\n",
       "      <th>155094</th>\n",
       "      <td>0</td>\n",
       "      <td>0.770087</td>\n",
       "      <td>0.607697</td>\n",
       "      <td>0</td>\n",
       "      <td>1</td>\n",
       "      <td>1</td>\n",
       "      <td>0</td>\n",
       "    </tr>\n",
       "  </tbody>\n",
       "</table>\n",
       "</div>"
      ],
      "text/plain": [
       "            CODE_GENDER_M  EXT_SOURCE_3  EXT_SOURCE_2  \\\n",
       "request_id                                              \n",
       "155094                  0      0.770087      0.607697   \n",
       "\n",
       "            NAME_EDUCATION_TYPE_Secondary_or_secondary_special  \\\n",
       "request_id                                                       \n",
       "155094                                                      0    \n",
       "\n",
       "            NAME_EDUCATION_TYPE_Higher_education  \\\n",
       "request_id                                         \n",
       "155094                                         1   \n",
       "\n",
       "            NAME_CONTRACT_TYPE_Cash_loans  NAME_INCOME_TYPE_Working  \n",
       "request_id                                                           \n",
       "155094                                  1                         0  "
      ]
     },
     "metadata": {},
     "output_type": "display_data"
    },
    {
     "data": {
      "text/plain": [
       "(48678, 7)"
      ]
     },
     "execution_count": 44,
     "metadata": {},
     "output_type": "execute_result"
    }
   ],
   "source": [
    "df_X = df_X[li_features]\n",
    "display(df_X.head(1))\n",
    "df_X.shape"
   ]
  },
  {
   "cell_type": "markdown",
   "id": "49a89636-4a77-4f2c-95a6-b4bd85f33e3c",
   "metadata": {},
   "source": [
    "#### Cible"
   ]
  },
  {
   "cell_type": "code",
   "execution_count": 45,
   "id": "99100e90-da8e-4a47-95ce-f69e82e2b9f3",
   "metadata": {},
   "outputs": [
    {
     "data": {
      "text/html": [
       "<div>\n",
       "<style scoped>\n",
       "    .dataframe tbody tr th:only-of-type {\n",
       "        vertical-align: middle;\n",
       "    }\n",
       "\n",
       "    .dataframe tbody tr th {\n",
       "        vertical-align: top;\n",
       "    }\n",
       "\n",
       "    .dataframe thead th {\n",
       "        text-align: right;\n",
       "    }\n",
       "</style>\n",
       "<table border=\"1\" class=\"dataframe\">\n",
       "  <thead>\n",
       "    <tr style=\"text-align: right;\">\n",
       "      <th></th>\n",
       "      <th>TARGET</th>\n",
       "    </tr>\n",
       "    <tr>\n",
       "      <th>request_id</th>\n",
       "      <th></th>\n",
       "    </tr>\n",
       "  </thead>\n",
       "  <tbody>\n",
       "    <tr>\n",
       "      <th>155094</th>\n",
       "      <td>0</td>\n",
       "    </tr>\n",
       "  </tbody>\n",
       "</table>\n",
       "</div>"
      ],
      "text/plain": [
       "            TARGET\n",
       "request_id        \n",
       "155094           0"
      ]
     },
     "metadata": {},
     "output_type": "display_data"
    }
   ],
   "source": [
    "path_y = dir_in + 'y_test_2.csv'\n",
    "df_y = load_data(path_y)\n",
    "df_y.shape\n",
    "display(df_y.head(1))"
   ]
  },
  {
   "cell_type": "markdown",
   "id": "73d0b807-0a0d-4a16-9a9d-41192e5ac8ee",
   "metadata": {},
   "source": [
    "### Jointure d'attributs et cible"
   ]
  },
  {
   "cell_type": "markdown",
   "id": "8de152b3-bb63-4e2e-8105-f161c93a896e",
   "metadata": {},
   "source": [
    "Les variables portent des noms simplifiés"
   ]
  },
  {
   "cell_type": "code",
   "execution_count": 46,
   "id": "2dd814f1-3d04-493e-92d2-2e7c5adead3f",
   "metadata": {},
   "outputs": [],
   "source": [
    "li_features_simplified  = ['male', 'score_A', 'score_B', 'edu_level_2', 'edu_level_3', 'cash_loan', 'employee']\n",
    "li_variables_simplified = li_features_simplified + ['class']"
   ]
  },
  {
   "cell_type": "code",
   "execution_count": 47,
   "id": "974795f7-090d-427e-88ff-45e42ac33b54",
   "metadata": {},
   "outputs": [
    {
     "data": {
      "text/html": [
       "<div>\n",
       "<style scoped>\n",
       "    .dataframe tbody tr th:only-of-type {\n",
       "        vertical-align: middle;\n",
       "    }\n",
       "\n",
       "    .dataframe tbody tr th {\n",
       "        vertical-align: top;\n",
       "    }\n",
       "\n",
       "    .dataframe thead th {\n",
       "        text-align: right;\n",
       "    }\n",
       "</style>\n",
       "<table border=\"1\" class=\"dataframe\">\n",
       "  <thead>\n",
       "    <tr style=\"text-align: right;\">\n",
       "      <th></th>\n",
       "      <th>male</th>\n",
       "      <th>score_A</th>\n",
       "      <th>score_B</th>\n",
       "      <th>edu_level_2</th>\n",
       "      <th>edu_level_3</th>\n",
       "      <th>cash_loan</th>\n",
       "      <th>employee</th>\n",
       "      <th>class</th>\n",
       "    </tr>\n",
       "    <tr>\n",
       "      <th>request_id</th>\n",
       "      <th></th>\n",
       "      <th></th>\n",
       "      <th></th>\n",
       "      <th></th>\n",
       "      <th></th>\n",
       "      <th></th>\n",
       "      <th></th>\n",
       "      <th></th>\n",
       "    </tr>\n",
       "  </thead>\n",
       "  <tbody>\n",
       "    <tr>\n",
       "      <th>155094</th>\n",
       "      <td>0</td>\n",
       "      <td>0.770087</td>\n",
       "      <td>0.607697</td>\n",
       "      <td>0</td>\n",
       "      <td>1</td>\n",
       "      <td>1</td>\n",
       "      <td>0</td>\n",
       "      <td>0</td>\n",
       "    </tr>\n",
       "  </tbody>\n",
       "</table>\n",
       "</div>"
      ],
      "text/plain": [
       "            male   score_A   score_B  edu_level_2  edu_level_3  cash_loan  \\\n",
       "request_id                                                                  \n",
       "155094         0  0.770087  0.607697            0            1          1   \n",
       "\n",
       "            employee  class  \n",
       "request_id                   \n",
       "155094             0      0  "
      ]
     },
     "metadata": {},
     "output_type": "display_data"
    },
    {
     "data": {
      "text/plain": [
       "(48678, 8)"
      ]
     },
     "execution_count": 47,
     "metadata": {},
     "output_type": "execute_result"
    }
   ],
   "source": [
    "df_data = df_X.join(df_y)\n",
    "df_data.columns = li_variables_simplified\n",
    "display(df_data.head(1))\n",
    "df_data.shape"
   ]
  },
  {
   "cell_type": "markdown",
   "id": "df0da274-33c0-416d-b08b-1c48ee8b8080",
   "metadata": {
    "id": "l1DafD3-zrSA"
   },
   "source": [
    "### Sauvegarde"
   ]
  },
  {
   "cell_type": "code",
   "execution_count": 48,
   "id": "ba13de19-289d-46a9-91b5-f6a8ff919117",
   "metadata": {},
   "outputs": [],
   "source": [
    "df_data.to_csv(dir_in + 'data.csv')"
   ]
  },
  {
   "cell_type": "code",
   "execution_count": 49,
   "id": "f1c41eba-ab65-4cc0-9737-2ca27d5d776a",
   "metadata": {},
   "outputs": [
    {
     "name": "stdout",
     "output_type": "stream",
     "text": [
      "./data/in//data.csv\n"
     ]
    }
   ],
   "source": [
    "ls $dir_in/data.csv"
   ]
  },
  {
   "cell_type": "code",
   "execution_count": 50,
   "id": "83334f29-1534-4440-81fa-587f5b984b8b",
   "metadata": {},
   "outputs": [
    {
     "name": "stdout",
     "output_type": "stream",
     "text": [
      "request_id,male,score_A,score_B,edu_level_2,edu_level_3,cash_loan,employee,class\n",
      "155094,0,0.7700870700124128,0.6076973714617412,0,1,1,0,0\n",
      "74108,0,0.4258928980051529,0.7318427244611323,1,0,1,1,0\n"
     ]
    }
   ],
   "source": [
    "! head -n 3 $dir_in/data.csv"
   ]
  },
  {
   "cell_type": "markdown",
   "id": "2c3f8f4f-2205-4663-af61-50eadd85700f",
   "metadata": {},
   "source": [
    "## Choix du modèle"
   ]
  },
  {
   "cell_type": "markdown",
   "id": "1721e670-acfd-4509-88e1-7b4b63a93a6e",
   "metadata": {},
   "source": [
    "On copie le modèle de prédiction le plus récent: celui deployé en pré-Prod car celui en Prod est absent du dépôt Git"
   ]
  },
  {
   "cell_type": "code",
   "execution_count": 51,
   "id": "5de90270-8ce0-4822-8c1d-2fa2a939c336",
   "metadata": {},
   "outputs": [],
   "source": [
    "# cp ../project_7/api/staging_model/* ./data/model/"
   ]
  },
  {
   "cell_type": "markdown",
   "id": "1a1e13c2-100e-460a-91e4-893551185884",
   "metadata": {},
   "source": [
    "# Modèle adapté"
   ]
  },
  {
   "cell_type": "code",
   "execution_count": 52,
   "id": "40a88e22-8a5c-4a60-bf57-9d064319dd99",
   "metadata": {},
   "outputs": [],
   "source": [
    "from xgboost import XGBClassifier"
   ]
  },
  {
   "cell_type": "code",
   "execution_count": 53,
   "id": "4d7607ee-89ae-430c-8272-7696f3aa9e29",
   "metadata": {},
   "outputs": [],
   "source": [
    "class XGB_prob(XGBClassifier):\n",
    "    threshold = 0 \n",
    "    def __init__(self, threshold=0.5, **kwargs):\n",
    "        super().__init__(**kwargs)\n",
    "        self.threshold = threshold\n",
    "    def fit(self, df_X_train, df_y_train, **kwargs) : \n",
    "        super().fit(df_X_train, df_y_train, **kwargs)\n",
    "    def predict(self, df_X_subset, bool_save_events=True):      \n",
    "        np_y_pred_proba = super().predict_proba(df_X_subset)[:, 1]  # class 1 probas   \n",
    "        return np_y_pred_proba"
   ]
  },
  {
   "cell_type": "markdown",
   "id": "6fb838dc-d64c-433c-b7e7-30fdb2b67bb0",
   "metadata": {
    "id": "io8FXAo9zumG"
   },
   "source": [
    "## Récupération"
   ]
  },
  {
   "cell_type": "code",
   "execution_count": 54,
   "id": "b25a5f46-3c40-4755-a560-3281708b8d32",
   "metadata": {},
   "outputs": [],
   "source": [
    "path_config = '../config.json' "
   ]
  },
  {
   "cell_type": "code",
   "execution_count": 55,
   "id": "a76289e2-11b1-47e2-9796-889549265fe7",
   "metadata": {},
   "outputs": [],
   "source": [
    "# cp ../project_7/config.json ./data/in/"
   ]
  },
  {
   "cell_type": "code",
   "execution_count": 56,
   "id": "fb738194-8196-4796-a79d-3672450b89aa",
   "metadata": {},
   "outputs": [],
   "source": [
    "# cp ../project_7/modeling/data/out/model_optimal_simplified.json ./data/in/"
   ]
  },
  {
   "cell_type": "code",
   "execution_count": 57,
   "id": "3c2361d2-2088-4363-970e-a0d57ab03254",
   "metadata": {
    "colab": {
     "base_uri": "https://localhost:8080/",
     "height": 322
    },
    "executionInfo": {
     "elapsed": 10004,
     "status": "ok",
     "timestamp": 1715331203225,
     "user": {
      "displayName": "Jean Vallée",
      "userId": "09369690285448182876"
     },
     "user_tz": -120
    },
    "id": "0J7n-DbceCI7",
    "outputId": "b07cfe9e-3d24-4503-d57f-f9e68a40ce77",
    "scrolled": true
   },
   "outputs": [
    {
     "data": {
      "text/html": [
       "<style>#sk-container-id-2 {\n",
       "  /* Definition of color scheme common for light and dark mode */\n",
       "  --sklearn-color-text: black;\n",
       "  --sklearn-color-line: gray;\n",
       "  /* Definition of color scheme for unfitted estimators */\n",
       "  --sklearn-color-unfitted-level-0: #fff5e6;\n",
       "  --sklearn-color-unfitted-level-1: #f6e4d2;\n",
       "  --sklearn-color-unfitted-level-2: #ffe0b3;\n",
       "  --sklearn-color-unfitted-level-3: chocolate;\n",
       "  /* Definition of color scheme for fitted estimators */\n",
       "  --sklearn-color-fitted-level-0: #f0f8ff;\n",
       "  --sklearn-color-fitted-level-1: #d4ebff;\n",
       "  --sklearn-color-fitted-level-2: #b3dbfd;\n",
       "  --sklearn-color-fitted-level-3: cornflowerblue;\n",
       "\n",
       "  /* Specific color for light theme */\n",
       "  --sklearn-color-text-on-default-background: var(--sg-text-color, var(--theme-code-foreground, var(--jp-content-font-color1, black)));\n",
       "  --sklearn-color-background: var(--sg-background-color, var(--theme-background, var(--jp-layout-color0, white)));\n",
       "  --sklearn-color-border-box: var(--sg-text-color, var(--theme-code-foreground, var(--jp-content-font-color1, black)));\n",
       "  --sklearn-color-icon: #696969;\n",
       "\n",
       "  @media (prefers-color-scheme: dark) {\n",
       "    /* Redefinition of color scheme for dark theme */\n",
       "    --sklearn-color-text-on-default-background: var(--sg-text-color, var(--theme-code-foreground, var(--jp-content-font-color1, white)));\n",
       "    --sklearn-color-background: var(--sg-background-color, var(--theme-background, var(--jp-layout-color0, #111)));\n",
       "    --sklearn-color-border-box: var(--sg-text-color, var(--theme-code-foreground, var(--jp-content-font-color1, white)));\n",
       "    --sklearn-color-icon: #878787;\n",
       "  }\n",
       "}\n",
       "\n",
       "#sk-container-id-2 {\n",
       "  color: var(--sklearn-color-text);\n",
       "}\n",
       "\n",
       "#sk-container-id-2 pre {\n",
       "  padding: 0;\n",
       "}\n",
       "\n",
       "#sk-container-id-2 input.sk-hidden--visually {\n",
       "  border: 0;\n",
       "  clip: rect(1px 1px 1px 1px);\n",
       "  clip: rect(1px, 1px, 1px, 1px);\n",
       "  height: 1px;\n",
       "  margin: -1px;\n",
       "  overflow: hidden;\n",
       "  padding: 0;\n",
       "  position: absolute;\n",
       "  width: 1px;\n",
       "}\n",
       "\n",
       "#sk-container-id-2 div.sk-dashed-wrapped {\n",
       "  border: 1px dashed var(--sklearn-color-line);\n",
       "  margin: 0 0.4em 0.5em 0.4em;\n",
       "  box-sizing: border-box;\n",
       "  padding-bottom: 0.4em;\n",
       "  background-color: var(--sklearn-color-background);\n",
       "}\n",
       "\n",
       "#sk-container-id-2 div.sk-container {\n",
       "  /* jupyter's `normalize.less` sets `[hidden] { display: none; }`\n",
       "     but bootstrap.min.css set `[hidden] { display: none !important; }`\n",
       "     so we also need the `!important` here to be able to override the\n",
       "     default hidden behavior on the sphinx rendered scikit-learn.org.\n",
       "     See: https://github.com/scikit-learn/scikit-learn/issues/21755 */\n",
       "  display: inline-block !important;\n",
       "  position: relative;\n",
       "}\n",
       "\n",
       "#sk-container-id-2 div.sk-text-repr-fallback {\n",
       "  display: none;\n",
       "}\n",
       "\n",
       "div.sk-parallel-item,\n",
       "div.sk-serial,\n",
       "div.sk-item {\n",
       "  /* draw centered vertical line to link estimators */\n",
       "  background-image: linear-gradient(var(--sklearn-color-text-on-default-background), var(--sklearn-color-text-on-default-background));\n",
       "  background-size: 2px 100%;\n",
       "  background-repeat: no-repeat;\n",
       "  background-position: center center;\n",
       "}\n",
       "\n",
       "/* Parallel-specific style estimator block */\n",
       "\n",
       "#sk-container-id-2 div.sk-parallel-item::after {\n",
       "  content: \"\";\n",
       "  width: 100%;\n",
       "  border-bottom: 2px solid var(--sklearn-color-text-on-default-background);\n",
       "  flex-grow: 1;\n",
       "}\n",
       "\n",
       "#sk-container-id-2 div.sk-parallel {\n",
       "  display: flex;\n",
       "  align-items: stretch;\n",
       "  justify-content: center;\n",
       "  background-color: var(--sklearn-color-background);\n",
       "  position: relative;\n",
       "}\n",
       "\n",
       "#sk-container-id-2 div.sk-parallel-item {\n",
       "  display: flex;\n",
       "  flex-direction: column;\n",
       "}\n",
       "\n",
       "#sk-container-id-2 div.sk-parallel-item:first-child::after {\n",
       "  align-self: flex-end;\n",
       "  width: 50%;\n",
       "}\n",
       "\n",
       "#sk-container-id-2 div.sk-parallel-item:last-child::after {\n",
       "  align-self: flex-start;\n",
       "  width: 50%;\n",
       "}\n",
       "\n",
       "#sk-container-id-2 div.sk-parallel-item:only-child::after {\n",
       "  width: 0;\n",
       "}\n",
       "\n",
       "/* Serial-specific style estimator block */\n",
       "\n",
       "#sk-container-id-2 div.sk-serial {\n",
       "  display: flex;\n",
       "  flex-direction: column;\n",
       "  align-items: center;\n",
       "  background-color: var(--sklearn-color-background);\n",
       "  padding-right: 1em;\n",
       "  padding-left: 1em;\n",
       "}\n",
       "\n",
       "\n",
       "/* Toggleable style: style used for estimator/Pipeline/ColumnTransformer box that is\n",
       "clickable and can be expanded/collapsed.\n",
       "- Pipeline and ColumnTransformer use this feature and define the default style\n",
       "- Estimators will overwrite some part of the style using the `sk-estimator` class\n",
       "*/\n",
       "\n",
       "/* Pipeline and ColumnTransformer style (default) */\n",
       "\n",
       "#sk-container-id-2 div.sk-toggleable {\n",
       "  /* Default theme specific background. It is overwritten whether we have a\n",
       "  specific estimator or a Pipeline/ColumnTransformer */\n",
       "  background-color: var(--sklearn-color-background);\n",
       "}\n",
       "\n",
       "/* Toggleable label */\n",
       "#sk-container-id-2 label.sk-toggleable__label {\n",
       "  cursor: pointer;\n",
       "  display: block;\n",
       "  width: 100%;\n",
       "  margin-bottom: 0;\n",
       "  padding: 0.5em;\n",
       "  box-sizing: border-box;\n",
       "  text-align: center;\n",
       "}\n",
       "\n",
       "#sk-container-id-2 label.sk-toggleable__label-arrow:before {\n",
       "  /* Arrow on the left of the label */\n",
       "  content: \"▸\";\n",
       "  float: left;\n",
       "  margin-right: 0.25em;\n",
       "  color: var(--sklearn-color-icon);\n",
       "}\n",
       "\n",
       "#sk-container-id-2 label.sk-toggleable__label-arrow:hover:before {\n",
       "  color: var(--sklearn-color-text);\n",
       "}\n",
       "\n",
       "/* Toggleable content - dropdown */\n",
       "\n",
       "#sk-container-id-2 div.sk-toggleable__content {\n",
       "  max-height: 0;\n",
       "  max-width: 0;\n",
       "  overflow: hidden;\n",
       "  text-align: left;\n",
       "  /* unfitted */\n",
       "  background-color: var(--sklearn-color-unfitted-level-0);\n",
       "}\n",
       "\n",
       "#sk-container-id-2 div.sk-toggleable__content.fitted {\n",
       "  /* fitted */\n",
       "  background-color: var(--sklearn-color-fitted-level-0);\n",
       "}\n",
       "\n",
       "#sk-container-id-2 div.sk-toggleable__content pre {\n",
       "  margin: 0.2em;\n",
       "  border-radius: 0.25em;\n",
       "  color: var(--sklearn-color-text);\n",
       "  /* unfitted */\n",
       "  background-color: var(--sklearn-color-unfitted-level-0);\n",
       "}\n",
       "\n",
       "#sk-container-id-2 div.sk-toggleable__content.fitted pre {\n",
       "  /* unfitted */\n",
       "  background-color: var(--sklearn-color-fitted-level-0);\n",
       "}\n",
       "\n",
       "#sk-container-id-2 input.sk-toggleable__control:checked~div.sk-toggleable__content {\n",
       "  /* Expand drop-down */\n",
       "  max-height: 200px;\n",
       "  max-width: 100%;\n",
       "  overflow: auto;\n",
       "}\n",
       "\n",
       "#sk-container-id-2 input.sk-toggleable__control:checked~label.sk-toggleable__label-arrow:before {\n",
       "  content: \"▾\";\n",
       "}\n",
       "\n",
       "/* Pipeline/ColumnTransformer-specific style */\n",
       "\n",
       "#sk-container-id-2 div.sk-label input.sk-toggleable__control:checked~label.sk-toggleable__label {\n",
       "  color: var(--sklearn-color-text);\n",
       "  background-color: var(--sklearn-color-unfitted-level-2);\n",
       "}\n",
       "\n",
       "#sk-container-id-2 div.sk-label.fitted input.sk-toggleable__control:checked~label.sk-toggleable__label {\n",
       "  background-color: var(--sklearn-color-fitted-level-2);\n",
       "}\n",
       "\n",
       "/* Estimator-specific style */\n",
       "\n",
       "/* Colorize estimator box */\n",
       "#sk-container-id-2 div.sk-estimator input.sk-toggleable__control:checked~label.sk-toggleable__label {\n",
       "  /* unfitted */\n",
       "  background-color: var(--sklearn-color-unfitted-level-2);\n",
       "}\n",
       "\n",
       "#sk-container-id-2 div.sk-estimator.fitted input.sk-toggleable__control:checked~label.sk-toggleable__label {\n",
       "  /* fitted */\n",
       "  background-color: var(--sklearn-color-fitted-level-2);\n",
       "}\n",
       "\n",
       "#sk-container-id-2 div.sk-label label.sk-toggleable__label,\n",
       "#sk-container-id-2 div.sk-label label {\n",
       "  /* The background is the default theme color */\n",
       "  color: var(--sklearn-color-text-on-default-background);\n",
       "}\n",
       "\n",
       "/* On hover, darken the color of the background */\n",
       "#sk-container-id-2 div.sk-label:hover label.sk-toggleable__label {\n",
       "  color: var(--sklearn-color-text);\n",
       "  background-color: var(--sklearn-color-unfitted-level-2);\n",
       "}\n",
       "\n",
       "/* Label box, darken color on hover, fitted */\n",
       "#sk-container-id-2 div.sk-label.fitted:hover label.sk-toggleable__label.fitted {\n",
       "  color: var(--sklearn-color-text);\n",
       "  background-color: var(--sklearn-color-fitted-level-2);\n",
       "}\n",
       "\n",
       "/* Estimator label */\n",
       "\n",
       "#sk-container-id-2 div.sk-label label {\n",
       "  font-family: monospace;\n",
       "  font-weight: bold;\n",
       "  display: inline-block;\n",
       "  line-height: 1.2em;\n",
       "}\n",
       "\n",
       "#sk-container-id-2 div.sk-label-container {\n",
       "  text-align: center;\n",
       "}\n",
       "\n",
       "/* Estimator-specific */\n",
       "#sk-container-id-2 div.sk-estimator {\n",
       "  font-family: monospace;\n",
       "  border: 1px dotted var(--sklearn-color-border-box);\n",
       "  border-radius: 0.25em;\n",
       "  box-sizing: border-box;\n",
       "  margin-bottom: 0.5em;\n",
       "  /* unfitted */\n",
       "  background-color: var(--sklearn-color-unfitted-level-0);\n",
       "}\n",
       "\n",
       "#sk-container-id-2 div.sk-estimator.fitted {\n",
       "  /* fitted */\n",
       "  background-color: var(--sklearn-color-fitted-level-0);\n",
       "}\n",
       "\n",
       "/* on hover */\n",
       "#sk-container-id-2 div.sk-estimator:hover {\n",
       "  /* unfitted */\n",
       "  background-color: var(--sklearn-color-unfitted-level-2);\n",
       "}\n",
       "\n",
       "#sk-container-id-2 div.sk-estimator.fitted:hover {\n",
       "  /* fitted */\n",
       "  background-color: var(--sklearn-color-fitted-level-2);\n",
       "}\n",
       "\n",
       "/* Specification for estimator info (e.g. \"i\" and \"?\") */\n",
       "\n",
       "/* Common style for \"i\" and \"?\" */\n",
       "\n",
       ".sk-estimator-doc-link,\n",
       "a:link.sk-estimator-doc-link,\n",
       "a:visited.sk-estimator-doc-link {\n",
       "  float: right;\n",
       "  font-size: smaller;\n",
       "  line-height: 1em;\n",
       "  font-family: monospace;\n",
       "  background-color: var(--sklearn-color-background);\n",
       "  border-radius: 1em;\n",
       "  height: 1em;\n",
       "  width: 1em;\n",
       "  text-decoration: none !important;\n",
       "  margin-left: 1ex;\n",
       "  /* unfitted */\n",
       "  border: var(--sklearn-color-unfitted-level-1) 1pt solid;\n",
       "  color: var(--sklearn-color-unfitted-level-1);\n",
       "}\n",
       "\n",
       ".sk-estimator-doc-link.fitted,\n",
       "a:link.sk-estimator-doc-link.fitted,\n",
       "a:visited.sk-estimator-doc-link.fitted {\n",
       "  /* fitted */\n",
       "  border: var(--sklearn-color-fitted-level-1) 1pt solid;\n",
       "  color: var(--sklearn-color-fitted-level-1);\n",
       "}\n",
       "\n",
       "/* On hover */\n",
       "div.sk-estimator:hover .sk-estimator-doc-link:hover,\n",
       ".sk-estimator-doc-link:hover,\n",
       "div.sk-label-container:hover .sk-estimator-doc-link:hover,\n",
       ".sk-estimator-doc-link:hover {\n",
       "  /* unfitted */\n",
       "  background-color: var(--sklearn-color-unfitted-level-3);\n",
       "  color: var(--sklearn-color-background);\n",
       "  text-decoration: none;\n",
       "}\n",
       "\n",
       "div.sk-estimator.fitted:hover .sk-estimator-doc-link.fitted:hover,\n",
       ".sk-estimator-doc-link.fitted:hover,\n",
       "div.sk-label-container:hover .sk-estimator-doc-link.fitted:hover,\n",
       ".sk-estimator-doc-link.fitted:hover {\n",
       "  /* fitted */\n",
       "  background-color: var(--sklearn-color-fitted-level-3);\n",
       "  color: var(--sklearn-color-background);\n",
       "  text-decoration: none;\n",
       "}\n",
       "\n",
       "/* Span, style for the box shown on hovering the info icon */\n",
       ".sk-estimator-doc-link span {\n",
       "  display: none;\n",
       "  z-index: 9999;\n",
       "  position: relative;\n",
       "  font-weight: normal;\n",
       "  right: .2ex;\n",
       "  padding: .5ex;\n",
       "  margin: .5ex;\n",
       "  width: min-content;\n",
       "  min-width: 20ex;\n",
       "  max-width: 50ex;\n",
       "  color: var(--sklearn-color-text);\n",
       "  box-shadow: 2pt 2pt 4pt #999;\n",
       "  /* unfitted */\n",
       "  background: var(--sklearn-color-unfitted-level-0);\n",
       "  border: .5pt solid var(--sklearn-color-unfitted-level-3);\n",
       "}\n",
       "\n",
       ".sk-estimator-doc-link.fitted span {\n",
       "  /* fitted */\n",
       "  background: var(--sklearn-color-fitted-level-0);\n",
       "  border: var(--sklearn-color-fitted-level-3);\n",
       "}\n",
       "\n",
       ".sk-estimator-doc-link:hover span {\n",
       "  display: block;\n",
       "}\n",
       "\n",
       "/* \"?\"-specific style due to the `<a>` HTML tag */\n",
       "\n",
       "#sk-container-id-2 a.estimator_doc_link {\n",
       "  float: right;\n",
       "  font-size: 1rem;\n",
       "  line-height: 1em;\n",
       "  font-family: monospace;\n",
       "  background-color: var(--sklearn-color-background);\n",
       "  border-radius: 1rem;\n",
       "  height: 1rem;\n",
       "  width: 1rem;\n",
       "  text-decoration: none;\n",
       "  /* unfitted */\n",
       "  color: var(--sklearn-color-unfitted-level-1);\n",
       "  border: var(--sklearn-color-unfitted-level-1) 1pt solid;\n",
       "}\n",
       "\n",
       "#sk-container-id-2 a.estimator_doc_link.fitted {\n",
       "  /* fitted */\n",
       "  border: var(--sklearn-color-fitted-level-1) 1pt solid;\n",
       "  color: var(--sklearn-color-fitted-level-1);\n",
       "}\n",
       "\n",
       "/* On hover */\n",
       "#sk-container-id-2 a.estimator_doc_link:hover {\n",
       "  /* unfitted */\n",
       "  background-color: var(--sklearn-color-unfitted-level-3);\n",
       "  color: var(--sklearn-color-background);\n",
       "  text-decoration: none;\n",
       "}\n",
       "\n",
       "#sk-container-id-2 a.estimator_doc_link.fitted:hover {\n",
       "  /* fitted */\n",
       "  background-color: var(--sklearn-color-fitted-level-3);\n",
       "}\n",
       "</style><div id=\"sk-container-id-2\" class=\"sk-top-container\"><div class=\"sk-text-repr-fallback\"><pre>XGB_prob(base_score=&#x27;1.572525E-1&#x27;, booster=&#x27;gbtree&#x27;, callbacks=None,\n",
       "         colsample_bylevel=None, colsample_bynode=None, colsample_bytree=None,\n",
       "         device=None, early_stopping_rounds=None, enable_categorical=False,\n",
       "         eval_metric=None,\n",
       "         feature_types=[&#x27;int&#x27;, &#x27;float&#x27;, &#x27;float&#x27;, &#x27;int&#x27;, &#x27;int&#x27;, &#x27;int&#x27;, &#x27;int&#x27;],\n",
       "         gamma=None, grow_policy=None, importance_type=None,\n",
       "         interaction_constraints=None, learning_rate=None, max_bin=None,\n",
       "         max_cat_threshold=None, max_cat_to_onehot=None, max_delta_step=None,\n",
       "         max_depth=None, max_leaves=None, min_child_weight=None, missing=nan,\n",
       "         monotone_constraints=None, multi_strategy=None, n_estimators=None,\n",
       "         n_jobs=None, num_parallel_tree=None, objective=&#x27;binary:logistic&#x27;, ...)</pre><b>In a Jupyter environment, please rerun this cell to show the HTML representation or trust the notebook. <br />On GitHub, the HTML representation is unable to render, please try loading this page with nbviewer.org.</b></div><div class=\"sk-container\" hidden><div class=\"sk-item\"><div class=\"sk-estimator fitted sk-toggleable\"><input class=\"sk-toggleable__control sk-hidden--visually\" id=\"sk-estimator-id-2\" type=\"checkbox\" checked><label for=\"sk-estimator-id-2\" class=\"sk-toggleable__label fitted sk-toggleable__label-arrow fitted\">&nbsp;XGB_prob<span class=\"sk-estimator-doc-link fitted\">i<span>Fitted</span></span></label><div class=\"sk-toggleable__content fitted\"><pre>XGB_prob(base_score=&#x27;1.572525E-1&#x27;, booster=&#x27;gbtree&#x27;, callbacks=None,\n",
       "         colsample_bylevel=None, colsample_bynode=None, colsample_bytree=None,\n",
       "         device=None, early_stopping_rounds=None, enable_categorical=False,\n",
       "         eval_metric=None,\n",
       "         feature_types=[&#x27;int&#x27;, &#x27;float&#x27;, &#x27;float&#x27;, &#x27;int&#x27;, &#x27;int&#x27;, &#x27;int&#x27;, &#x27;int&#x27;],\n",
       "         gamma=None, grow_policy=None, importance_type=None,\n",
       "         interaction_constraints=None, learning_rate=None, max_bin=None,\n",
       "         max_cat_threshold=None, max_cat_to_onehot=None, max_delta_step=None,\n",
       "         max_depth=None, max_leaves=None, min_child_weight=None, missing=nan,\n",
       "         monotone_constraints=None, multi_strategy=None, n_estimators=None,\n",
       "         n_jobs=None, num_parallel_tree=None, objective=&#x27;binary:logistic&#x27;, ...)</pre></div> </div></div></div></div>"
      ],
      "text/plain": [
       "XGB_prob(base_score='1.572525E-1', booster='gbtree', callbacks=None,\n",
       "         colsample_bylevel=None, colsample_bynode=None, colsample_bytree=None,\n",
       "         device=None, early_stopping_rounds=None, enable_categorical=False,\n",
       "         eval_metric=None,\n",
       "         feature_types=['int', 'float', 'float', 'int', 'int', 'int', 'int'],\n",
       "         gamma=None, grow_policy=None, importance_type=None,\n",
       "         interaction_constraints=None, learning_rate=None, max_bin=None,\n",
       "         max_cat_threshold=None, max_cat_to_onehot=None, max_delta_step=None,\n",
       "         max_depth=None, max_leaves=None, min_child_weight=None, missing=nan,\n",
       "         monotone_constraints=None, multi_strategy=None, n_estimators=None,\n",
       "         n_jobs=None, num_parallel_tree=None, objective='binary:logistic', ...)"
      ]
     },
     "execution_count": 57,
     "metadata": {},
     "output_type": "execute_result"
    }
   ],
   "source": [
    "model_prob = XGB_prob()\n",
    "model_prob.load_model(dir_in + 'model_optimal_simplified.json')\n",
    "model_prob"
   ]
  },
  {
   "cell_type": "markdown",
   "id": "788cdf88-6f0a-45e4-b1a6-ef1d040f442a",
   "metadata": {
    "id": "DGE-cP-hBTPG"
   },
   "source": [
    "### Génération de signature"
   ]
  },
  {
   "cell_type": "code",
   "execution_count": 94,
   "id": "98823b52-80e1-4b43-9e8c-a4e1db6413c5",
   "metadata": {},
   "outputs": [],
   "source": [
    "from mlflow.models.signature import infer_signature"
   ]
  },
  {
   "cell_type": "code",
   "execution_count": 98,
   "id": "0ad5da56-5db1-41d7-84d0-1340f259d801",
   "metadata": {
    "colab": {
     "base_uri": "https://localhost:8080/"
    },
    "executionInfo": {
     "elapsed": 312,
     "status": "ok",
     "timestamp": 1715155460097,
     "user": {
      "displayName": "Jean Vallée",
      "userId": "09369690285448182876"
     },
     "user_tz": -120
    },
    "id": "Kf48e7Vk6t1f",
    "outputId": "15fa4be7-5d98-4b1c-b223-6a1ef3437bd4"
   },
   "outputs": [
    {
     "name": "stderr",
     "output_type": "stream",
     "text": [
      "/home/user_n/anaconda3/envs/env_proj_8/lib/python3.10/site-packages/mlflow/types/utils.py:406: UserWarning: Hint: Inferred schema contains integer column(s). Integer columns in Python cannot represent missing values. If your input data contains missing values at inference time, it will be encoded as floats and will cause a schema enforcement error. The best way to avoid this problem is to infer the model schema based on a realistic data sample (training dataset) that includes missing values. Alternatively, you can declare integer columns as doubles (float64) whenever these columns may have missing values. See `Handling Integers With Missing Values <https://www.mlflow.org/docs/latest/models.html#handling-integers-with-missing-values>`_ for more details.\n",
      "  warnings.warn(\n"
     ]
    }
   ],
   "source": [
    "model_signature = infer_signature(df_X.head(1), df_y.head(1))"
   ]
  },
  {
   "cell_type": "markdown",
   "id": "e45a5556-51f1-40ea-9651-6926f48a9fc2",
   "metadata": {},
   "source": [
    "#### Attributs"
   ]
  },
  {
   "cell_type": "code",
   "execution_count": 99,
   "id": "990cbfbf-f4b9-4925-b749-103049f5da1e",
   "metadata": {},
   "outputs": [
    {
     "data": {
      "text/plain": [
       "['CODE_GENDER_M': long (required),\n",
       " 'EXT_SOURCE_3': double (required),\n",
       " 'EXT_SOURCE_2': double (required),\n",
       " 'NAME_EDUCATION_TYPE_Secondary_or_secondary_special': long (required),\n",
       " 'NAME_EDUCATION_TYPE_Higher_education': long (required),\n",
       " 'NAME_CONTRACT_TYPE_Cash_loans': long (required),\n",
       " 'NAME_INCOME_TYPE_Working': long (required)]"
      ]
     },
     "execution_count": 99,
     "metadata": {},
     "output_type": "execute_result"
    }
   ],
   "source": [
    "list(model_signature.inputs)[:10]"
   ]
  },
  {
   "cell_type": "markdown",
   "id": "a251bc9a-9754-43f0-be16-febb62e5e57e",
   "metadata": {},
   "source": [
    "#### Cible"
   ]
  },
  {
   "cell_type": "code",
   "execution_count": 100,
   "id": "ebf7a214-1aab-4430-a60e-70a549200b5a",
   "metadata": {
    "colab": {
     "base_uri": "https://localhost:8080/"
    },
    "executionInfo": {
     "elapsed": 333,
     "status": "ok",
     "timestamp": 1715156057806,
     "user": {
      "displayName": "Jean Vallée",
      "userId": "09369690285448182876"
     },
     "user_tz": -120
    },
    "id": "akOz1-0h6t5e",
    "outputId": "c8f512d4-a861-4684-f911-04e64df61edc"
   },
   "outputs": [
    {
     "data": {
      "text/plain": [
       "['TARGET': long (required)]"
      ]
     },
     "execution_count": 100,
     "metadata": {},
     "output_type": "execute_result"
    }
   ],
   "source": [
    "list(model_signature.outputs)"
   ]
  },
  {
   "cell_type": "markdown",
   "id": "4a49cf02-9159-4317-b6fd-93844e4d9b96",
   "metadata": {},
   "source": [
    "### Mise à jour du seuil binaire"
   ]
  },
  {
   "cell_type": "code",
   "execution_count": 101,
   "id": "178ac234-3e73-4b73-a3a7-cf58c3971f24",
   "metadata": {},
   "outputs": [
    {
     "data": {
      "text/plain": [
       "0.09"
      ]
     },
     "execution_count": 101,
     "metadata": {},
     "output_type": "execute_result"
    }
   ],
   "source": [
    "dict_params_old = model_prob.get_params()\n",
    "dict_params_old['threshold']"
   ]
  },
  {
   "cell_type": "code",
   "execution_count": 102,
   "id": "285a5509-1e47-47ef-95d2-aecda6cf9106",
   "metadata": {},
   "outputs": [],
   "source": [
    "with open(dir_in + 'config.json', 'r') as json_file: dict_to_config = json.load(json_file)\n",
    "best_threshold = float(dict_to_config['best_threshold'])"
   ]
  },
  {
   "cell_type": "code",
   "execution_count": 103,
   "id": "3b13fe1b-5e9c-4c1e-9c5f-5fbe67339ae3",
   "metadata": {},
   "outputs": [],
   "source": [
    "setattr(model_prob, 'threshold', best_threshold)"
   ]
  },
  {
   "cell_type": "code",
   "execution_count": 104,
   "id": "afff6cf1-b0f4-4eb6-8710-6ba5986e3c92",
   "metadata": {},
   "outputs": [
    {
     "data": {
      "text/plain": [
       "0.09"
      ]
     },
     "execution_count": 104,
     "metadata": {},
     "output_type": "execute_result"
    }
   ],
   "source": [
    "dict_params_new = model_prob.get_params()\n",
    "dict_params_new['threshold']"
   ]
  },
  {
   "cell_type": "markdown",
   "id": "2d3483e0-c0d7-404c-a61c-b5a29ee66e93",
   "metadata": {},
   "source": [
    "## Déploiement"
   ]
  },
  {
   "cell_type": "code",
   "execution_count": 105,
   "id": "af53ada4-bec7-4ebb-845d-d863ede503b5",
   "metadata": {},
   "outputs": [],
   "source": [
    "from mlflow import sklearn as skl"
   ]
  },
  {
   "cell_type": "code",
   "execution_count": 106,
   "id": "7f1437d3-8b6b-4565-87da-608936c44c37",
   "metadata": {
    "colab": {
     "base_uri": "https://localhost:8080/"
    },
    "executionInfo": {
     "elapsed": 2937,
     "status": "ok",
     "timestamp": 1715156280842,
     "user": {
      "displayName": "Jean Vallée",
      "userId": "09369690285448182876"
     },
     "user_tz": -120
    },
    "id": "zlqal72C6t9i",
    "outputId": "cd41dc27-b1e8-4e87-d83e-2f362b02ba35"
   },
   "outputs": [
    {
     "name": "stdout",
     "output_type": "stream",
     "text": [
      "CPU times: user 72.7 ms, sys: 0 ns, total: 72.7 ms\n",
      "Wall time: 2 s\n"
     ]
    },
    {
     "name": "stderr",
     "output_type": "stream",
     "text": [
      "/home/user_n/anaconda3/envs/env_proj_8/lib/python3.10/site-packages/_distutils_hack/__init__.py:11: UserWarning: Distutils was imported before Setuptools, but importing Setuptools also replaces the `distutils` module in `sys.modules`. This may lead to undesirable behaviors or errors. To avoid these issues, avoid using distutils directly, ensure that setuptools is installed in the traditional way (e.g. not an editable install), and/or make sure that setuptools is always imported before distutils.\n",
      "  warnings.warn(\n",
      "/home/user_n/anaconda3/envs/env_proj_8/lib/python3.10/site-packages/_distutils_hack/__init__.py:26: UserWarning: Setuptools is replacing distutils.\n",
      "  warnings.warn(\"Setuptools is replacing distutils.\")\n"
     ]
    }
   ],
   "source": [
    "model_path = './data/model/'\n",
    "! rm -rf $model_path ; mkdir -p \"$model_path\"\n",
    "%time skl.save_model(model_prob, model_path, signature=model_signature)"
   ]
  },
  {
   "cell_type": "markdown",
   "id": "21598baa-f6c6-4458-b68c-3467f16b45e2",
   "metadata": {},
   "source": [
    "#### Fichiers générés"
   ]
  },
  {
   "cell_type": "code",
   "execution_count": 107,
   "id": "588ff701-a9cc-4192-b887-4ac9ed64a71f",
   "metadata": {
    "colab": {
     "base_uri": "https://localhost:8080/"
    },
    "executionInfo": {
     "elapsed": 261,
     "status": "ok",
     "timestamp": 1715156307970,
     "user": {
      "displayName": "Jean Vallée",
      "userId": "09369690285448182876"
     },
     "user_tz": -120
    },
    "id": "jEboWeVJ6uCW",
    "outputId": "74c5f97a-3473-4c00-cbc4-2b8f3e2d39c9"
   },
   "outputs": [
    {
     "name": "stdout",
     "output_type": "stream",
     "text": [
      "./data/model/\n",
      "./data/model/conda.yaml\n",
      "./data/model/python_env.yaml\n",
      "./data/model/MLmodel\n",
      "./data/model/model.pkl\n",
      "./data/model/requirements.txt\n"
     ]
    }
   ],
   "source": [
    "!find \"$model_path\""
   ]
  },
  {
   "cell_type": "markdown",
   "id": "6a8b85cc-8c01-4d8e-b034-1715f0cc8d00",
   "metadata": {},
   "source": [
    "## Lancement du serveur"
   ]
  },
  {
   "cell_type": "markdown",
   "id": "4d59289e-37cb-42c0-97e3-7db86ea18efa",
   "metadata": {},
   "source": [
    "### Arrêt"
   ]
  },
  {
   "cell_type": "code",
   "execution_count": 108,
   "id": "e610fd07-6d73-4301-9c8f-d61bbdbe2c7d",
   "metadata": {},
   "outputs": [],
   "source": [
    "port_server = '5677'"
   ]
  },
  {
   "cell_type": "code",
   "execution_count": 109,
   "id": "30e6918b-9e52-4eb3-9ff7-e3bb3a771b5a",
   "metadata": {},
   "outputs": [
    {
     "name": "stderr",
     "output_type": "stream",
     "text": [
      "[2024-07-08 14:48:09 +0200] [59280] [INFO] Handling signal: term\n",
      "[2024-07-08 14:48:09 +0200] [59281] [INFO] Worker exiting (pid: 59281)\n"
     ]
    }
   ],
   "source": [
    "mask = ':' + port_server\n",
    "! pkill -f \"$mask\""
   ]
  },
  {
   "cell_type": "markdown",
   "id": "94e6a3b8-c2e3-4739-88ff-16befe1c62d0",
   "metadata": {},
   "source": [
    "### Démarrage"
   ]
  },
  {
   "cell_type": "code",
   "execution_count": 110,
   "id": "01f1384e-e72d-4695-9dc7-40b9807b9058",
   "metadata": {},
   "outputs": [
    {
     "name": "stdout",
     "output_type": "stream",
     "text": [
      "nohup mlflow models serve -m ./data/model/ -p 5677 -h 0.0.0.0\n"
     ]
    },
    {
     "name": "stderr",
     "output_type": "stream",
     "text": [
      "[2024-07-08 14:48:10 +0200] [59280] [INFO] Shutting down: Master\n"
     ]
    }
   ],
   "source": [
    "ip_host = '0.0.0.0'\n",
    "shell_command =  'nohup mlflow models serve -m '\n",
    "shell_command += model_path + ' -p ' + port_server + ' -h ' + ip_host #+ ' --env-manager=conda'\n",
    "print(shell_command)\n",
    "get_ipython().system_raw(shell_command + ' --no-conda &')          # runs model API in background"
   ]
  },
  {
   "cell_type": "markdown",
   "id": "b250ed83-e737-4d44-9118-b0a9e474b23b",
   "metadata": {},
   "source": [
    "### Vérification d'exécution\n",
    "\n",
    "Il y a 2 processus qui tournent par serveur"
   ]
  },
  {
   "cell_type": "code",
   "execution_count": 112,
   "id": "06d42289-f835-4ebe-85ec-8e05afb6a950",
   "metadata": {},
   "outputs": [
    {
     "name": "stdout",
     "output_type": "stream",
     "text": [
      "59546 0.0.0.0:5677 mlflow.pyfunc.scoring_server.wsgi:app\n",
      "59547 0.0.0.0:5677 mlflow.pyfunc.scoring_server.wsgi:app\n"
     ]
    }
   ],
   "source": [
    "! ps aux | grep \"scoring_server\" | grep -v \"grep\" | awk '{print $2, $15, $19}'"
   ]
  },
  {
   "cell_type": "markdown",
   "id": "87b06afe-8412-4cbe-af8d-f277d3cc671f",
   "metadata": {},
   "source": [
    "## Accès distant"
   ]
  },
  {
   "cell_type": "code",
   "execution_count": 74,
   "id": "ae9f67a5-e63d-4f10-9e01-1ce81a4b6397",
   "metadata": {},
   "outputs": [
    {
     "name": "stdout",
     "output_type": "stream",
     "text": [
      "URL API    -> http://localhost:5677/invocations\n"
     ]
    }
   ],
   "source": [
    "url_api = 'localhost:' + port_server + '/invocations'\n",
    "print('URL API    -> http://' + url_api)"
   ]
  },
  {
   "cell_type": "markdown",
   "id": "8ed64ab0-0e5d-48cd-b270-ef47a2e1a641",
   "metadata": {},
   "source": [
    "### Prédictions"
   ]
  },
  {
   "cell_type": "markdown",
   "id": "1a78608d-7fd1-4fa3-9aa1-3a44bfef99b3",
   "metadata": {},
   "source": [
    "Demande par requête POST de prédiction de la cible pour une observation"
   ]
  },
  {
   "cell_type": "code",
   "execution_count": 75,
   "id": "645c7b11-d8c2-4e0a-9118-6da2df25b4be",
   "metadata": {},
   "outputs": [],
   "source": [
    "#cp ../project_7/modeling/data/out/X_T[PN].csv ./data/in/"
   ]
  },
  {
   "cell_type": "code",
   "execution_count": 76,
   "id": "5118485e-8d22-4f95-90d5-14f2c883a568",
   "metadata": {},
   "outputs": [],
   "source": [
    "nb_observations = 1"
   ]
  },
  {
   "cell_type": "markdown",
   "id": "15b4c47e-9d01-4289-8d5c-5e1b3d225708",
   "metadata": {},
   "source": [
    "### Cas TP"
   ]
  },
  {
   "cell_type": "code",
   "execution_count": 113,
   "id": "ed17ede8-fc77-4f5f-b114-f8d24e2081ab",
   "metadata": {},
   "outputs": [],
   "source": [
    "path_TP = dir_in + 'X_TP.csv'\n",
    "df_TP = pd.read_csv(path_TP)"
   ]
  },
  {
   "cell_type": "code",
   "execution_count": 114,
   "id": "d9c12652-768a-4496-a468-0a7b858171e9",
   "metadata": {
    "scrolled": true
   },
   "outputs": [
    {
     "data": {
      "text/html": [
       "<div>\n",
       "<style scoped>\n",
       "    .dataframe tbody tr th:only-of-type {\n",
       "        vertical-align: middle;\n",
       "    }\n",
       "\n",
       "    .dataframe tbody tr th {\n",
       "        vertical-align: top;\n",
       "    }\n",
       "\n",
       "    .dataframe thead th {\n",
       "        text-align: right;\n",
       "    }\n",
       "</style>\n",
       "<table border=\"1\" class=\"dataframe\">\n",
       "  <thead>\n",
       "    <tr style=\"text-align: right;\">\n",
       "      <th></th>\n",
       "      <th>CODE_GENDER_M</th>\n",
       "      <th>EXT_SOURCE_3</th>\n",
       "      <th>EXT_SOURCE_2</th>\n",
       "      <th>NAME_EDUCATION_TYPE_Secondary_or_secondary_special</th>\n",
       "      <th>NAME_EDUCATION_TYPE_Higher_education</th>\n",
       "      <th>NAME_CONTRACT_TYPE_Cash_loans</th>\n",
       "      <th>NAME_INCOME_TYPE_Working</th>\n",
       "    </tr>\n",
       "  </thead>\n",
       "  <tbody>\n",
       "    <tr>\n",
       "      <th>2212</th>\n",
       "      <td>1</td>\n",
       "      <td>0.221335</td>\n",
       "      <td>0.557089</td>\n",
       "      <td>1</td>\n",
       "      <td>0</td>\n",
       "      <td>1</td>\n",
       "      <td>1</td>\n",
       "    </tr>\n",
       "  </tbody>\n",
       "</table>\n",
       "</div>"
      ],
      "text/plain": [
       "      CODE_GENDER_M  EXT_SOURCE_3  EXT_SOURCE_2  \\\n",
       "2212              1      0.221335      0.557089   \n",
       "\n",
       "      NAME_EDUCATION_TYPE_Secondary_or_secondary_special  \\\n",
       "2212                                                  1    \n",
       "\n",
       "      NAME_EDUCATION_TYPE_Higher_education  NAME_CONTRACT_TYPE_Cash_loans  \\\n",
       "2212                                     0                              1   \n",
       "\n",
       "      NAME_INCOME_TYPE_Working  \n",
       "2212                         1  "
      ]
     },
     "execution_count": 114,
     "metadata": {},
     "output_type": "execute_result"
    }
   ],
   "source": [
    "df_TP_sample = df_TP.sample(nb_observations)\n",
    "df_TP_sample"
   ]
  },
  {
   "cell_type": "code",
   "execution_count": 115,
   "id": "80b82fdc-a5c8-42d4-8cd5-a86b48f57404",
   "metadata": {},
   "outputs": [],
   "source": [
    "def get_curl_command(df_sample, url) :\n",
    "    str_features_values = df_sample.to_json(orient='split')\n",
    "    str_data = '\\'{\"dataframe_split\": ' + str_features_values + '}\\' '\n",
    "    return 'curl -d' + str_data + '''-H 'Content-Type: application/json' -X POST ''' + url"
   ]
  },
  {
   "cell_type": "markdown",
   "id": "153e5af7-ddbe-4f3c-9e7d-586649fbf110",
   "metadata": {},
   "source": [
    "Vérifier que cette ligne de commande Linux renvoie une prédiction de classe \"1\""
   ]
  },
  {
   "cell_type": "code",
   "execution_count": 116,
   "id": "1077df43-3ad6-423a-8309-2d2053537cf0",
   "metadata": {
    "scrolled": true
   },
   "outputs": [
    {
     "name": "stdout",
     "output_type": "stream",
     "text": [
      "curl -d'{\"dataframe_split\": {\"columns\":[\"CODE_GENDER_M\",\"EXT_SOURCE_3\",\"EXT_SOURCE_2\",\"NAME_EDUCATION_TYPE_Secondary_or_secondary_special\",\"NAME_EDUCATION_TYPE_Higher_education\",\"NAME_CONTRACT_TYPE_Cash_loans\",\"NAME_INCOME_TYPE_Working\"],\"index\":[2212],\"data\":[[1,0.2213352064,0.557088648,1,0,1,1]]}}' -H 'Content-Type: application/json' -X POST localhost:5677/invocations\n"
     ]
    }
   ],
   "source": [
    "str_command = get_curl_command(df_TP_sample, url_api)\n",
    "print(str_command)"
   ]
  },
  {
   "cell_type": "raw",
   "id": "74ed1e8e-d212-4613-bf16-9e70e5830ae3",
   "metadata": {},
   "source": [
    "get_ipython().system_raw(shell_command)  "
   ]
  },
  {
   "cell_type": "markdown",
   "id": "408905dc-c01e-4221-bd8b-defabae07f30",
   "metadata": {},
   "source": [
    "### Cas TN"
   ]
  },
  {
   "cell_type": "code",
   "execution_count": 86,
   "id": "776984df-e4f4-4764-9db4-ff667be43eab",
   "metadata": {},
   "outputs": [],
   "source": [
    "path_TN = dir_in + 'X_TN.csv'\n",
    "df_TN = pd.read_csv(path_TN)"
   ]
  },
  {
   "cell_type": "code",
   "execution_count": 87,
   "id": "f566bcb9-3c42-4c05-a171-b3e80d935ad2",
   "metadata": {
    "scrolled": true
   },
   "outputs": [
    {
     "data": {
      "text/html": [
       "<div>\n",
       "<style scoped>\n",
       "    .dataframe tbody tr th:only-of-type {\n",
       "        vertical-align: middle;\n",
       "    }\n",
       "\n",
       "    .dataframe tbody tr th {\n",
       "        vertical-align: top;\n",
       "    }\n",
       "\n",
       "    .dataframe thead th {\n",
       "        text-align: right;\n",
       "    }\n",
       "</style>\n",
       "<table border=\"1\" class=\"dataframe\">\n",
       "  <thead>\n",
       "    <tr style=\"text-align: right;\">\n",
       "      <th></th>\n",
       "      <th>male</th>\n",
       "      <th>score_A</th>\n",
       "      <th>score_B</th>\n",
       "      <th>edu_level_2</th>\n",
       "      <th>edu_level_3</th>\n",
       "      <th>cash_loan</th>\n",
       "      <th>employee</th>\n",
       "    </tr>\n",
       "  </thead>\n",
       "  <tbody>\n",
       "    <tr>\n",
       "      <th>1905</th>\n",
       "      <td>0</td>\n",
       "      <td>0.75574</td>\n",
       "      <td>0.705748</td>\n",
       "      <td>0</td>\n",
       "      <td>1</td>\n",
       "      <td>1</td>\n",
       "      <td>0</td>\n",
       "    </tr>\n",
       "  </tbody>\n",
       "</table>\n",
       "</div>"
      ],
      "text/plain": [
       "      male  score_A   score_B  edu_level_2  edu_level_3  cash_loan  employee\n",
       "1905     0  0.75574  0.705748            0            1          1         0"
      ]
     },
     "execution_count": 87,
     "metadata": {},
     "output_type": "execute_result"
    }
   ],
   "source": [
    "df_TN_sample = df_TN.sample(nb_observations)\n",
    "df_TN_sample"
   ]
  },
  {
   "cell_type": "markdown",
   "id": "b37fd39e-327c-4f15-a298-931131805969",
   "metadata": {},
   "source": [
    "Vérifier que cette ligne de commande Linux renvoie une prédiction de classe \"0\""
   ]
  },
  {
   "cell_type": "code",
   "execution_count": 88,
   "id": "5ebdb6e2-0359-4903-a38d-305e87f0a56d",
   "metadata": {
    "scrolled": true
   },
   "outputs": [
    {
     "name": "stdout",
     "output_type": "stream",
     "text": [
      "curl -d'{\"dataframe_split\": {\"columns\":[\"male\",\"score_A\",\"score_B\",\"edu_level_2\",\"edu_level_3\",\"cash_loan\",\"employee\"],\"index\":[1905],\"data\":[[0,0.7557400502,0.7057476837,0,1,1,0]]}}' -H 'Content-Type: application/json' -X POST localhost:5677/invocations\n"
     ]
    }
   ],
   "source": [
    "shell_command = get_curl_command(df_TN_sample, url_api)\n",
    "print(shell_command)"
   ]
  },
  {
   "cell_type": "code",
   "execution_count": 89,
   "id": "e5b30112-9d36-4dde-b7bc-954bf751395e",
   "metadata": {},
   "outputs": [
    {
     "name": "stdout",
     "output_type": "stream",
     "text": [
      "{\"error_code\": \"BAD_REQUEST\", \"message\": \"Encountered an unexpected error while evaluating the model. Verify that the serialized input Dataframe is compatible with the model for inference.\", \"stack_trace\": \"Traceback (most recent call last):\\n  File \\\"/home/user_n/anaconda3/envs/env_proj_8/lib/python3.10/site-packages/mlflow/pyfunc/scoring_server/__init__.py\\\", line 367, in invocations\\n    raw_predictions = model.predict(data, params=params)\\n  File \\\"/home/user_n/anaconda3/envs/env_proj_8/lib/python3.10/site-packages/mlflow/pyfunc/__init__.py\\\", line 737, in predict\\n    return self._predict(data, params)\\n  File \\\"/home/user_n/anaconda3/envs/env_proj_8/lib/python3.10/site-packages/mlflow/pyfunc/__init__.py\\\", line 769, in _predict\\n    return self._predict_fn(data, params=params)\\n  File \\\"/home/user_n/anaconda3/envs/env_proj_8/lib/python3.10/site-packages/mlflow/sklearn/__init__.py\\\", line 534, in predict\\n    return self.sklearn_model.predict(data)\\n  File \\\"/tmp/ipykernel_58995/1095210415.py\\\", line 9, in predict\\n  File \\\"/home/user_n/anaconda3/envs/env_proj_8/lib/python3.10/site-packages/xgboost/sklearn.py\\\", line 1644, in predict_proba\\n    class_probs = super().predict(\\n  File \\\"/home/user_n/anaconda3/envs/env_proj_8/lib/python3.10/site-packages/xgboost/sklearn.py\\\", line 1186, in predict\\n    predts = self.get_booster().inplace_predict(\\n  File \\\"/home/user_n/anaconda3/envs/env_proj_8/lib/python3.10/site-packages/xgboost/core.py\\\", line 2510, in inplace_predict\\n    self._validate_features(fns)\\n  File \\\"/home/user_n/anaconda3/envs/env_proj_8/lib/python3.10/site-packages/xgboost/core.py\\\", line 3075, in _validate_features\\n    raise ValueError(msg.format(self.feature_names, feature_names))\\nValueError: feature_names mismatch: ['CODE_GENDER_M', 'EXT_SOURCE_3', 'EXT_SOURCE_2', 'NAME_EDUCATION_TYPE_Secondary_or_secondary_special', 'NAME_EDUCATION_TYPE_Higher_education', 'NAME_CONTRACT_TYPE_Cash_loans', 'NAME_INCOME_TYPE_Working'] ['male', 'score_A', 'score_B', 'edu_level_2', 'edu_level_3', 'cash_loan', 'employee']\\nexpected EXT_SOURCE_2, NAME_EDUCATION_TYPE_Secondary_or_secondary_special, NAME_CONTRACT_TYPE_Cash_loans, NAME_EDUCATION_TYPE_Higher_education, CODE_GENDER_M, EXT_SOURCE_3, NAME_INCOME_TYPE_Working in input data\\ntraining data did not have the following fields: employee, edu_level_2, edu_level_3, score_B, male, cash_loan, score_A\\n\"}"
     ]
    },
    {
     "name": "stderr",
     "output_type": "stream",
     "text": [
      "  % Total    % Received % Xferd  Average Speed   Time    Time     Time  Current\n",
      "                                 Dload  Upload   Total   Spent    Left  Speed\n",
      "100  2569  100  2395  100   174   167k  12428 --:--:-- --:--:-- --:--:--  179k\n"
     ]
    }
   ],
   "source": [
    "get_ipython().system_raw(shell_command)  "
   ]
  },
  {
   "cell_type": "markdown",
   "id": "70757f93-4bb1-4559-8686-9374fc0441c9",
   "metadata": {
    "id": "gjz3f_X5HkFa"
   },
   "source": [
    "# Fin du traitement"
   ]
  },
  {
   "cell_type": "code",
   "execution_count": 254,
   "id": "4c0794e0-460f-40f0-b258-59ff1547f33d",
   "metadata": {
    "colab": {
     "base_uri": "https://localhost:8080/",
     "height": 141
    },
    "executionInfo": {
     "elapsed": 284,
     "status": "error",
     "timestamp": 1713256883996,
     "user": {
      "displayName": "Jean Vallée",
      "userId": "09369690285448182876"
     },
     "user_tz": -120
    },
    "id": "Ubs3bkasHeR1",
    "outputId": "a53ae3c6-07d7-4c06-e6ed-7f245b37748a"
   },
   "outputs": [
    {
     "ename": "AssertionError",
     "evalue": "",
     "output_type": "error",
     "traceback": [
      "\u001b[0;31m---------------------------------------------------------------------------\u001b[0m",
      "\u001b[0;31mAssertionError\u001b[0m                            Traceback (most recent call last)",
      "Cell \u001b[0;32mIn[254], line 1\u001b[0m\n\u001b[0;32m----> 1\u001b[0m \u001b[38;5;28;01massert\u001b[39;00m(\u001b[38;5;28;01mFalse\u001b[39;00m)\n",
      "\u001b[0;31mAssertionError\u001b[0m: "
     ]
    }
   ],
   "source": [
    "assert(False) # prevents the execution of following cells"
   ]
  },
  {
   "cell_type": "markdown",
   "id": "4006864e-6c5e-4520-a790-66274c152ce8",
   "metadata": {
    "id": "GgDFI_ctDgx1"
   },
   "source": [
    "# Annexes"
   ]
  },
  {
   "cell_type": "code",
   "execution_count": null,
   "id": "b97a76de-8320-4a9d-afd2-cf3c1a4dc699",
   "metadata": {},
   "outputs": [],
   "source": []
  }
 ],
 "metadata": {
  "kernelspec": {
   "display_name": "Python 3 (ipykernel)",
   "language": "python",
   "name": "python3"
  },
  "language_info": {
   "codemirror_mode": {
    "name": "ipython",
    "version": 3
   },
   "file_extension": ".py",
   "mimetype": "text/x-python",
   "name": "python",
   "nbconvert_exporter": "python",
   "pygments_lexer": "ipython3",
   "version": "3.10.12"
  }
 },
 "nbformat": 4,
 "nbformat_minor": 5
}
