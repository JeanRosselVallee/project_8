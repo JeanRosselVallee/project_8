{
 "cells": [
  {
   "cell_type": "markdown",
   "id": "c777d4a4-52f5-4605-9545-2410420d6d23",
   "metadata": {},
   "source": [
    "# Initialization"
   ]
  },
  {
   "cell_type": "code",
   "execution_count": 11,
   "id": "8320eac9-9bf5-4b49-87b2-eb054e764c03",
   "metadata": {},
   "outputs": [],
   "source": [
    "#! pip install --quiet streamlit plotly"
   ]
  },
  {
   "cell_type": "code",
   "execution_count": 15,
   "id": "305ff394-6417-4f30-bb4b-47d83b101aa0",
   "metadata": {},
   "outputs": [
    {
     "name": "stdout",
     "output_type": "stream",
     "text": [
      "Note: you may need to restart the kernel to use updated packages.\n"
     ]
    }
   ],
   "source": [
    "pip install --quiet plotly"
   ]
  },
  {
   "cell_type": "code",
   "execution_count": 31,
   "id": "49c0eb91-dd63-49b2-a0e5-cd3463d87daa",
   "metadata": {},
   "outputs": [],
   "source": [
    "import streamlit as st\n",
    "import pandas as pd\n",
    "import numpy as np"
   ]
  },
  {
   "cell_type": "markdown",
   "id": "e65b037e-a565-456d-9768-843fb85d8f16",
   "metadata": {},
   "source": [
    "# Folder Contents"
   ]
  },
  {
   "cell_type": "code",
   "execution_count": 4,
   "id": "fc780ff5-de1d-4c7d-83f9-af45f19c26ab",
   "metadata": {},
   "outputs": [
    {
     "data": {
      "text/plain": [
       "'C:\\\\Users\\\\Jean\\\\OCR\\\\git\\\\project_8'"
      ]
     },
     "execution_count": 4,
     "metadata": {},
     "output_type": "execute_result"
    }
   ],
   "source": [
    "pwd"
   ]
  },
  {
   "cell_type": "code",
   "execution_count": 4,
   "id": "4df0cec9-5ec3-40fb-88e6-ae95fe88ad26",
   "metadata": {},
   "outputs": [],
   "source": [
    "path_code = 'Index.py'"
   ]
  },
  {
   "cell_type": "code",
   "execution_count": 8,
   "id": "21899c12-39f0-4832-9024-e8012689c060",
   "metadata": {},
   "outputs": [
    {
     "name": "stdout",
     "output_type": "stream",
     "text": [
      "Index.py\n"
     ]
    }
   ],
   "source": [
    "ls $path_code"
   ]
  },
  {
   "cell_type": "code",
   "execution_count": 9,
   "id": "5f8f55a1-2290-439a-9a71-08ed8900d4c1",
   "metadata": {
    "scrolled": true
   },
   "outputs": [
    {
     "name": "stdout",
     "output_type": "stream",
     "text": [
      "'''\n",
      "Index.py\n",
      "Main page of Streamlit app\n",
      "'''\n",
      "\n",
      "import streamlit as st\n",
      "\n",
      "st.set_page_config(\n",
      "\tpage_title=\"Hello\",\n",
      "\tpage_icon=\"👋\",\n",
      "\tlayout=\"wide\"\t\n",
      ")\n",
      "\n",
      "# Customize the sidebar\n",
      "st.sidebar.title(\"About\")\n",
      "st.sidebar.info(\"\"\"\n",
      "\tWeb App URL: <https://project8-ocr.streamlit.app/>\n",
      "\tGitHub Repository: <https://github.com/JeanRosselVallee/project_8>\n",
      "\t\"\"\")\n",
      "st.sidebar.image(\"https://www.whenthebanksaysno.co.uk/wp-content/uploads/2023/05/D9585792-ED4C-4363-900E-1EDCE31B99B1.jpeg\")\n",
      "\n",
      "# Customize page title\n",
      "st.title(\"Credit Application Dashboard\")\n",
      "\n",
      "st.markdown(\n",
      "    \"\"\"\n",
      "    This multipage app template demonstrates various interactive web apps created using [streamlit](https://streamlit.io) and [leafmap](https://leafmap.org). It is an open-source project and you are very welcome to contribute to the [GitHub repository](https://github.com/giswqs/streamlit-multipage-template).\n",
      "    \"\"\"\n",
      ")\n",
      "\n",
      "st.header(\"Instructions\")\n",
      "\n",
      "markdown = \"\"\"\n",
      "1. Select a client's application for credit\n",
      "2. Find your favorite emoji from https://emojipedia.org.\n",
      "4. Add a new app to the `pages/` directory with an emoji in the file name, e.g., `1_🚀_Chart.py`.\n",
      "\"\"\"\n",
      "\n",
      "st.write(\"# Welcome to Streamlit! 👋\")\n",
      "\n",
      "st.sidebar.success(\"Select a demo above.\")\n",
      "\n",
      "st.markdown(\n",
      "\t'''\n",
      "\t# Credit Application Dashboard\n",
      "\t- Customer Profile\n",
      "\t- Simulation \n",
      "'''\n",
      ")\n",
      "\n",
      "\n",
      "st.markdown(markdown)\n"
     ]
    }
   ],
   "source": [
    "cat $path_code"
   ]
  },
  {
   "cell_type": "markdown",
   "id": "4361edd3-cfb2-4cc4-a2be-18a47efdc27a",
   "metadata": {},
   "source": [
    "# Launch App on LocalHost"
   ]
  },
  {
   "cell_type": "code",
   "execution_count": 5,
   "id": "526bf98c-2824-40eb-bc9b-ea020f9dbef5",
   "metadata": {},
   "outputs": [
    {
     "name": "stdout",
     "output_type": "stream",
     "text": [
      "^C\n"
     ]
    }
   ],
   "source": [
    "! streamlit run $path_code"
   ]
  },
  {
   "cell_type": "markdown",
   "id": "4dbbc616-cf79-4307-a1da-6e07f4ac1671",
   "metadata": {},
   "source": [
    "# Commandes Git"
   ]
  },
  {
   "cell_type": "raw",
   "id": "dd6fca3e-c741-4a56-8f81-8f907278c220",
   "metadata": {},
   "source": [
    "echo \"# project_8\" >> README.md\n",
    "git init\n",
    "git add README.md\n",
    "git commit -m \"first commit\"\n",
    "git branch -M main\n",
    "git remote add origin https://github.com/JeanRosselVallee/project_8.git\n",
    "git push -u origin main\n",
    "\n",
    "git remote add origin https://github.com/JeanRosselVallee/project_8.git\n",
    "git branch -M main\n",
    "git push -u origin main"
   ]
  },
  {
   "cell_type": "markdown",
   "id": "46c378af-f9b0-49a1-bcd7-bc3e8ed968d6",
   "metadata": {},
   "source": [
    "# Import Data from Project 7"
   ]
  },
  {
   "cell_type": "markdown",
   "id": "d485068d-f2fc-44cd-a898-9e06a829e3a6",
   "metadata": {},
   "source": [
    "## Choix du jeu de données"
   ]
  },
  {
   "cell_type": "markdown",
   "id": "ed785044-4814-4fbe-bd67-4a82b5625a8b",
   "metadata": {},
   "source": [
    "Les prédictions se feront sur les applications du jeu de test parce que le modèle a été entraîné sur celui d'entraînement"
   ]
  },
  {
   "cell_type": "code",
   "execution_count": 76,
   "id": "780552a6-9b42-4d1c-a43e-7037b96f970c",
   "metadata": {},
   "outputs": [
    {
     "name": "stdout",
     "output_type": "stream",
     "text": [
      "../project_7/modeling/data/out/X_test_2.csv\n",
      "../project_7/modeling/data/out/y_pred_4.csv\n",
      "../project_7/modeling/data/out/y_test_2.csv\n"
     ]
    }
   ],
   "source": [
    "ls ../project_7/modeling/data/out/*test_2.csv ../project_7/modeling/data/out/*pred*.csv"
   ]
  },
  {
   "cell_type": "code",
   "execution_count": 77,
   "id": "603aafa4-479f-4c43-8e5f-41f7561fd05e",
   "metadata": {},
   "outputs": [],
   "source": [
    "cp ../project_7/modeling/data/out/*_test_2.csv ./data/in/"
   ]
  },
  {
   "cell_type": "code",
   "execution_count": 89,
   "id": "d3a1c7e0-d8b8-4825-8ccf-30744b0da1c6",
   "metadata": {},
   "outputs": [],
   "source": [
    "cp ../project_7/test_api/data/li_features.txt ./data/in/"
   ]
  },
  {
   "cell_type": "code",
   "execution_count": 90,
   "id": "7c070ddf-31e5-4589-876e-e8fd2cc3687e",
   "metadata": {},
   "outputs": [
    {
     "name": "stdout",
     "output_type": "stream",
     "text": [
      "li_features.txt  X_test_2.csv  y_pred_4.csv  y_test_2.csv\n"
     ]
    }
   ],
   "source": [
    "ls ./data/in/"
   ]
  },
  {
   "cell_type": "code",
   "execution_count": 91,
   "id": "4c6e1bdb-e3d1-488e-ad6e-49d3b4613037",
   "metadata": {},
   "outputs": [
    {
     "name": "stdout",
     "output_type": "stream",
     "text": [
      "1 ./data/in/li_features.txt\n",
      "48679 ./data/in/X_test_2.csv\n",
      "48679 ./data/in/y_pred_4.csv\n",
      "48679 ./data/in/y_test_2.csv\n"
     ]
    }
   ],
   "source": [
    "! for file_i in ./data/in/* ; do wc -l $file_i ; done"
   ]
  },
  {
   "cell_type": "markdown",
   "id": "732bd023-0975-42a5-b0a4-b22f1b1be2be",
   "metadata": {},
   "source": [
    "### Chargement"
   ]
  },
  {
   "cell_type": "code",
   "execution_count": 195,
   "id": "49be24b3-8023-4c88-8681-24883d85dd5e",
   "metadata": {},
   "outputs": [],
   "source": [
    "dir_in = './data/in/'"
   ]
  },
  {
   "cell_type": "code",
   "execution_count": 153,
   "id": "d8e6de51-8e09-49ef-927b-798fd2f6212f",
   "metadata": {},
   "outputs": [],
   "source": [
    "def load_data(file):\n",
    "    try    : \n",
    "        df_contents = pd.read_csv(file) .rename(columns={'Unnamed: 0': 'request_id'}) \\\n",
    "          pip install --quiet                               .set_index('request_id')\n",
    "        return df_contents\n",
    "    except Exception as e: \n",
    "        print(f'Could not open file {file}: {e}')"
   ]
  },
  {
   "cell_type": "markdown",
   "id": "3c77c9c8-9885-40f9-80a5-30c631b95063",
   "metadata": {},
   "source": [
    "#### Attributs"
   ]
  },
  {
   "cell_type": "code",
   "execution_count": 154,
   "id": "da3369e2-f0e5-477a-8803-f67c386e1637",
   "metadata": {},
   "outputs": [
    {
     "data": {
      "text/plain": [
       "(48678, 125)"
      ]
     },
     "execution_count": 154,
     "metadata": {},
     "output_type": "execute_result"
    }
   ],
   "source": [
    "path_X = dir_in + 'X_test_2.csv'\n",
    "df_X = load_data(path_X)\n",
    "df_X.shape"
   ]
  },
  {
   "cell_type": "code",
   "execution_count": 155,
   "id": "ee65aa9f-c90a-4eda-9bd2-f8afe0b3c0af",
   "metadata": {},
   "outputs": [
    {
     "data": {
      "text/plain": [
       "['CODE_GENDER_M',\n",
       " 'EXT_SOURCE_3',\n",
       " 'EXT_SOURCE_2',\n",
       " 'NAME_EDUCATION_TYPE_Secondary_or_secondary_special',\n",
       " 'NAME_EDUCATION_TYPE_Higher_education',\n",
       " 'NAME_CONTRACT_TYPE_Cash_loans',\n",
       " 'NAME_INCOME_TYPE_Working']"
      ]
     },
     "execution_count": 155,
     "metadata": {},
     "output_type": "execute_result"
    }
   ],
   "source": [
    "with open(dir_in + 'li_features.txt') as file_object:\n",
    "    str_li_features = file_object.read()\n",
    "li_features = eval(str_li_features)\n",
    "li_features"
   ]
  },
  {
   "cell_type": "code",
   "execution_count": 157,
   "id": "40146843-415b-47c2-897e-04b6f2107b79",
   "metadata": {},
   "outputs": [
    {
     "data": {
      "text/html": [
       "<div>\n",
       "<style scoped>\n",
       "    .dataframe tbody tr th:only-of-type {\n",
       "        vertical-align: middle;\n",
       "    }\n",
       "\n",
       "    .dataframe tbody tr th {\n",
       "        vertical-align: top;\n",
       "    }\n",
       "\n",
       "    .dataframe thead th {\n",
       "        text-align: right;\n",
       "    }\n",
       "</style>\n",
       "<table border=\"1\" class=\"dataframe\">\n",
       "  <thead>\n",
       "    <tr style=\"text-align: right;\">\n",
       "      <th></th>\n",
       "      <th>CODE_GENDER_M</th>\n",
       "      <th>EXT_SOURCE_3</th>\n",
       "      <th>EXT_SOURCE_2</th>\n",
       "      <th>NAME_EDUCATION_TYPE_Secondary_or_secondary_special</th>\n",
       "      <th>NAME_EDUCATION_TYPE_Higher_education</th>\n",
       "      <th>NAME_CONTRACT_TYPE_Cash_loans</th>\n",
       "      <th>NAME_INCOME_TYPE_Working</th>\n",
       "    </tr>\n",
       "    <tr>\n",
       "      <th>request_id</th>\n",
       "      <th></th>\n",
       "      <th></th>\n",
       "      <th></th>\n",
       "      <th></th>\n",
       "      <th></th>\n",
       "      <th></th>\n",
       "      <th></th>\n",
       "    </tr>\n",
       "  </thead>\n",
       "  <tbody>\n",
       "    <tr>\n",
       "      <th>155094</th>\n",
       "      <td>0</td>\n",
       "      <td>0.770087</td>\n",
       "      <td>0.607697</td>\n",
       "      <td>0</td>\n",
       "      <td>1</td>\n",
       "      <td>1</td>\n",
       "      <td>0</td>\n",
       "    </tr>\n",
       "  </tbody>\n",
       "</table>\n",
       "</div>"
      ],
      "text/plain": [
       "            CODE_GENDER_M  EXT_SOURCE_3  EXT_SOURCE_2  \\\n",
       "request_id                                              \n",
       "155094                  0      0.770087      0.607697   \n",
       "\n",
       "            NAME_EDUCATION_TYPE_Secondary_or_secondary_special  \\\n",
       "request_id                                                       \n",
       "155094                                                      0    \n",
       "\n",
       "            NAME_EDUCATION_TYPE_Higher_education  \\\n",
       "request_id                                         \n",
       "155094                                         1   \n",
       "\n",
       "            NAME_CONTRACT_TYPE_Cash_loans  NAME_INCOME_TYPE_Working  \n",
       "request_id                                                           \n",
       "155094                                  1                         0  "
      ]
     },
     "metadata": {},
     "output_type": "display_data"
    },
    {
     "data": {
      "text/plain": [
       "(48678, 7)"
      ]
     },
     "execution_count": 157,
     "metadata": {},
     "output_type": "execute_result"
    }
   ],
   "source": [
    "df_X = df_X[li_features]\n",
    "display(df_X.head(1))\n",
    "df_X.shape"
   ]
  },
  {
   "cell_type": "markdown",
   "id": "49a89636-4a77-4f2c-95a6-b4bd85f33e3c",
   "metadata": {},
   "source": [
    "#### Cible"
   ]
  },
  {
   "cell_type": "code",
   "execution_count": 158,
   "id": "99100e90-da8e-4a47-95ce-f69e82e2b9f3",
   "metadata": {},
   "outputs": [
    {
     "data": {
      "text/html": [
       "<div>\n",
       "<style scoped>\n",
       "    .dataframe tbody tr th:only-of-type {\n",
       "        vertical-align: middle;\n",
       "    }\n",
       "\n",
       "    .dataframe tbody tr th {\n",
       "        vertical-align: top;\n",
       "    }\n",
       "\n",
       "    .dataframe thead th {\n",
       "        text-align: right;\n",
       "    }\n",
       "</style>\n",
       "<table border=\"1\" class=\"dataframe\">\n",
       "  <thead>\n",
       "    <tr style=\"text-align: right;\">\n",
       "      <th></th>\n",
       "      <th>TARGET</th>\n",
       "    </tr>\n",
       "    <tr>\n",
       "      <th>request_id</th>\n",
       "      <th></th>\n",
       "    </tr>\n",
       "  </thead>\n",
       "  <tbody>\n",
       "    <tr>\n",
       "      <th>155094</th>\n",
       "      <td>0</td>\n",
       "    </tr>\n",
       "  </tbody>\n",
       "</table>\n",
       "</div>"
      ],
      "text/plain": [
       "            TARGET\n",
       "request_id        \n",
       "155094           0"
      ]
     },
     "metadata": {},
     "output_type": "display_data"
    }
   ],
   "source": [
    "path_y = dir_in + 'y_test_2.csv'\n",
    "df_y = load_data(path_y)\n",
    "df_y.shape\n",
    "display(df_y.head(1))"
   ]
  },
  {
   "cell_type": "markdown",
   "id": "8de152b3-bb63-4e2e-8105-f161c93a896e",
   "metadata": {},
   "source": [
    "### Jointure d'attributs et cible"
   ]
  },
  {
   "cell_type": "code",
   "execution_count": 161,
   "id": "974795f7-090d-427e-88ff-45e42ac33b54",
   "metadata": {},
   "outputs": [
    {
     "data": {
      "text/html": [
       "<div>\n",
       "<style scoped>\n",
       "    .dataframe tbody tr th:only-of-type {\n",
       "        vertical-align: middle;\n",
       "    }\n",
       "\n",
       "    .dataframe tbody tr th {\n",
       "        vertical-align: top;\n",
       "    }\n",
       "\n",
       "    .dataframe thead th {\n",
       "        text-align: right;\n",
       "    }\n",
       "</style>\n",
       "<table border=\"1\" class=\"dataframe\">\n",
       "  <thead>\n",
       "    <tr style=\"text-align: right;\">\n",
       "      <th></th>\n",
       "      <th>male</th>\n",
       "      <th>score_A</th>\n",
       "      <th>score_B</th>\n",
       "      <th>edu_level_2</th>\n",
       "      <th>edu_level_3</th>\n",
       "      <th>cash_loan</th>\n",
       "      <th>employee</th>\n",
       "      <th>class</th>\n",
       "    </tr>\n",
       "    <tr>\n",
       "      <th>request_id</th>\n",
       "      <th></th>\n",
       "      <th></th>\n",
       "      <th></th>\n",
       "      <th></th>\n",
       "      <th></th>\n",
       "      <th></th>\n",
       "      <th></th>\n",
       "      <th></th>\n",
       "    </tr>\n",
       "  </thead>\n",
       "  <tbody>\n",
       "    <tr>\n",
       "      <th>155094</th>\n",
       "      <td>0</td>\n",
       "      <td>0.770087</td>\n",
       "      <td>0.607697</td>\n",
       "      <td>0</td>\n",
       "      <td>1</td>\n",
       "      <td>1</td>\n",
       "      <td>0</td>\n",
       "      <td>0</td>\n",
       "    </tr>\n",
       "  </tbody>\n",
       "</table>\n",
       "</div>"
      ],
      "text/plain": [
       "            male   score_A   score_B  edu_level_2  edu_level_3  cash_loan  \\\n",
       "request_id                                                                  \n",
       "155094         0  0.770087  0.607697            0            1          1   \n",
       "\n",
       "            employee  class  \n",
       "request_id                   \n",
       "155094             0      0  "
      ]
     },
     "metadata": {},
     "output_type": "display_data"
    },
    {
     "data": {
      "text/plain": [
       "(48678, 8)"
      ]
     },
     "execution_count": 161,
     "metadata": {},
     "output_type": "execute_result"
    }
   ],
   "source": [
    "df_data = df_X.join(df_y)\n",
    "df_data.columns = ['male', 'score_A', 'score_B', 'edu_level_2', 'edu_level_3', 'cash_loan', 'employee', 'class']\n",
    "display(df_data.head(1))\n",
    "df_data.shape"
   ]
  },
  {
   "cell_type": "markdown",
   "id": "df0da274-33c0-416d-b08b-1c48ee8b8080",
   "metadata": {
    "id": "l1DafD3-zrSA"
   },
   "source": [
    "### Sauvegarde"
   ]
  },
  {
   "cell_type": "code",
   "execution_count": 174,
   "id": "ba13de19-289d-46a9-91b5-f6a8ff919117",
   "metadata": {},
   "outputs": [],
   "source": [
    "df_data.to_csv(dir_in + 'data.csv')"
   ]
  },
  {
   "cell_type": "code",
   "execution_count": 179,
   "id": "f1c41eba-ab65-4cc0-9737-2ca27d5d776a",
   "metadata": {},
   "outputs": [
    {
     "name": "stdout",
     "output_type": "stream",
     "text": [
      "./data/in//data.csv\n"
     ]
    }
   ],
   "source": [
    "ls $dir_in/data.csv"
   ]
  },
  {
   "cell_type": "code",
   "execution_count": 184,
   "id": "83334f29-1534-4440-81fa-587f5b984b8b",
   "metadata": {},
   "outputs": [
    {
     "name": "stdout",
     "output_type": "stream",
     "text": [
      "request_id,male,score_A,score_B,edu_level_2,edu_level_3,cash_loan,employee,class\n",
      "155094,0,0.7700870700124128,0.6076973714617412,0,1,1,0,0\n",
      "74108,0,0.4258928980051529,0.7318427244611323,1,0,1,1,0\n"
     ]
    }
   ],
   "source": [
    "! head -n 3 $dir_in/data.csv"
   ]
  },
  {
   "cell_type": "markdown",
   "id": "2c3f8f4f-2205-4663-af61-50eadd85700f",
   "metadata": {},
   "source": [
    "## Choix du modèle"
   ]
  },
  {
   "cell_type": "markdown",
   "id": "1721e670-acfd-4509-88e1-7b4b63a93a6e",
   "metadata": {},
   "source": [
    "On copie le modèle de prédiction le plus récent: celui deployé en pré-Prod car celui en Prod est absent du dépôt Git"
   ]
  },
  {
   "cell_type": "code",
   "execution_count": null,
   "id": "5de90270-8ce0-4822-8c1d-2fa2a939c336",
   "metadata": {},
   "outputs": [],
   "source": [
    "cp ../project_7/api/staging_model/* ./data/model/"
   ]
  },
  {
   "cell_type": "markdown",
   "id": "1a1e13c2-100e-460a-91e4-893551185884",
   "metadata": {},
   "source": [
    "# API"
   ]
  },
  {
   "cell_type": "markdown",
   "id": "6a8b85cc-8c01-4d8e-b034-1715f0cc8d00",
   "metadata": {},
   "source": [
    "## Lancement du serveur"
   ]
  },
  {
   "cell_type": "markdown",
   "id": "3c541ebf-04e7-45f0-92e6-8476b470fb10",
   "metadata": {},
   "source": [
    "### Inialisation"
   ]
  },
  {
   "cell_type": "code",
   "execution_count": 210,
   "id": "7b2bc0d2-b8b8-4793-8df4-0819666f5c8e",
   "metadata": {},
   "outputs": [
    {
     "name": "stdout",
     "output_type": "stream",
     "text": [
      "Note: you may need to restart the kernel to use updated packages.\n"
     ]
    }
   ],
   "source": [
    "#pip install --quiet mlflow xgboost"
   ]
  },
  {
   "cell_type": "code",
   "execution_count": 211,
   "id": "408688b6-b2be-4096-a853-24580dc614ac",
   "metadata": {},
   "outputs": [],
   "source": [
    "import mlflow\n",
    "from xgboost import XGBClassifier"
   ]
  },
  {
   "cell_type": "code",
   "execution_count": 232,
   "id": "34f0af83-c1a1-41d0-9a34-8596667fe430",
   "metadata": {},
   "outputs": [],
   "source": [
    "mkdir -p ./data/modeling/data/out/     # Predictions backup folder "
   ]
  },
  {
   "cell_type": "markdown",
   "id": "4d59289e-37cb-42c0-97e3-7db86ea18efa",
   "metadata": {},
   "source": [
    "### Arrêt"
   ]
  },
  {
   "cell_type": "code",
   "execution_count": 236,
   "id": "e610fd07-6d73-4301-9c8f-d61bbdbe2c7d",
   "metadata": {},
   "outputs": [],
   "source": [
    "port_server = '5677'"
   ]
  },
  {
   "cell_type": "code",
   "execution_count": 249,
   "id": "30e6918b-9e52-4eb3-9ff7-e3bb3a771b5a",
   "metadata": {},
   "outputs": [],
   "source": [
    "mask = ':' + port_server\n",
    "! pkill -f \"$mask\""
   ]
  },
  {
   "cell_type": "markdown",
   "id": "94e6a3b8-c2e3-4739-88ff-16befe1c62d0",
   "metadata": {},
   "source": [
    "### Démarrage"
   ]
  },
  {
   "cell_type": "code",
   "execution_count": 250,
   "id": "01f1384e-e72d-4695-9dc7-40b9807b9058",
   "metadata": {},
   "outputs": [
    {
     "name": "stdout",
     "output_type": "stream",
     "text": [
      "mkdir -p ./data/modeling/data/out ; cd ./data/model/ ; nohup mlflow models serve -m ./ -p 5677 -h 0.0.0.0\n"
     ]
    },
    {
     "name": "stderr",
     "output_type": "stream",
     "text": [
      "2024/07/07 19:41:54 INFO mlflow.models.flavor_backend_registry: Selected backend for flavor 'python_function'\n",
      "2024/07/07 19:41:54 INFO mlflow.pyfunc.backend: === Running command 'exec gunicorn --timeout=60 -b 0.0.0.0:5677 -w 1 ${GUNICORN_CMD_ARGS} -- mlflow.pyfunc.scoring_server.wsgi:app'\n",
      "[2024-07-07 19:41:54 +0200] [43880] [INFO] Starting gunicorn 22.0.0\n",
      "[2024-07-07 19:41:54 +0200] [43880] [INFO] Listening at: http://0.0.0.0:5677 (43880)\n",
      "[2024-07-07 19:41:54 +0200] [43880] [INFO] Using worker: sync\n",
      "[2024-07-07 19:41:54 +0200] [43881] [INFO] Booting worker with pid: 43881\n",
      "2024/07/07 19:41:56 WARNING mlflow.utils.requirements_utils: Detected one or more mismatches between the model's dependencies and the current Python environment:\n",
      " - mlflow (current: 2.14.2, required: mlflow==2.14.1)\n",
      " - packaging (current: 24.1, required: packaging==23.2)\n",
      " - scikit-learn (current: 1.5.1, required: scikit-learn==1.5.0)\n",
      " - scipy (current: 1.14.0, required: scipy==1.13.1)\n",
      "To fix the mismatches, call `mlflow.pyfunc.get_model_dependencies(model_uri)` to fetch the model's environment and install dependencies using the resulting environment file.\n"
     ]
    }
   ],
   "source": [
    "ip_host = '0.0.0.0'\n",
    "shell_command =  'mkdir -p ./data/modeling/data/out ; ' # Backup dir\n",
    "shell_command += 'cd ./data/model/ ; nohup mlflow models serve -m '\n",
    "shell_command += './ -p ' + port_server + ' -h ' + ip_host\n",
    "print(shell_command)\n",
    "get_ipython().system_raw(shell_command + ' --no-conda &')          # runs model API in background"
   ]
  },
  {
   "cell_type": "markdown",
   "id": "b250ed83-e737-4d44-9118-b0a9e474b23b",
   "metadata": {},
   "source": [
    "### Vérification d'exécution\n",
    "\n",
    "Il y a 2 processus qui tournent par serveur"
   ]
  },
  {
   "cell_type": "code",
   "execution_count": 251,
   "id": "06d42289-f835-4ebe-85ec-8e05afb6a950",
   "metadata": {},
   "outputs": [
    {
     "name": "stdout",
     "output_type": "stream",
     "text": [
      "43880 0.0.0.0:5677 mlflow.pyfunc.scoring_server.wsgi:app\n",
      "43881 0.0.0.0:5677 mlflow.pyfunc.scoring_server.wsgi:app\n"
     ]
    }
   ],
   "source": [
    "! ps aux | grep \"scoring_server\" | grep -v \"grep\" | awk '{print $2, $15, $19}'"
   ]
  },
  {
   "cell_type": "markdown",
   "id": "87b06afe-8412-4cbe-af8d-f277d3cc671f",
   "metadata": {},
   "source": [
    "## Accès distant"
   ]
  },
  {
   "cell_type": "code",
   "execution_count": 240,
   "id": "ae9f67a5-e63d-4f10-9e01-1ce81a4b6397",
   "metadata": {},
   "outputs": [
    {
     "name": "stdout",
     "output_type": "stream",
     "text": [
      "URL API    -> http://localhost:5677/invocations\n"
     ]
    }
   ],
   "source": [
    "url_api = 'localhost:' + port_server + '/invocations'\n",
    "print('URL API    -> http://' + url_api)"
   ]
  },
  {
   "cell_type": "markdown",
   "id": "8ed64ab0-0e5d-48cd-b270-ef47a2e1a641",
   "metadata": {},
   "source": [
    "### Prédictions"
   ]
  },
  {
   "cell_type": "markdown",
   "id": "1a78608d-7fd1-4fa3-9aa1-3a44bfef99b3",
   "metadata": {},
   "source": [
    "Demande par requête POST de prédiction de la cible pour une observation"
   ]
  },
  {
   "cell_type": "code",
   "execution_count": 255,
   "id": "645c7b11-d8c2-4e0a-9118-6da2df25b4be",
   "metadata": {},
   "outputs": [],
   "source": [
    "cp ../project_7/modeling/data/out/X_T[PN].csv ./data/in/"
   ]
  },
  {
   "cell_type": "code",
   "execution_count": null,
   "id": "5118485e-8d22-4f95-90d5-14f2c883a568",
   "metadata": {},
   "outputs": [],
   "source": [
    "nb_observations = 1"
   ]
  },
  {
   "cell_type": "markdown",
   "id": "15b4c47e-9d01-4289-8d5c-5e1b3d225708",
   "metadata": {},
   "source": [
    "### Cas TP"
   ]
  },
  {
   "cell_type": "code",
   "execution_count": 256,
   "id": "ed17ede8-fc77-4f5f-b114-f8d24e2081ab",
   "metadata": {},
   "outputs": [],
   "source": [
    "path_TP = dir_in + 'X_TP.csv'\n",
    "df_TP = pd.read_csv(path_TP)"
   ]
  },
  {
   "cell_type": "code",
   "execution_count": 279,
   "id": "d9c12652-768a-4496-a468-0a7b858171e9",
   "metadata": {
    "scrolled": true
   },
   "outputs": [
    {
     "data": {
      "text/html": [
       "<div>\n",
       "<style scoped>\n",
       "    .dataframe tbody tr th:only-of-type {\n",
       "        vertical-align: middle;\n",
       "    }\n",
       "\n",
       "    .dataframe tbody tr th {\n",
       "        vertical-align: top;\n",
       "    }\n",
       "\n",
       "    .dataframe thead th {\n",
       "        text-align: right;\n",
       "    }\n",
       "</style>\n",
       "<table border=\"1\" class=\"dataframe\">\n",
       "  <thead>\n",
       "    <tr style=\"text-align: right;\">\n",
       "      <th></th>\n",
       "      <th>CODE_GENDER_M</th>\n",
       "      <th>EXT_SOURCE_3</th>\n",
       "      <th>EXT_SOURCE_2</th>\n",
       "      <th>NAME_EDUCATION_TYPE_Secondary_or_secondary_special</th>\n",
       "      <th>NAME_EDUCATION_TYPE_Higher_education</th>\n",
       "      <th>NAME_CONTRACT_TYPE_Cash_loans</th>\n",
       "      <th>NAME_INCOME_TYPE_Working</th>\n",
       "    </tr>\n",
       "  </thead>\n",
       "  <tbody>\n",
       "    <tr>\n",
       "      <th>2243</th>\n",
       "      <td>0</td>\n",
       "      <td>0.323311</td>\n",
       "      <td>0.327503</td>\n",
       "      <td>0</td>\n",
       "      <td>1</td>\n",
       "      <td>1</td>\n",
       "      <td>1</td>\n",
       "    </tr>\n",
       "  </tbody>\n",
       "</table>\n",
       "</div>"
      ],
      "text/plain": [
       "      CODE_GENDER_M  EXT_SOURCE_3  EXT_SOURCE_2  \\\n",
       "2243              0      0.323311      0.327503   \n",
       "\n",
       "      NAME_EDUCATION_TYPE_Secondary_or_secondary_special  \\\n",
       "2243                                                  0    \n",
       "\n",
       "      NAME_EDUCATION_TYPE_Higher_education  NAME_CONTRACT_TYPE_Cash_loans  \\\n",
       "2243                                     1                              1   \n",
       "\n",
       "      NAME_INCOME_TYPE_Working  \n",
       "2243                         1  "
      ]
     },
     "execution_count": 279,
     "metadata": {},
     "output_type": "execute_result"
    }
   ],
   "source": [
    "df_TP_sample = df_TP.sample(1)\n",
    "df_TP_sample"
   ]
  },
  {
   "cell_type": "code",
   "execution_count": 266,
   "id": "80b82fdc-a5c8-42d4-8cd5-a86b48f57404",
   "metadata": {},
   "outputs": [],
   "source": [
    "def get_curl_command(df_sample, url) :\n",
    "    str_features_values = df_sample.to_json(orient='split')\n",
    "    str_data = '\\'{\"dataframe_split\": ' + str_features_values + '}\\' '\n",
    "    return 'curl -d' + str_data + '''-H 'Content-Type: application/json' -X POST ''' + url"
   ]
  },
  {
   "cell_type": "markdown",
   "id": "153e5af7-ddbe-4f3c-9e7d-586649fbf110",
   "metadata": {},
   "source": [
    "Vérifier que cette ligne de commande Linux renvoie une prédiction de classe \"1\""
   ]
  },
  {
   "cell_type": "code",
   "execution_count": 276,
   "id": "1077df43-3ad6-423a-8309-2d2053537cf0",
   "metadata": {
    "scrolled": true
   },
   "outputs": [
    {
     "name": "stdout",
     "output_type": "stream",
     "text": [
      "curl -d'{\"dataframe_split\": {\"columns\":[\"CODE_GENDER_M\",\"EXT_SOURCE_3\",\"EXT_SOURCE_2\",\"NAME_EDUCATION_TYPE_Secondary_or_secondary_special\",\"NAME_EDUCATION_TYPE_Higher_education\",\"NAME_CONTRACT_TYPE_Cash_loans\",\"NAME_INCOME_TYPE_Working\"],\"index\":[1415],\"data\":[[0,0.0005272652,0.5148401451,1,0,1,1]]}}' -H 'Content-Type: application/json' -X POST localhost:5677/invocations\n"
     ]
    }
   ],
   "source": [
    "shell_command = get_curl_command(df_TP_sample_1, url_api)\n",
    "print(shell_command)"
   ]
  },
  {
   "cell_type": "code",
   "execution_count": 277,
   "id": "70c4403d-0e2f-4e3f-8d2c-14412b0fc008",
   "metadata": {},
   "outputs": [
    {
     "name": "stdout",
     "output_type": "stream",
     "text": [
      "{\"predictions\": [1]}"
     ]
    },
    {
     "name": "stderr",
     "output_type": "stream",
     "text": [
      "  % Total    % Received % Xferd  Average Speed   Time    Time     Time  Current\n",
      "                                 Dload  Upload   Total   Spent    Left  Speed\n",
      "100   313  100    20  100   293   1000  14650 --:--:-- --:--:-- --:--:-- 15650\n"
     ]
    }
   ],
   "source": [
    "get_ipython().system_raw(shell_command)  "
   ]
  },
  {
   "cell_type": "markdown",
   "id": "408905dc-c01e-4221-bd8b-defabae07f30",
   "metadata": {},
   "source": [
    "### Cas TN"
   ]
  },
  {
   "cell_type": "code",
   "execution_count": 261,
   "id": "776984df-e4f4-4764-9db4-ff667be43eab",
   "metadata": {},
   "outputs": [],
   "source": [
    "path_TN = dir_in + 'X_TN.csv'\n",
    "df_TN = pd.read_csv(path_TN)"
   ]
  },
  {
   "cell_type": "code",
   "execution_count": 278,
   "id": "f566bcb9-3c42-4c05-a171-b3e80d935ad2",
   "metadata": {
    "scrolled": true
   },
   "outputs": [
    {
     "data": {
      "text/html": [
       "<div>\n",
       "<style scoped>\n",
       "    .dataframe tbody tr th:only-of-type {\n",
       "        vertical-align: middle;\n",
       "    }\n",
       "\n",
       "    .dataframe tbody tr th {\n",
       "        vertical-align: top;\n",
       "    }\n",
       "\n",
       "    .dataframe thead th {\n",
       "        text-align: right;\n",
       "    }\n",
       "</style>\n",
       "<table border=\"1\" class=\"dataframe\">\n",
       "  <thead>\n",
       "    <tr style=\"text-align: right;\">\n",
       "      <th></th>\n",
       "      <th>CODE_GENDER_M</th>\n",
       "      <th>EXT_SOURCE_3</th>\n",
       "      <th>EXT_SOURCE_2</th>\n",
       "      <th>NAME_EDUCATION_TYPE_Secondary_or_secondary_special</th>\n",
       "      <th>NAME_EDUCATION_TYPE_Higher_education</th>\n",
       "      <th>NAME_CONTRACT_TYPE_Cash_loans</th>\n",
       "      <th>NAME_INCOME_TYPE_Working</th>\n",
       "    </tr>\n",
       "  </thead>\n",
       "  <tbody>\n",
       "    <tr>\n",
       "      <th>22089</th>\n",
       "      <td>0</td>\n",
       "      <td>0.75574</td>\n",
       "      <td>0.660903</td>\n",
       "      <td>1</td>\n",
       "      <td>0</td>\n",
       "      <td>1</td>\n",
       "      <td>0</td>\n",
       "    </tr>\n",
       "  </tbody>\n",
       "</table>\n",
       "</div>"
      ],
      "text/plain": [
       "       CODE_GENDER_M  EXT_SOURCE_3  EXT_SOURCE_2  \\\n",
       "22089              0       0.75574      0.660903   \n",
       "\n",
       "       NAME_EDUCATION_TYPE_Secondary_or_secondary_special  \\\n",
       "22089                                                  1    \n",
       "\n",
       "       NAME_EDUCATION_TYPE_Higher_education  NAME_CONTRACT_TYPE_Cash_loans  \\\n",
       "22089                                     0                              1   \n",
       "\n",
       "       NAME_INCOME_TYPE_Working  \n",
       "22089                         0  "
      ]
     },
     "execution_count": 278,
     "metadata": {},
     "output_type": "execute_result"
    }
   ],
   "source": [
    "df_TN_sample_1 = df_TN.sample(1)\n",
    "df_TN_sample_1"
   ]
  },
  {
   "cell_type": "markdown",
   "id": "b37fd39e-327c-4f15-a298-931131805969",
   "metadata": {},
   "source": [
    "Vérifier que cette ligne de commande Linux renvoie une prédiction de classe \"0\""
   ]
  },
  {
   "cell_type": "code",
   "execution_count": 273,
   "id": "5ebdb6e2-0359-4903-a38d-305e87f0a56d",
   "metadata": {
    "scrolled": true
   },
   "outputs": [
    {
     "name": "stdout",
     "output_type": "stream",
     "text": [
      "curl -d'{\"dataframe_split\": {\"columns\":[\"CODE_GENDER_M\",\"EXT_SOURCE_3\",\"EXT_SOURCE_2\",\"NAME_EDUCATION_TYPE_Secondary_or_secondary_special\",\"NAME_EDUCATION_TYPE_Higher_education\",\"NAME_CONTRACT_TYPE_Cash_loans\",\"NAME_INCOME_TYPE_Working\"],\"index\":[31310],\"data\":[[0,0.4031416767,0.6076348106,1,0,1,0]]}}' -H 'Content-Type: application/json' -X POST localhost:5677/invocations\n"
     ]
    }
   ],
   "source": [
    "shell_command = get_curl_command(df_TN_sample_1, url_api)\n",
    "print(shell_command)"
   ]
  },
  {
   "cell_type": "code",
   "execution_count": 274,
   "id": "e5b30112-9d36-4dde-b7bc-954bf751395e",
   "metadata": {},
   "outputs": [
    {
     "name": "stdout",
     "output_type": "stream",
     "text": [
      "{\"predictions\": [0]}"
     ]
    },
    {
     "name": "stderr",
     "output_type": "stream",
     "text": [
      "  % Total    % Received % Xferd  Average Speed   Time    Time     Time  Current\n",
      "                                 Dload  Upload   Total   Spent    Left  Speed\n",
      "100   314  100    20  100   294    869  12782 --:--:-- --:--:-- --:--:-- 13652\n"
     ]
    }
   ],
   "source": [
    "get_ipython().system_raw(shell_command)  "
   ]
  },
  {
   "cell_type": "markdown",
   "id": "70757f93-4bb1-4559-8686-9374fc0441c9",
   "metadata": {
    "id": "gjz3f_X5HkFa"
   },
   "source": [
    "# Fin du traitement"
   ]
  },
  {
   "cell_type": "code",
   "execution_count": 254,
   "id": "4c0794e0-460f-40f0-b258-59ff1547f33d",
   "metadata": {
    "colab": {
     "base_uri": "https://localhost:8080/",
     "height": 141
    },
    "executionInfo": {
     "elapsed": 284,
     "status": "error",
     "timestamp": 1713256883996,
     "user": {
      "displayName": "Jean Vallée",
      "userId": "09369690285448182876"
     },
     "user_tz": -120
    },
    "id": "Ubs3bkasHeR1",
    "outputId": "a53ae3c6-07d7-4c06-e6ed-7f245b37748a"
   },
   "outputs": [
    {
     "ename": "AssertionError",
     "evalue": "",
     "output_type": "error",
     "traceback": [
      "\u001b[0;31m---------------------------------------------------------------------------\u001b[0m",
      "\u001b[0;31mAssertionError\u001b[0m                            Traceback (most recent call last)",
      "Cell \u001b[0;32mIn[254], line 1\u001b[0m\n\u001b[0;32m----> 1\u001b[0m \u001b[38;5;28;01massert\u001b[39;00m(\u001b[38;5;28;01mFalse\u001b[39;00m)\n",
      "\u001b[0;31mAssertionError\u001b[0m: "
     ]
    }
   ],
   "source": [
    "assert(False) # prevents the execution of following cells"
   ]
  },
  {
   "cell_type": "markdown",
   "id": "4006864e-6c5e-4520-a790-66274c152ce8",
   "metadata": {
    "id": "GgDFI_ctDgx1"
   },
   "source": [
    "# Annexes"
   ]
  },
  {
   "cell_type": "code",
   "execution_count": null,
   "id": "b97a76de-8320-4a9d-afd2-cf3c1a4dc699",
   "metadata": {},
   "outputs": [],
   "source": []
  }
 ],
 "metadata": {
  "kernelspec": {
   "display_name": "Python 3 (ipykernel)",
   "language": "python",
   "name": "python3"
  },
  "language_info": {
   "codemirror_mode": {
    "name": "ipython",
    "version": 3
   },
   "file_extension": ".py",
   "mimetype": "text/x-python",
   "name": "python",
   "nbconvert_exporter": "python",
   "pygments_lexer": "ipython3",
   "version": "3.10.12"
  }
 },
 "nbformat": 4,
 "nbformat_minor": 5
}
