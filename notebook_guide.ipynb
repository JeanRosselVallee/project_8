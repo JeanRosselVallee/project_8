{
 "cells": [
  {
   "cell_type": "code",
   "execution_count": 30,
   "id": "8320eac9-9bf5-4b49-87b2-eb054e764c03",
   "metadata": {},
   "outputs": [],
   "source": [
    "#! pip install --quiet streamlit"
   ]
  },
  {
   "cell_type": "code",
   "execution_count": 31,
   "id": "49c0eb91-dd63-49b2-a0e5-cd3463d87daa",
   "metadata": {},
   "outputs": [],
   "source": [
    "import streamlit as st\n",
    "import pandas as pd\n",
    "import numpy as np"
   ]
  },
  {
   "cell_type": "code",
   "execution_count": 1,
   "id": "4df0cec9-5ec3-40fb-88e6-ae95fe88ad26",
   "metadata": {},
   "outputs": [],
   "source": [
    "path_code = 'Index.py'"
   ]
  },
  {
   "cell_type": "code",
   "execution_count": 2,
   "id": "5f8f55a1-2290-439a-9a71-08ed8900d4c1",
   "metadata": {
    "scrolled": true
   },
   "outputs": [
    {
     "name": "stdout",
     "output_type": "stream",
     "text": [
      "'''\n",
      "Index.py\n",
      "Main page of Streamlit app\n",
      "'''\n",
      "\n",
      "import streamlit as st\n",
      "\n",
      "st.set_page_config(\n",
      "    page_title=\"Hello\",\n",
      "    page_icon=\"ðŸ‘‹\",\n",
      ")\n",
      "\n",
      "st.write(\"# Welcome to Streamlit! ðŸ‘‹\")\n",
      "\n",
      "st.sidebar.success(\"Select a demo above.\")\n",
      "\n",
      "st.markdown(\n",
      "        '''\n",
      "        # Credit Application Dashboard\n",
      "        - Customer Profile\n",
      "        - Simulation \n",
      "'''\n",
      ")\n",
      "\n",
      "\n"
     ]
    }
   ],
   "source": [
    "! more $path_code"
   ]
  },
  {
   "cell_type": "code",
   "execution_count": 3,
   "id": "526bf98c-2824-40eb-bc9b-ea020f9dbef5",
   "metadata": {},
   "outputs": [
    {
     "name": "stdout",
     "output_type": "stream",
     "text": [
      "^C\n"
     ]
    }
   ],
   "source": [
    "! streamlit run $path_code"
   ]
  },
  {
   "cell_type": "raw",
   "id": "dd6fca3e-c741-4a56-8f81-8f907278c220",
   "metadata": {},
   "source": [
    "echo \"# project_8\" >> README.md\n",
    "git init\n",
    "git add README.md\n",
    "git commit -m \"first commit\"\n",
    "git branch -M main\n",
    "git remote add origin https://github.com/JeanRosselVallee/project_8.git\n",
    "git push -u origin main\n",
    "\n",
    "git remote add origin https://github.com/JeanRosselVallee/project_8.git\n",
    "git branch -M main\n",
    "git push -u origin main"
   ]
  }
 ],
 "metadata": {
  "kernelspec": {
   "display_name": "Python 3 (ipykernel)",
   "language": "python",
   "name": "python3"
  },
  "language_info": {
   "codemirror_mode": {
    "name": "ipython",
    "version": 3
   },
   "file_extension": ".py",
   "mimetype": "text/x-python",
   "name": "python",
   "nbconvert_exporter": "python",
   "pygments_lexer": "ipython3",
   "version": "3.10.14"
  }
 },
 "nbformat": 4,
 "nbformat_minor": 5
}
