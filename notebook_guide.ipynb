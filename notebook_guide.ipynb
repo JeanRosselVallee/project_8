{
 "cells": [
  {
   "cell_type": "markdown",
   "id": "c777d4a4-52f5-4605-9545-2410420d6d23",
   "metadata": {},
   "source": [
    "# Initialization"
   ]
  },
  {
   "cell_type": "code",
   "execution_count": 11,
   "id": "8320eac9-9bf5-4b49-87b2-eb054e764c03",
   "metadata": {},
   "outputs": [],
   "source": [
    "#! pip install --quiet streamlit"
   ]
  },
  {
   "cell_type": "code",
   "execution_count": 31,
   "id": "49c0eb91-dd63-49b2-a0e5-cd3463d87daa",
   "metadata": {},
   "outputs": [],
   "source": [
    "import streamlit as st\n",
    "import pandas as pd\n",
    "import numpy as np"
   ]
  },
  {
   "cell_type": "code",
   "execution_count": 6,
   "id": "305ff394-6417-4f30-bb4b-47d83b101aa0",
   "metadata": {},
   "outputs": [
    {
     "name": "stdout",
     "output_type": "stream",
     "text": [
      "Collecting plotly\n",
      "  Using cached plotly-5.22.0-py3-none-any.whl.metadata (7.1 kB)\n",
      "Requirement already satisfied: tenacity>=6.2.0 in c:\\users\\jean\\anaconda3\\envs\\env_ocr_projet_8\\lib\\site-packages (from plotly) (8.4.2)\n",
      "Requirement already satisfied: packaging in c:\\users\\jean\\anaconda3\\envs\\env_ocr_projet_8\\lib\\site-packages (from plotly) (23.2)\n",
      "Using cached plotly-5.22.0-py3-none-any.whl (16.4 MB)\n",
      "Installing collected packages: plotly\n",
      "Successfully installed plotly-5.22.0\n",
      "Note: you may need to restart the kernel to use updated packages.\n"
     ]
    }
   ],
   "source": [
    "pip install plotly"
   ]
  },
  {
   "cell_type": "markdown",
   "id": "e65b037e-a565-456d-9768-843fb85d8f16",
   "metadata": {},
   "source": [
    "# Folder Contents"
   ]
  },
  {
   "cell_type": "code",
   "execution_count": 4,
   "id": "fc780ff5-de1d-4c7d-83f9-af45f19c26ab",
   "metadata": {},
   "outputs": [
    {
     "data": {
      "text/plain": [
       "'C:\\\\Users\\\\Jean\\\\OCR\\\\git\\\\project_8'"
      ]
     },
     "execution_count": 4,
     "metadata": {},
     "output_type": "execute_result"
    }
   ],
   "source": [
    "pwd"
   ]
  },
  {
   "cell_type": "code",
   "execution_count": 4,
   "id": "4df0cec9-5ec3-40fb-88e6-ae95fe88ad26",
   "metadata": {},
   "outputs": [],
   "source": [
    "path_code = 'Index.py'"
   ]
  },
  {
   "cell_type": "code",
   "execution_count": 8,
   "id": "21899c12-39f0-4832-9024-e8012689c060",
   "metadata": {},
   "outputs": [
    {
     "name": "stdout",
     "output_type": "stream",
     "text": [
      "Index.py\n"
     ]
    }
   ],
   "source": [
    "ls $path_code"
   ]
  },
  {
   "cell_type": "code",
   "execution_count": 9,
   "id": "5f8f55a1-2290-439a-9a71-08ed8900d4c1",
   "metadata": {
    "scrolled": true
   },
   "outputs": [
    {
     "name": "stdout",
     "output_type": "stream",
     "text": [
      "'''\n",
      "Index.py\n",
      "Main page of Streamlit app\n",
      "'''\n",
      "\n",
      "import streamlit as st\n",
      "\n",
      "st.set_page_config(\n",
      "\tpage_title=\"Hello\",\n",
      "\tpage_icon=\"👋\",\n",
      "\tlayout=\"wide\"\t\n",
      ")\n",
      "\n",
      "# Customize the sidebar\n",
      "st.sidebar.title(\"About\")\n",
      "st.sidebar.info(\"\"\"\n",
      "\tWeb App URL: <https://project8-ocr.streamlit.app/>\n",
      "\tGitHub Repository: <https://github.com/JeanRosselVallee/project_8>\n",
      "\t\"\"\")\n",
      "st.sidebar.image(\"https://www.whenthebanksaysno.co.uk/wp-content/uploads/2023/05/D9585792-ED4C-4363-900E-1EDCE31B99B1.jpeg\")\n",
      "\n",
      "# Customize page title\n",
      "st.title(\"Credit Application Dashboard\")\n",
      "\n",
      "st.markdown(\n",
      "    \"\"\"\n",
      "    This multipage app template demonstrates various interactive web apps created using [streamlit](https://streamlit.io) and [leafmap](https://leafmap.org). It is an open-source project and you are very welcome to contribute to the [GitHub repository](https://github.com/giswqs/streamlit-multipage-template).\n",
      "    \"\"\"\n",
      ")\n",
      "\n",
      "st.header(\"Instructions\")\n",
      "\n",
      "markdown = \"\"\"\n",
      "1. Select a client's application for credit\n",
      "2. Find your favorite emoji from https://emojipedia.org.\n",
      "4. Add a new app to the `pages/` directory with an emoji in the file name, e.g., `1_🚀_Chart.py`.\n",
      "\"\"\"\n",
      "\n",
      "st.write(\"# Welcome to Streamlit! 👋\")\n",
      "\n",
      "st.sidebar.success(\"Select a demo above.\")\n",
      "\n",
      "st.markdown(\n",
      "\t'''\n",
      "\t# Credit Application Dashboard\n",
      "\t- Customer Profile\n",
      "\t- Simulation \n",
      "'''\n",
      ")\n",
      "\n",
      "\n",
      "st.markdown(markdown)\n"
     ]
    }
   ],
   "source": [
    "cat $path_code"
   ]
  },
  {
   "cell_type": "markdown",
   "id": "4361edd3-cfb2-4cc4-a2be-18a47efdc27a",
   "metadata": {},
   "source": [
    "# Launch App on LocalHost"
   ]
  },
  {
   "cell_type": "code",
   "execution_count": 5,
   "id": "526bf98c-2824-40eb-bc9b-ea020f9dbef5",
   "metadata": {},
   "outputs": [
    {
     "name": "stdout",
     "output_type": "stream",
     "text": [
      "^C\n"
     ]
    }
   ],
   "source": [
    "! streamlit run $path_code"
   ]
  },
  {
   "cell_type": "markdown",
   "id": "4dbbc616-cf79-4307-a1da-6e07f4ac1671",
   "metadata": {},
   "source": [
    "# Commandes Git"
   ]
  },
  {
   "cell_type": "raw",
   "id": "dd6fca3e-c741-4a56-8f81-8f907278c220",
   "metadata": {},
   "source": [
    "echo \"# project_8\" >> README.md\n",
    "git init\n",
    "git add README.md\n",
    "git commit -m \"first commit\"\n",
    "git branch -M main\n",
    "git remote add origin https://github.com/JeanRosselVallee/project_8.git\n",
    "git push -u origin main\n",
    "\n",
    "git remote add origin https://github.com/JeanRosselVallee/project_8.git\n",
    "git branch -M main\n",
    "git push -u origin main"
   ]
  },
  {
   "cell_type": "markdown",
   "id": "46c378af-f9b0-49a1-bcd7-bc3e8ed968d6",
   "metadata": {},
   "source": [
    "# Import Data from Project 7"
   ]
  },
  {
   "cell_type": "code",
   "execution_count": null,
   "id": "5de90270-8ce0-4822-8c1d-2fa2a939c336",
   "metadata": {},
   "outputs": [],
   "source": [
    "## Customer Dataset\n",
    "cp ../project_7/modeling/data/out/X_simplified_4.csv data/in/\n",
    "cp ../project_7/modeling/data/out/y_train_2.csv data/in/\n",
    "cp ../project_7/modeling/data/out/y_test_2.csv data/in/\n",
    "cp ../project_7/modeling/data/out/X_test_2.csv data/in/\n",
    "\n",
    "## Prediction Model \n",
    "cp ../project_7/api/staging_model/* ./data/model/"
   ]
  }
 ],
 "metadata": {
  "kernelspec": {
   "display_name": "Python 3 (ipykernel)",
   "language": "python",
   "name": "python3"
  },
  "language_info": {
   "codemirror_mode": {
    "name": "ipython",
    "version": 3
   },
   "file_extension": ".py",
   "mimetype": "text/x-python",
   "name": "python",
   "nbconvert_exporter": "python",
   "pygments_lexer": "ipython3",
   "version": "3.10.14"
  }
 },
 "nbformat": 4,
 "nbformat_minor": 5
}
